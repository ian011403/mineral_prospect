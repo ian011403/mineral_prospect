{
 "cells": [
  {
   "cell_type": "markdown",
   "metadata": {},
   "source": [
    "# Data processing"
   ]
  },
  {
   "cell_type": "markdown",
   "metadata": {},
   "source": [
    "# Libraries"
   ]
  },
  {
   "cell_type": "code",
   "execution_count": 1,
   "metadata": {},
   "outputs": [],
   "source": [
    "import warnings\n",
    "warnings.filterwarnings(\"ignore\")\n",
    "\n",
    "import numpy as np\n",
    "import pandas as pd\n",
    "import seaborn as sns\n",
    "import matplotlib.pyplot as plt\n",
    "from sklearn.decomposition import PCA\n",
    "\n",
    "from constants import RANDOM_FOREST_PARAMS, NUM_SELECTED, CAT_SELECTED, SELECTED_FEATURES\n",
    "\n",
    "from sklearn.ensemble import RandomForestClassifier\n",
    "from boruta import BorutaPy\n",
    "\n",
    "from dask import delayed, compute\n",
    "from dask.diagnostics import ProgressBar\n",
    "\n",
    "from skopt.space import Integer\n",
    "from skopt import gp_minimize\n",
    "\n",
    "from tqdm import tqdm\n",
    "\n",
    "from imblearn.over_sampling import SMOTE\n",
    "from imblearn.under_sampling import RandomUnderSampler\n",
    "from imblearn.pipeline import Pipeline as ImbPipeline\n",
    "\n",
    "from category_encoders import BinaryEncoder\n",
    "from sklearn.preprocessing import StandardScaler\n",
    "from sklearn.compose import ColumnTransformer\n",
    "from sklearn.pipeline import Pipeline\n",
    "from sklearn.impute import KNNImputer\n",
    "from sklearn.model_selection import RepeatedStratifiedKFold, cross_val_score\n",
    "\n",
    "import optuna\n",
    "from optuna.samplers import TPESampler\n",
    "from xgboost import XGBClassifier\n",
    "from optuna.visualization import plot_optimization_history\n",
    "from optuna.visualization import plot_param_importances\n",
    "from optuna.visualization import plot_slice"
   ]
  },
  {
   "cell_type": "markdown",
   "metadata": {},
   "source": [
    "# Data Loading"
   ]
  },
  {
   "cell_type": "code",
   "execution_count": 3,
   "metadata": {},
   "outputs": [],
   "source": [
    "X_list = []\n",
    "y_list = []\n",
    "\n",
    "X_train = pd.read_parquet(\"../../../../../data/interim/copper/X_train.parquet\")\n",
    "y_train = pd.read_parquet(\"../../../../../data/interim/copper/y_train_cat.parquet\")\n",
    "X_test = pd.read_parquet(\"../../../../../data/interim/copper/X_test_rf.parquet\")"
   ]
  },
  {
   "cell_type": "markdown",
   "metadata": {},
   "source": [
    "# Tunning with PCA"
   ]
  },
  {
   "cell_type": "markdown",
   "metadata": {},
   "source": [
    "## Setting Up Pipeline Steps"
   ]
  },
  {
   "cell_type": "code",
   "execution_count": 4,
   "metadata": {},
   "outputs": [],
   "source": [
    "NUM_SELECTED = ['COPPER_GRADE', 'LOG_10_COPPER_GRADE', 'INITIAL_COST', 'LOG_10_INITIAL_COST_PER_TONNE',\n",
    "       'INITIAL_COST_PER_TONNE', 'LOG_10_GOLD_DENSITY', 'GOLD_DENSITY']\n",
    "\n",
    "CAT_SELECTED = [\"GLOBAL_REGION\"]"
   ]
  },
  {
   "cell_type": "markdown",
   "metadata": {},
   "source": [
    "# Components Selection"
   ]
  },
  {
   "cell_type": "code",
   "execution_count": 6,
   "metadata": {},
   "outputs": [],
   "source": [
    "over = SMOTE(sampling_strategy=\"auto\")\n",
    "under = RandomUnderSampler(sampling_strategy=\"auto\")\n",
    "\n",
    "numeric_transformer = Pipeline(steps=[\n",
    "        ('scaler', StandardScaler()),\n",
    "        ('imputer', KNNImputer(n_neighbors=5)),\n",
    "        ( 'pca', PCA(n_components=len(NUM_SELECTED)))\n",
    "    ])\n",
    "\n",
    "categorical_transformer = Pipeline(steps=[\n",
    "    ('binary_encoder', BinaryEncoder())\n",
    "])\n",
    "\n",
    "preprocessor = ColumnTransformer(\n",
    "        transformers=[\n",
    "            ('num', numeric_transformer, NUM_SELECTED),\n",
    "            ('cat', categorical_transformer, [\"GLOBAL_REGION\"])\n",
    "        ]\n",
    "    )\n",
    "\n",
    "def preprocessor(X, y):\n",
    "    \n",
    "    over = SMOTE(sampling_strategy=\"auto\")\n",
    "    under = RandomUnderSampler(sampling_strategy=\"auto\")\n",
    "\n",
    "    numeric_transformer = Pipeline(steps=[\n",
    "            ('scaler', StandardScaler()),\n",
    "            ('imputer', KNNImputer(n_neighbors=5)),\n",
    "            ( 'pca', PCA(n_components=len(NUM_SELECTED)))\n",
    "        ])\n",
    "\n",
    "    categorical_transformer = Pipeline(steps=[\n",
    "        ('binary_encoder', BinaryEncoder())\n",
    "    ])\n",
    "\n",
    "    preprocessor = ColumnTransformer(\n",
    "            transformers=[\n",
    "                ('num', numeric_transformer, NUM_SELECTED),\n",
    "                ('cat', categorical_transformer, CAT_SELECTED)\n",
    "            ]\n",
    "        )\n",
    "    \n",
    "    X_pross = preprocessor.fit_transform(X)\n",
    "\n",
    "    over = SMOTE(sampling_strategy=\"auto\", random_state=42)\n",
    "    X_res, y_res = over.fit_resample(X_pross, y)\n",
    "        \n",
    "    under = RandomUnderSampler(sampling_strategy=\"auto\", random_state=42)\n",
    "    X_res, y_res = under.fit_resample(X_res, y_res)\n",
    "\n",
    "    NEW_FEATURES_NAME = [f\"PCA_{i}\" for i in range(len(NUM_SELECTED))] + [f\"GLOBAL_REGION_{i}\" for i in range(3)]\n",
    "\n",
    "    X_res = pd.DataFrame(X_res, columns=NEW_FEATURES_NAME)\n",
    "\n",
    "    return X_res, y_res"
   ]
  },
  {
   "cell_type": "code",
   "execution_count": 7,
   "metadata": {},
   "outputs": [],
   "source": [
    "X_list = [X_train[NUM_SELECTED + [\"GLOBAL_REGION\"]].sample(X_train.shape[0], replace=True, random_state=42) for _ in range(10)]\n",
    "y_list = [y_train.loc[X.index] for X in X_list]\n",
    "\n",
    "X_y_list = [preprocessor(X, y) for X, y in zip(X_list, y_list)]"
   ]
  },
  {
   "cell_type": "code",
   "execution_count": 8,
   "metadata": {},
   "outputs": [],
   "source": [
    "PARAMS = {'n_estimators': 1,\n",
    " 'max_depth': 3,\n",
    " 'learning_rate': 0.08094126121040825,\n",
    " 'min_child_weight': 3,\n",
    " 'gamma': 0.10002849929741353,\n",
    " 'subsample': 0.6991334275136936,\n",
    " 'colsample_bytree': 0.730182818754573,\n",
    " 'reg_alpha': 0.1708390232178911,\n",
    " 'reg_lambda': 0.4369137652772114,\n",
    " 'importance_type': 'gain',\n",
    " 'random_state': 12}"
   ]
  },
  {
   "cell_type": "code",
   "execution_count": 9,
   "metadata": {},
   "outputs": [],
   "source": [
    "def importance_extimation(X, y, i):\n",
    "    model = XGBClassifier(**PARAMS)\n",
    "\n",
    "    feat_selector = BorutaPy(model, n_estimators=\"auto\", random_state=i)\n",
    "\n",
    "    feat_selector.fit(X, y)\n",
    "\n",
    "    return feat_selector.ranking_\n",
    "\n",
    "@delayed\n",
    "def importance_experiment(X_y_list, i):\n",
    "    \n",
    "    rankings_list = [importance_extimation(X.values, y.values, i) for X, y in X_y_list]\n",
    "\n",
    "    return rankings_list"
   ]
  },
  {
   "cell_type": "code",
   "execution_count": null,
   "metadata": {},
   "outputs": [
    {
     "name": "stdout",
     "output_type": "stream",
     "text": [
      "[################################        ] | 80% Completed | 263.35 s"
     ]
    }
   ],
   "source": [
    "# Create a list of delayed tasks\n",
    "tasks = [importance_experiment(X_y_list, i) for i in range(5)]\n",
    "\n",
    "# Use Dask to compute the results in parallel\n",
    "with ProgressBar():\n",
    "    experiments = compute(*tasks)"
   ]
  },
  {
   "cell_type": "code",
   "execution_count": null,
   "metadata": {},
   "outputs": [],
   "source": [
    "exp_dfs = []\n",
    "NEW_FEATURES_NAME = [f\"PCA_{i}\" for i in range(len(NUM_SELECTED))] + [f\"GLOBAL_REGION_{i}\" for i in range(3)]\n",
    "\n",
    "for exp in experiments:\n",
    "    exp_dfs.append(pd.DataFrame(exp, columns=NEW_FEATURES_NAME).reset_index())\n",
    "\n",
    "exp_df = pd.concat(exp_dfs)\n",
    "exp_df.reset_index(drop=True, inplace=True)\n",
    "\n",
    "exp_median_df = exp_df.groupby(\"index\").median()\n",
    "\n",
    "plot_df = (\n",
    "    exp_median_df.T\n",
    "    .reset_index()\n",
    "    .rename(columns={\"index\": \"feature\"})\n",
    "    .melt(id_vars=\"feature\", var_name=\"experiment\", value_name=\"rank\")\n",
    ")\n",
    "\n",
    "order = plot_df.groupby(\"feature\")[\"rank\"].mean().sort_values().index"
   ]
  },
  {
   "cell_type": "code",
   "execution_count": null,
   "metadata": {},
   "outputs": [
    {
     "data": {
      "text/plain": [
       "<Axes: xlabel='rank', ylabel='feature'>"
      ]
     },
     "execution_count": 43,
     "metadata": {},
     "output_type": "execute_result"
    },
    {
     "data": {
      "image/png": "[encoded data removed]",
      "text/plain": [
       "<Figure size 300x700 with 1 Axes>"
      ]
     },
     "metadata": {},
     "output_type": "display_data"
    }
   ],
   "source": [
    "plt.figure(figsize=(3, 7))\n",
    "sns.barplot(plot_df, y = \"feature\", x = \"rank\", orient=\"h\", order=order)"
   ]
  },
  {
   "cell_type": "code",
   "execution_count": null,
   "metadata": {},
   "outputs": [],
   "source": [
    "weights_list = []\n",
    "\n",
    "for X in X_list:\n",
    "    numeric_transformer = Pipeline(steps=[\n",
    "        ('scaler', StandardScaler()),\n",
    "        ('imputer', KNNImputer(n_neighbors=5)),\n",
    "        ( 'pca', PCA(n_components=len(NUM_SELECTED)))\n",
    "    ])\n",
    "\n",
    "    numeric_transformer.fit(X_train[NUM_SELECTED])\n",
    "\n",
    "    pca = numeric_transformer.named_steps['pca']\n",
    "\n",
    "    # Get the explained variance ratio\n",
    "    explained_variance_ratio = pca.explained_variance_ratio_\n",
    "\n",
    "    weights = pd.Series(explained_variance_ratio*100)\n",
    "\n",
    "    weights_list.append(weights)\n",
    "\n",
    "weights_df = pd.concat(weights_list, axis=1)"
   ]
  },
  {
   "cell_type": "code",
   "execution_count": null,
   "metadata": {},
   "outputs": [],
   "source": [
    "plot_df = (\n",
    "    weights_df\n",
    "    .reset_index()\n",
    "    .rename(columns={\"index\": \"PCA Component\"})\n",
    "    .melt(id_vars=\"PCA Component\", var_name=\"Fold\", value_name=\"Explained Variance (%)\")\n",
    ")"
   ]
  },
  {
   "cell_type": "code",
   "execution_count": null,
   "metadata": {},
   "outputs": [
    {
     "data": {
      "image/png": "[encoded data removed]",
      "text/plain": [
       "<Figure size 600x400 with 1 Axes>"
      ]
     },
     "metadata": {},
     "output_type": "display_data"
    }
   ],
   "source": [
    "# Plot the explained variance ratio\n",
    "fig, ax = plt.subplots(figsize=(6, 4))\n",
    "\n",
    "sns.lineplot(plot_df, x=\"PCA Component\", y=\"Explained Variance (%)\", ax=ax, estimator='median')\n",
    "ax.set_xlabel('Componentes Principais')\n",
    "ax.set_ylabel('Fração de Variância Explicada')\n",
    "ax.set_title('Contribuição das componentes')\n",
    "\n",
    "plt.show()"
   ]
  },
  {
   "cell_type": "code",
   "execution_count": null,
   "metadata": {},
   "outputs": [
    {
     "data": {
      "text/plain": [
       "PCA Component\n",
       "0     30.140872\n",
       "1     54.441275\n",
       "2     71.294811\n",
       "3     81.941226\n",
       "4     89.591694\n",
       "5     94.400430\n",
       "6     97.343026\n",
       "7    100.000000\n",
       "Name: Explained Variance (%), dtype: float64"
      ]
     },
     "execution_count": 47,
     "metadata": {},
     "output_type": "execute_result"
    }
   ],
   "source": [
    "plot_df.groupby(\"PCA Component\")[\"Explained Variance (%)\"].mean().cumsum()"
   ]
  },
  {
   "cell_type": "code",
   "execution_count": 36,
   "metadata": {},
   "outputs": [],
   "source": [
    "#NUM_COMP = 4\n",
    "\n",
    "#pca = PCA(n_components=NUM_COMP)\n",
    "#PCA_COLS = [f'PCA{i+1}' for i in range(NUM_COMP)]\n",
    "\n",
    "#X_pca_list = []\n",
    "\n",
    "#for X in X_list:\n",
    "#    X_pca = pca.fit_transform(X[NUM_SELECTED])\n",
    "#    X_pca = pd.DataFrame(X_pca, columns=PCA_COLS, index=X.index)\n",
    "#    X_pca_list.append(X_pca)\n",
    "\n",
    "#X_test_pca = pca.transform(X_test[NUM_SELECTED])\n",
    "#X_test_pca = pd.DataFrame(X_test_pca, columns=PCA_COLS, index=X_test.index)"
   ]
  },
  {
   "cell_type": "code",
   "execution_count": 37,
   "metadata": {},
   "outputs": [],
   "source": [
    "#X_train_small_list = []\n",
    "\n",
    "#for X_pca, X in zip(X_pca_list, X_list):\n",
    "#    X_train_small = pd.concat([X_pca, X[CAT_SELECTED]], axis=1)\n",
    "#    X_train_small_list.append(X_train_small)\n",
    "\n",
    "#X_test_small = pd.concat([X_test_pca, X_test[CAT_SELECTED]], axis=1)"
   ]
  },
  {
   "cell_type": "code",
   "execution_count": 39,
   "metadata": {},
   "outputs": [],
   "source": [
    "#for i, X_train_small in enumerate(X_train_small_list):\n",
    "#    X_train_small.to_parquet(f\"../../../../data/interim/copper/X_train_small/X_train_small_{i}.parquet\")\n",
    "    \n",
    "#X_test_small.to_parquet('../../../../data/interim/copper/X_test_small.parquet')"
   ]
  }
 ],
 "metadata": {
  "kernelspec": {
   "display_name": "mineral_prospect",
   "language": "python",
   "name": "python3"
  },
  "language_info": {
   "codemirror_mode": {
    "name": "ipython",
    "version": 3
   },
   "file_extension": ".py",
   "mimetype": "text/x-python",
   "name": "python",
   "nbconvert_exporter": "python",
   "pygments_lexer": "ipython3",
   "version": "3.12.5"
  }
 },
 "nbformat": 4,
 "nbformat_minor": 2
}
