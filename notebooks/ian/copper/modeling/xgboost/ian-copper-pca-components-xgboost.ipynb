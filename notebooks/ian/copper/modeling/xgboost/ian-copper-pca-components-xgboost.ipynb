{
 "cells": [
  {
   "cell_type": "markdown",
   "metadata": {},
   "source": [
    "# Data processing"
   ]
  },
  {
   "cell_type": "markdown",
   "metadata": {},
   "source": [
    "# Libraries"
   ]
  },
  {
   "cell_type": "code",
   "execution_count": null,
   "metadata": {},
   "outputs": [],
   "source": [
    "import warnings\n",
    "warnings.filterwarnings(\"ignore\")\n",
    "\n",
    "import pandas as pd\n",
    "import seaborn as sns\n",
    "import matplotlib.pyplot as plt\n",
    "from sklearn.decomposition import PCA\n",
    "\n",
    "from constants import NUM_SELECTED\n",
    "\n",
    "from sklearn.preprocessing import StandardScaler\n",
    "from sklearn.compose import ColumnTransformer\n",
    "from sklearn.pipeline import Pipeline\n",
    "from sklearn.impute import KNNImputer\n"
   ]
  },
  {
   "cell_type": "markdown",
   "metadata": {},
   "source": [
    "# Data Loading"
   ]
  },
  {
   "cell_type": "code",
   "execution_count": 3,
   "metadata": {},
   "outputs": [],
   "source": [
    "X_list = []\n",
    "y_list = []\n",
    "\n",
    "X_train = pd.read_parquet(\"../../../../../data/interim/copper/X_train.parquet\")\n",
    "y_train = pd.read_parquet(\"../../../../../data/interim/copper/y_train_cat.parquet\")\n",
    "X_test = pd.read_parquet(\"../../../../../data/interim/copper/X_test_rf.parquet\")"
   ]
  },
  {
   "cell_type": "markdown",
   "metadata": {},
   "source": [
    "# Principal Component Analysis"
   ]
  },
  {
   "cell_type": "code",
   "execution_count": 4,
   "metadata": {},
   "outputs": [],
   "source": [
    "numeric_transformer = Pipeline(steps=[\n",
    "    ('scaler', StandardScaler()),\n",
    "    ('imputer', KNNImputer(n_neighbors=5)),\n",
    "    ( 'pca', PCA(n_components=len(NUM_SELECTED)))\n",
    "])\n",
    "\n",
    "numeric_transformer.fit(X_train[NUM_SELECTED])\n",
    "\n",
    "pca = numeric_transformer.named_steps['pca']\n",
    "\n",
    "# Get the explained variance ratio\n",
    "explained_variance_ratio = pca.explained_variance_ratio_.reshape(-1, 1)\n",
    "\n",
    "weights = pd.DataFrame(explained_variance_ratio*100, columns=[\"Variância (%)\"])\n",
    "weights[\"Componente\"] = range(1, len(NUM_SELECTED)+1)\n",
    "weights[\"Variância Acumulada (%)\"] = weights[\"Variância (%)\"].cumsum()"
   ]
  },
  {
   "cell_type": "code",
   "execution_count": 5,
   "metadata": {},
   "outputs": [
    {
     "data": {
      "text/html": [
       "<div>\n",
       "<style scoped>\n",
       "    .dataframe tbody tr th:only-of-type {\n",
       "        vertical-align: middle;\n",
       "    }\n",
       "\n",
       "    .dataframe tbody tr th {\n",
       "        vertical-align: top;\n",
       "    }\n",
       "\n",
       "    .dataframe thead th {\n",
       "        text-align: right;\n",
       "    }\n",
       "</style>\n",
       "<table border=\"1\" class=\"dataframe\">\n",
       "  <thead>\n",
       "    <tr style=\"text-align: right;\">\n",
       "      <th></th>\n",
       "      <th>Variância (%)</th>\n",
       "      <th>Componente</th>\n",
       "      <th>Variância Acumulada (%)</th>\n",
       "    </tr>\n",
       "  </thead>\n",
       "  <tbody>\n",
       "    <tr>\n",
       "      <th>0</th>\n",
       "      <td>32.754695</td>\n",
       "      <td>1</td>\n",
       "      <td>32.754695</td>\n",
       "    </tr>\n",
       "    <tr>\n",
       "      <th>1</th>\n",
       "      <td>19.141105</td>\n",
       "      <td>2</td>\n",
       "      <td>51.895800</td>\n",
       "    </tr>\n",
       "    <tr>\n",
       "      <th>2</th>\n",
       "      <td>15.915746</td>\n",
       "      <td>3</td>\n",
       "      <td>67.811546</td>\n",
       "    </tr>\n",
       "    <tr>\n",
       "      <th>3</th>\n",
       "      <td>9.970494</td>\n",
       "      <td>4</td>\n",
       "      <td>77.782040</td>\n",
       "    </tr>\n",
       "    <tr>\n",
       "      <th>4</th>\n",
       "      <td>6.847830</td>\n",
       "      <td>5</td>\n",
       "      <td>84.629870</td>\n",
       "    </tr>\n",
       "    <tr>\n",
       "      <th>5</th>\n",
       "      <td>5.153773</td>\n",
       "      <td>6</td>\n",
       "      <td>89.783642</td>\n",
       "    </tr>\n",
       "    <tr>\n",
       "      <th>6</th>\n",
       "      <td>3.595216</td>\n",
       "      <td>7</td>\n",
       "      <td>93.378858</td>\n",
       "    </tr>\n",
       "    <tr>\n",
       "      <th>7</th>\n",
       "      <td>3.009016</td>\n",
       "      <td>8</td>\n",
       "      <td>96.387875</td>\n",
       "    </tr>\n",
       "    <tr>\n",
       "      <th>8</th>\n",
       "      <td>2.116550</td>\n",
       "      <td>9</td>\n",
       "      <td>98.504425</td>\n",
       "    </tr>\n",
       "    <tr>\n",
       "      <th>9</th>\n",
       "      <td>1.489901</td>\n",
       "      <td>10</td>\n",
       "      <td>99.994325</td>\n",
       "    </tr>\n",
       "    <tr>\n",
       "      <th>10</th>\n",
       "      <td>0.005675</td>\n",
       "      <td>11</td>\n",
       "      <td>100.000000</td>\n",
       "    </tr>\n",
       "  </tbody>\n",
       "</table>\n",
       "</div>"
      ],
      "text/plain": [
       "    Variância (%)  Componente  Variância Acumulada (%)\n",
       "0       32.754695           1                32.754695\n",
       "1       19.141105           2                51.895800\n",
       "2       15.915746           3                67.811546\n",
       "3        9.970494           4                77.782040\n",
       "4        6.847830           5                84.629870\n",
       "5        5.153773           6                89.783642\n",
       "6        3.595216           7                93.378858\n",
       "7        3.009016           8                96.387875\n",
       "8        2.116550           9                98.504425\n",
       "9        1.489901          10                99.994325\n",
       "10       0.005675          11               100.000000"
      ]
     },
     "execution_count": 5,
     "metadata": {},
     "output_type": "execute_result"
    }
   ],
   "source": [
    "weights"
   ]
  },
  {
   "cell_type": "code",
   "execution_count": 6,
   "metadata": {},
   "outputs": [
    {
     "data": {
      "image/png": "[encoded data removed]",
      "text/plain": [
       "<Figure size 1000x400 with 2 Axes>"
      ]
     },
     "metadata": {},
     "output_type": "display_data"
    }
   ],
   "source": [
    "# Plot the explained variance ratio\n",
    "fig, ax = plt.subplots(1, 2, figsize=(10, 4))\n",
    "\n",
    "sns.scatterplot(weights, x=\"Componente\", y=\"Variância (%)\", ax=ax[0], color = 'blue')\n",
    "ax[0].set_title('Contribuição das componentes', weight='bold')\n",
    "ax[0].spines['top'].set_visible(False)\n",
    "ax[0].spines['right'].set_visible(False)\n",
    "\n",
    "sns.scatterplot(weights, x=\"Componente\", y=\"Variância Acumulada (%)\", ax=ax[1], color = \"orange\")\n",
    "ax[1].set_title('Contribuição acumulada das componentes', weight='bold')\n",
    "ax[1].spines['top'].set_visible(False)\n",
    "ax[1].spines['right'].set_visible(False)\n",
    "\n",
    "plt.show()"
   ]
  }
 ],
 "metadata": {
  "kernelspec": {
   "display_name": "mineral_prospect",
   "language": "python",
   "name": "python3"
  },
  "language_info": {
   "codemirror_mode": {
    "name": "ipython",
    "version": 3
   },
   "file_extension": ".py",
   "mimetype": "text/x-python",
   "name": "python",
   "nbconvert_exporter": "python",
   "pygments_lexer": "ipython3",
   "version": "3.12.5"
  }
 },
 "nbformat": 4,
 "nbformat_minor": 2
}
