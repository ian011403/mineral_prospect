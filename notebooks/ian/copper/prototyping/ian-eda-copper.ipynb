{
 "cells": [
  {
   "cell_type": "markdown",
   "metadata": {},
   "source": [
    "# Data processing"
   ]
  },
  {
   "cell_type": "markdown",
   "metadata": {},
   "source": [
    "# Libraries"
   ]
  },
  {
   "cell_type": "code",
   "execution_count": 93,
   "metadata": {},
   "outputs": [],
   "source": [
    "import warnings\n",
    "warnings.filterwarnings(\"ignore\")\n",
    "\n",
    "import sys\n",
    "sys.path.append('../data')\n",
    "\n",
    "import numpy as np\n",
    "import pandas as pd\n",
    "import seaborn as sns\n",
    "import matplotlib.pyplot as plt\n",
    "from sklearn.model_selection import train_test_split\n",
    "import plotly.graph_objects as go\n",
    "from sklearn.decomposition import PCA\n",
    "from sklearn.preprocessing import StandardScaler\n",
    "from sklearn.impute import KNNImputer\n",
    "from sklearn.manifold import TSNE\n",
    "\n",
    "from ian_constants import RENAME_DICT"
   ]
  },
  {
   "cell_type": "markdown",
   "metadata": {},
   "source": [
    "# Constants"
   ]
  },
  {
   "cell_type": "code",
   "execution_count": 2,
   "metadata": {},
   "outputs": [],
   "source": [
    "columns_to_drop = ['PROPERTY_NM', 'ACTIVITY_STATUS', 'MINE_TYPE', \n",
    "'GEOLOGIC_ORE_BODY_TYPE', 'PLACE_NM', 'NPV_DISCOUNT']"
   ]
  },
  {
   "cell_type": "markdown",
   "metadata": {},
   "source": [
    "# Data Loading"
   ]
  },
  {
   "cell_type": "code",
   "execution_count": 3,
   "metadata": {},
   "outputs": [],
   "source": [
    "raw_copper_mines_df = pd.read_excel('../data/raw/Cu.xls', decimal=',', thousands='.')"
   ]
  },
  {
   "cell_type": "markdown",
   "metadata": {},
   "source": [
    "# Preprocessamento"
   ]
  },
  {
   "cell_type": "code",
   "execution_count": 4,
   "metadata": {},
   "outputs": [],
   "source": [
    "raw_copper_mines_df.rename(columns=RENAME_DICT, inplace=True)\n",
    "\n",
    "# Columns to fill with NaN\n",
    "columns_to_fill = ['COPPER_GRADE', 'LEAD_GRADE', 'ZINC_GRADE',\n",
    "       'GOLD_DENSITY', 'SILVER_DENSITY']\n",
    "\n",
    "# Fill specified columns with NaN where 'y' is 0\n",
    "raw_copper_mines_df.loc[raw_copper_mines_df['ORE_TONNAGE'] == 0, columns_to_fill] = np.nan\n",
    "\n",
    "raw_copper_mines_df['ORE_TONNAGE'].replace(0, np.nan, inplace=True)\n",
    "#raw_copper_mines_df['ORE_TONNAGE'] = raw_copper_mines_df['ORE_TONNAGE']/1000000\n",
    "raw_copper_mines_df.drop(columns=columns_to_drop, inplace=True)\n",
    "raw_copper_mines_df.dropna(how='all', inplace=True)"
   ]
  },
  {
   "cell_type": "code",
   "execution_count": 5,
   "metadata": {},
   "outputs": [
    {
     "data": {
      "text/plain": [
       "(1421, 9)"
      ]
     },
     "execution_count": 5,
     "metadata": {},
     "output_type": "execute_result"
    }
   ],
   "source": [
    "raw_copper_mines_df.shape"
   ]
  },
  {
   "cell_type": "code",
   "execution_count": 6,
   "metadata": {},
   "outputs": [
    {
     "data": {
      "text/plain": [
       "INITIAL_COST                0.825475\n",
       "TIR                         0.861365\n",
       "PRICE_PER_TONNE_MAIN_ORE    0.864180\n",
       "ORE_TONNAGE                 0.007741\n",
       "COPPER_GRADE                0.007741\n",
       "LEAD_GRADE                  0.007741\n",
       "ZINC_GRADE                  0.007741\n",
       "GOLD_DENSITY                0.007741\n",
       "SILVER_DENSITY              0.007741\n",
       "dtype: float64"
      ]
     },
     "execution_count": 6,
     "metadata": {},
     "output_type": "execute_result"
    }
   ],
   "source": [
    "raw_copper_mines_df.isnull().sum()/raw_copper_mines_df.shape[0]"
   ]
  },
  {
   "cell_type": "markdown",
   "metadata": {},
   "source": [
    "# Processamento"
   ]
  },
  {
   "cell_type": "code",
   "execution_count": 7,
   "metadata": {},
   "outputs": [],
   "source": [
    "columns_to_log10 = ['ORE_TONNAGE', 'INITIAL_COST', 'COPPER_GRADE', \n",
    "                    'LEAD_GRADE', 'ZINC_GRADE', 'GOLD_DENSITY', 'SILVER_DENSITY']\n",
    "\n",
    "for col in columns_to_log10:\n",
    "    raw_copper_mines_df['LOG_10_'+col] = np.log10(raw_copper_mines_df[col])\n",
    "    raw_copper_mines_df.drop(columns=[col], inplace=True)\n",
    "\n",
    "\n",
    "\n",
    "raw_copper_mines_df['TIR_NULL'] = raw_copper_mines_df['TIR'].isnull()"
   ]
  },
  {
   "cell_type": "markdown",
   "metadata": {},
   "source": [
    "# Separação de dados de modelagem e dados de validação"
   ]
  },
  {
   "cell_type": "code",
   "execution_count": 8,
   "metadata": {},
   "outputs": [],
   "source": [
    "model_df, valid_df = train_test_split(raw_copper_mines_df, test_size=0.30, random_state=42)"
   ]
  },
  {
   "cell_type": "code",
   "execution_count": 9,
   "metadata": {},
   "outputs": [
    {
     "name": "stdout",
     "output_type": "stream",
     "text": [
      "(994, 10)\n",
      "(427, 10)\n",
      "128\n",
      "69\n"
     ]
    }
   ],
   "source": [
    "print(model_df.shape)\n",
    "print(valid_df.shape)\n",
    "\n",
    "print(model_df['TIR'].notnull().sum())\n",
    "print(valid_df['TIR'].notnull().sum())"
   ]
  },
  {
   "cell_type": "markdown",
   "metadata": {},
   "source": [
    "# Separação de modelos"
   ]
  },
  {
   "cell_type": "code",
   "execution_count": 10,
   "metadata": {},
   "outputs": [],
   "source": [
    "#TIR Prediction for Copper Mines\n",
    "tir_pred_cols = ['TIR', 'LOG_10_ORE_TONNAGE', 'LOG_10_INITIAL_COST', 'PRICE_PER_TONNE_MAIN_ORE', 'LOG_10_COPPER_GRADE',\n",
    "                    'LOG_10_LEAD_GRADE', 'LOG_10_ZINC_GRADE', 'LOG_10_GOLD_DENSITY', 'LOG_10_SILVER_DENSITY']\n",
    "#tir_pred_cols = ['TIR', 'COPPER_GRADE', 'ORE_TONNAGE', 'PLACE_NM', 'GEOLOGIC_ORE_BODY_TYPE', 'INITIAL_COST']\n",
    "tir_simple_pred_cols = ['TIR', 'LOG_10_COPPER_GRADE', 'LOG_10_ORE_TONNAGE', 'LOG_10_INITIAL_COST']"
   ]
  },
  {
   "cell_type": "code",
   "execution_count": 24,
   "metadata": {},
   "outputs": [],
   "source": [
    "exp_TIR = model_df[tir_pred_cols][model_df['TIR'].notnull()]\n",
    "exp_TIR.replace([-np.inf], np.NAN, inplace=True)\n",
    "\n",
    "exp_simp_TIR = model_df[tir_simple_pred_cols][model_df['TIR'].notnull()]\n",
    "exp_simp_TIR.replace([-np.inf], np.NAN, inplace=True)"
   ]
  },
  {
   "cell_type": "code",
   "execution_count": 25,
   "metadata": {},
   "outputs": [
    {
     "name": "stdout",
     "output_type": "stream",
     "text": [
      "(128, 9)\n",
      "(13, 9)\n"
     ]
    },
    {
     "data": {
      "text/plain": [
       "TIR                         0.000000\n",
       "LOG_10_ORE_TONNAGE          0.046875\n",
       "LOG_10_INITIAL_COST         0.015625\n",
       "PRICE_PER_TONNE_MAIN_ORE    0.195312\n",
       "LOG_10_COPPER_GRADE         0.054688\n",
       "LOG_10_LEAD_GRADE           0.867188\n",
       "LOG_10_ZINC_GRADE           0.796875\n",
       "LOG_10_GOLD_DENSITY         0.343750\n",
       "LOG_10_SILVER_DENSITY       0.437500\n",
       "dtype: float64"
      ]
     },
     "execution_count": 25,
     "metadata": {},
     "output_type": "execute_result"
    }
   ],
   "source": [
    "print(exp_TIR.shape)\n",
    "print(exp_TIR.dropna().shape)\n",
    "exp_TIR.isnull().sum()/exp_TIR.shape[0]"
   ]
  },
  {
   "cell_type": "code",
   "execution_count": 27,
   "metadata": {},
   "outputs": [
    {
     "name": "stdout",
     "output_type": "stream",
     "text": [
      "(128, 4)\n",
      "(119, 4)\n"
     ]
    },
    {
     "data": {
      "text/plain": [
       "TIR                    0.000000\n",
       "LOG_10_COPPER_GRADE    0.054688\n",
       "LOG_10_ORE_TONNAGE     0.046875\n",
       "LOG_10_INITIAL_COST    0.015625\n",
       "dtype: float64"
      ]
     },
     "execution_count": 27,
     "metadata": {},
     "output_type": "execute_result"
    }
   ],
   "source": [
    "print(exp_simp_TIR.shape)\n",
    "print(exp_simp_TIR.dropna().shape)\n",
    "exp_simp_TIR.isnull().sum()/exp_simp_TIR.shape[0]"
   ]
  },
  {
   "cell_type": "markdown",
   "metadata": {},
   "source": [
    "# Modelagem simples"
   ]
  },
  {
   "cell_type": "code",
   "execution_count": 67,
   "metadata": {},
   "outputs": [
    {
     "name": "stdout",
     "output_type": "stream",
     "text": [
      "(96, 3)\n",
      "(32, 3)\n"
     ]
    }
   ],
   "source": [
    "X_train, X_test, y_train, y_test = train_test_split(\n",
    "    exp_simp_TIR.drop(columns=['TIR']), exp_simp_TIR['TIR'], test_size=0.25, random_state=42)\n",
    "\n",
    "print(X_train.shape)\n",
    "print(X_test.shape)\n",
    "\n",
    "X_train = X_train[y_train <=100]\n",
    "y_train = y_train[y_train <=100]\n",
    "\n",
    "scaler = StandardScaler()\n",
    "\n",
    "X_train_scaled = scaler.fit_transform(X_train)\n",
    "X_test_scaled = scaler.transform(X_test)\n",
    "\n",
    "X_train_scaled = pd.DataFrame(X_train_scaled, columns=X_train.columns, index=X_train.index)\n",
    "X_test_scaled = pd.DataFrame(X_test_scaled, columns=X_test.columns, index=X_test.index)\n",
    "\n",
    "imputer = KNNImputer(n_neighbors=2)\n",
    "X_train_knn = imputer.fit_transform(X_train_scaled)\n",
    "X_train_knn = pd.DataFrame(X_train_knn, columns=X_train.columns, index=X_train.index)\n"
   ]
  },
  {
   "cell_type": "code",
   "execution_count": 68,
   "metadata": {},
   "outputs": [
    {
     "data": {
      "image/png": "[encoded data removed]",
      "text/plain": [
       "<Figure size 500x500 with 1 Axes>"
      ]
     },
     "metadata": {},
     "output_type": "display_data"
    },
    {
     "data": {
      "image/png": "[encoded data removed]",
      "text/plain": [
       "<Figure size 500x500 with 1 Axes>"
      ]
     },
     "metadata": {},
     "output_type": "display_data"
    },
    {
     "data": {
      "image/png": "[encoded data removed]",
      "text/plain": [
       "<Figure size 500x500 with 1 Axes>"
      ]
     },
     "metadata": {},
     "output_type": "display_data"
    }
   ],
   "source": [
    "for col in X_train.columns:\n",
    "    plt.figure(figsize=(5,5))\n",
    "    sns.histplot(X_train_knn[col], bins=20)\n",
    "    plt.show()"
   ]
  },
  {
   "cell_type": "code",
   "execution_count": 69,
   "metadata": {},
   "outputs": [
    {
     "data": {
      "text/plain": [
       "<Axes: >"
      ]
     },
     "execution_count": 69,
     "metadata": {},
     "output_type": "execute_result"
    },
    {
     "data": {
      "image/png": "[encoded data removed]",
      "text/plain": [
       "<Figure size 640x480 with 2 Axes>"
      ]
     },
     "metadata": {},
     "output_type": "display_data"
    }
   ],
   "source": [
    "sns.heatmap(X_train_knn.corr(), annot=True, cmap='coolwarm', vmax=1, vmin=-1)"
   ]
  },
  {
   "cell_type": "code",
   "execution_count": 70,
   "metadata": {},
   "outputs": [
    {
     "data": {
      "text/plain": [
       "<seaborn.axisgrid.PairGrid at 0x7ff643d40980>"
      ]
     },
     "execution_count": 70,
     "metadata": {},
     "output_type": "execute_result"
    },
    {
     "data": {
      "image/png": "[encoded data removed]",
      "text/plain": [
       "<Figure size 750x750 with 12 Axes>"
      ]
     },
     "metadata": {},
     "output_type": "display_data"
    }
   ],
   "source": [
    "sns.pairplot(X_train_knn)"
   ]
  },
  {
   "cell_type": "code",
   "execution_count": 89,
   "metadata": {},
   "outputs": [
    {
     "data": {
      "application/vnd.plotly.v1+json": {
       "config": {
        "plotlyServerURL": "https://plot.ly"
       },
       "data": [
        {
         "marker": {
          "color": [
           1,
           1,
           1,
           1,
           1,
           1,
           0,
           0,
           0,
           1,
           0,
           0,
           1,
           0,
           1,
           0,
           1,
           1,
           1,
           1,
           1,
           1,
           1,
           1,
           0,
           1,
           1,
           1,
           0,
           1,
           1,
           1,
           0,
           1,
           0,
           1,
           1,
           1,
           1,
           0,
           1,
           1,
           1,
           1,
           1,
           1,
           1,
           0,
           1,
           1,
           1,
           1,
           1,
           1,
           1,
           0,
           1,
           1,
           1,
           1,
           1,
           1,
           1,
           0,
           0,
           1,
           1,
           1,
           1,
           1,
           1,
           1,
           1,
           1,
           0,
           1,
           1,
           1,
           1,
           1,
           1,
           1,
           0,
           0,
           1,
           0,
           1,
           0,
           1,
           1,
           1,
           0
          ],
          "colorscale": [
           [
            0,
            "#440154"
           ],
           [
            0.1111111111111111,
            "#482878"
           ],
           [
            0.2222222222222222,
            "#3e4989"
           ],
           [
            0.3333333333333333,
            "#31688e"
           ],
           [
            0.4444444444444444,
            "#26828e"
           ],
           [
            0.5555555555555556,
            "#1f9e89"
           ],
           [
            0.6666666666666666,
            "#35b779"
           ],
           [
            0.7777777777777778,
            "#6ece58"
           ],
           [
            0.8888888888888888,
            "#b5de2b"
           ],
           [
            1,
            "#fde725"
           ]
          ],
          "opacity": 0.8,
          "size": 5
         },
         "mode": "markers",
         "type": "scatter3d",
         "x": [
          1.2528153373609872,
          0.4295208211025614,
          1.5769611240411046,
          -0.11957170457485183,
          -0.3236291352264312,
          -0.5922884423181848,
          -0.12773779543962957,
          0.16906657645456225,
          -0.6152380336132407,
          0.1400112447601448,
          -0.2034400642610334,
          -1.210827763857873,
          0.4617074466186524,
          -0.42100351919501133,
          -0.9437375161462803,
          -0.095353152452536,
          -0.6783264700213372,
          -1.1817263459002607,
          -0.17492659414241327,
          1.030968514140541,
          0.22118457564506058,
          1.1994708572842878,
          0.73245080379735,
          0.3973341955864705,
          0.5146399789973296,
          -0.005478608743932967,
          1.978901609432259,
          0.8033596874968141,
          -0.8958899249553153,
          1.1736524159669337,
          -0.6385669741289893,
          -0.7192385741991327,
          -0.26225560640124473,
          1.0606826383231398,
          -0.27129321743476703,
          0.9926330705791686,
          -0.4550140508570526,
          -1.2832215175176465,
          1.7788204050950216,
          -1.0033816910812263,
          1.0273604113648604,
          1.238630012186569,
          -1.0238366689292857,
          0.924988196391258,
          0.7820287711345923,
          -0.8958899249553153,
          -0.33306976418590484,
          -1.9515308397628948,
          -1.0445924660393329,
          -0.5474793211212037,
          0.9080541732415315,
          -0.21500872548412353,
          -0.7192385741991327,
          -1.3412556591759426,
          -1.1817263459002607,
          -0.26225560640124473,
          0.4178839384196222,
          -0.34257396688323694,
          -0.9932643089238952,
          0.5904929715630707,
          0.41602809493448273,
          -0.26225560640124473,
          0.08239635668391242,
          -0.4584606185456194,
          -1.1419668500079132,
          0.6148976505204485,
          -0.17210667558775253,
          -0.5004895931416136,
          0.38219872863654253,
          1.2005364434180241,
          0.8573568388479867,
          0.2796519969801299,
          -1.540544468343972,
          -2.377576082473466,
          -1.0978579862140794,
          2.4884245698265404,
          0.1805126259697905,
          0.5739855463426525,
          -0.6113870932511596,
          -0.5255971964851955,
          -0.014978027284667498,
          -0.06630618440010556,
          -0.4907470903001887,
          1.5522718279818801,
          -1.6975248558383604,
          -0.6464297731118455,
          1.6171737805625148,
          -1.3992898008342387,
          -0.38779331007615664,
          1.7837614360828202,
          1.0249498748829156,
          2.611229709691251
         ],
         "y": [
          -1.9037664205330551,
          -0.32124242449567786,
          -1.2350204318007838,
          -0.29334946530429706,
          1.2302981514059268,
          0.5144975305419253,
          -0.05585013411158812,
          -0.26679863155594297,
          0.06022674261612372,
          -2.0214987076236297,
          1.4802891873756567,
          1.3057704363111915,
          -0.43799753409421877,
          -1.137514080505881,
          0.3906857159042258,
          1.464772788319604,
          0.9461235969543104,
          1.1480258329621054,
          -2.311279049957867,
          -0.3698602937274329,
          -0.9770137464288802,
          0.07901465832855292,
          -1.0858270396797622,
          -0.14694577016318666,
          -0.9807614831405815,
          -0.3990658899542913,
          -0.6564883422094213,
          -1.2811803913117243,
          1.5202885188073205,
          -0.12051021339342147,
          0.032726242839826274,
          2.2776430562393766,
          1.5706481081327008,
          0.4061942149362678,
          1.2576795741934432,
          -1.4947967301064087,
          0.2590283077638972,
          0.45575812617013106,
          -1.0427542932359655,
          0.5778185072717644,
          -0.6748482110962134,
          -0.7994661226835529,
          1.1772569841170235,
          -1.2271025106591604,
          -1.034590453684313,
          1.0655954503996428,
          0.3505548726549444,
          0.4217163975093765,
          -0.2441887749939625,
          -0.6495062417677213,
          -0.32046641049153396,
          -1.1886992561532987,
          0.986195681346976,
          0.5781657507262765,
          1.3909885513553586,
          0.24757771857188804,
          -0.2360007552258979,
          1.0472645103648377,
          0.22043498453988347,
          -1.0331688668124814,
          0.5340356860442614,
          0.5129970831673493,
          -2.796584332329542,
          0.6696327369358811,
          0.801927381676543,
          -0.7111711474203476,
          1.0658691147307595,
          0.8084233189828587,
          -1.1899535027244679,
          -1.2853096910234987,
          -0.9952500123315433,
          0.8211436266532738,
          0.5850191811966283,
          0.9840690184623772,
          1.0718842369360262,
          -0.24428220417862054,
          -1.086052267095097,
          -0.3715981434484503,
          0.630758075546618,
          0.18262970323199892,
          0.5114921900162795,
          -0.09774120803355611,
          1.9241455821860387,
          -0.3718297347079452,
          0.7840041853876141,
          1.3821084654393476,
          -1.1508600077652664,
          0.7005733752824219,
          -0.797955415022685,
          -0.8423886846240418,
          -0.521387176489512,
          -1.3011006333671458
         ],
         "z": [
          -1.434749290757188,
          -0.7974663516809458,
          -0.594076945130683,
          0.13950804170464198,
          1.424847186983325,
          0.4060226127913337,
          -2.4010258472163972,
          0.7153426325974654,
          0.30927677986846364,
          -2.2694022126029054,
          0.7696631928250225,
          1.6027200225680842,
          -0.8469144391076205,
          -0.9706109349838006,
          0.05462332580349726,
          1.6341006262807496,
          0.8286834438962368,
          1.419424540271632,
          -1.1770560737869684,
          0.802696932345842,
          -0.2494876652098264,
          0.046856429483972034,
          -1.5368647546059702,
          -0.8812301753763456,
          -0.3272698796884842,
          -0.3933281714467477,
          0.35145489314077727,
          -1.4289401642911228,
          1.4320211729304377,
          0.1101986456277869,
          0.3132377557121846,
          1.9158285834567081,
          2.1638724360172534,
          0.35882513465600174,
          0.8144257899226085,
          -1.722899895909623,
          -0.48184811265269994,
          0.23118137951079298,
          -0.31104718638890944,
          0.4524244087760303,
          -0.4954597702362063,
          -1.1135337755940147,
          0.6640773675213388,
          -1.0580539814771615,
          -0.9371827136047297,
          1.1970791103124434,
          -0.11414937255595725,
          0.39064786492084164,
          -0.5830865123837412,
          -1.2188769694243442,
          -0.2011417984046377,
          -2.2093895966008845,
          0.40045944028488406,
          0.2552844299581278,
          1.55687886548097,
          0.5078077504886248,
          -0.028820522671872004,
          0.9027473646397373,
          -0.6960717413696932,
          -1.0528347206176238,
          0.6237024876090327,
          -0.04193439647732897,
          -1.3455984609536382,
          0.9253277504559039,
          1.1072533754305498,
          0.0652885547536601,
          0.4558277571916923,
          0.584028548054763,
          -0.53785511018943,
          -0.30462156894378756,
          -0.21706966944503256,
          0.9141286114388149,
          -0.24654439076341927,
          -0.24071942043841518,
          1.0472167181291727,
          1.4069595524182459,
          -0.9553423261015209,
          0.06338785771021901,
          0.34257078693594767,
          -0.3417743055548774,
          0.5466138236697262,
          0.3125598174191549,
          2.0017903138966333,
          -1.0690816526602498,
          -1.2347609747376618,
          1.6594745754350608,
          -0.306919533833672,
          0.2141256093313945,
          -2.069510848286689,
          -0.32548490899831223,
          -0.006399263211179755,
          0.3339621057145196
         ]
        }
       ],
       "layout": {
        "height": 800,
        "scene": {
         "xaxis": {
          "title": {
           "text": "LOG_10_COPPER_GRADE"
          }
         },
         "yaxis": {
          "title": {
           "text": "LOG_10_ORE_TONNAGE"
          }
         },
         "zaxis": {
          "title": {
           "text": "LOG_10_INITIAL_COST"
          }
         }
        },
        "template": {
         "data": {
          "bar": [
           {
            "error_x": {
             "color": "#2a3f5f"
            },
            "error_y": {
             "color": "#2a3f5f"
            },
            "marker": {
             "line": {
              "color": "#E5ECF6",
              "width": 0.5
             },
             "pattern": {
              "fillmode": "overlay",
              "size": 10,
              "solidity": 0.2
             }
            },
            "type": "bar"
           }
          ],
          "barpolar": [
           {
            "marker": {
             "line": {
              "color": "#E5ECF6",
              "width": 0.5
             },
             "pattern": {
              "fillmode": "overlay",
              "size": 10,
              "solidity": 0.2
             }
            },
            "type": "barpolar"
           }
          ],
          "carpet": [
           {
            "aaxis": {
             "endlinecolor": "#2a3f5f",
             "gridcolor": "white",
             "linecolor": "white",
             "minorgridcolor": "white",
             "startlinecolor": "#2a3f5f"
            },
            "baxis": {
             "endlinecolor": "#2a3f5f",
             "gridcolor": "white",
             "linecolor": "white",
             "minorgridcolor": "white",
             "startlinecolor": "#2a3f5f"
            },
            "type": "carpet"
           }
          ],
          "choropleth": [
           {
            "colorbar": {
             "outlinewidth": 0,
             "ticks": ""
            },
            "type": "choropleth"
           }
          ],
          "contour": [
           {
            "colorbar": {
             "outlinewidth": 0,
             "ticks": ""
            },
            "colorscale": [
             [
              0,
              "#0d0887"
             ],
             [
              0.1111111111111111,
              "#46039f"
             ],
             [
              0.2222222222222222,
              "#7201a8"
             ],
             [
              0.3333333333333333,
              "#9c179e"
             ],
             [
              0.4444444444444444,
              "#bd3786"
             ],
             [
              0.5555555555555556,
              "#d8576b"
             ],
             [
              0.6666666666666666,
              "#ed7953"
             ],
             [
              0.7777777777777778,
              "#fb9f3a"
             ],
             [
              0.8888888888888888,
              "#fdca26"
             ],
             [
              1,
              "#f0f921"
             ]
            ],
            "type": "contour"
           }
          ],
          "contourcarpet": [
           {
            "colorbar": {
             "outlinewidth": 0,
             "ticks": ""
            },
            "type": "contourcarpet"
           }
          ],
          "heatmap": [
           {
            "colorbar": {
             "outlinewidth": 0,
             "ticks": ""
            },
            "colorscale": [
             [
              0,
              "#0d0887"
             ],
             [
              0.1111111111111111,
              "#46039f"
             ],
             [
              0.2222222222222222,
              "#7201a8"
             ],
             [
              0.3333333333333333,
              "#9c179e"
             ],
             [
              0.4444444444444444,
              "#bd3786"
             ],
             [
              0.5555555555555556,
              "#d8576b"
             ],
             [
              0.6666666666666666,
              "#ed7953"
             ],
             [
              0.7777777777777778,
              "#fb9f3a"
             ],
             [
              0.8888888888888888,
              "#fdca26"
             ],
             [
              1,
              "#f0f921"
             ]
            ],
            "type": "heatmap"
           }
          ],
          "heatmapgl": [
           {
            "colorbar": {
             "outlinewidth": 0,
             "ticks": ""
            },
            "colorscale": [
             [
              0,
              "#0d0887"
             ],
             [
              0.1111111111111111,
              "#46039f"
             ],
             [
              0.2222222222222222,
              "#7201a8"
             ],
             [
              0.3333333333333333,
              "#9c179e"
             ],
             [
              0.4444444444444444,
              "#bd3786"
             ],
             [
              0.5555555555555556,
              "#d8576b"
             ],
             [
              0.6666666666666666,
              "#ed7953"
             ],
             [
              0.7777777777777778,
              "#fb9f3a"
             ],
             [
              0.8888888888888888,
              "#fdca26"
             ],
             [
              1,
              "#f0f921"
             ]
            ],
            "type": "heatmapgl"
           }
          ],
          "histogram": [
           {
            "marker": {
             "pattern": {
              "fillmode": "overlay",
              "size": 10,
              "solidity": 0.2
             }
            },
            "type": "histogram"
           }
          ],
          "histogram2d": [
           {
            "colorbar": {
             "outlinewidth": 0,
             "ticks": ""
            },
            "colorscale": [
             [
              0,
              "#0d0887"
             ],
             [
              0.1111111111111111,
              "#46039f"
             ],
             [
              0.2222222222222222,
              "#7201a8"
             ],
             [
              0.3333333333333333,
              "#9c179e"
             ],
             [
              0.4444444444444444,
              "#bd3786"
             ],
             [
              0.5555555555555556,
              "#d8576b"
             ],
             [
              0.6666666666666666,
              "#ed7953"
             ],
             [
              0.7777777777777778,
              "#fb9f3a"
             ],
             [
              0.8888888888888888,
              "#fdca26"
             ],
             [
              1,
              "#f0f921"
             ]
            ],
            "type": "histogram2d"
           }
          ],
          "histogram2dcontour": [
           {
            "colorbar": {
             "outlinewidth": 0,
             "ticks": ""
            },
            "colorscale": [
             [
              0,
              "#0d0887"
             ],
             [
              0.1111111111111111,
              "#46039f"
             ],
             [
              0.2222222222222222,
              "#7201a8"
             ],
             [
              0.3333333333333333,
              "#9c179e"
             ],
             [
              0.4444444444444444,
              "#bd3786"
             ],
             [
              0.5555555555555556,
              "#d8576b"
             ],
             [
              0.6666666666666666,
              "#ed7953"
             ],
             [
              0.7777777777777778,
              "#fb9f3a"
             ],
             [
              0.8888888888888888,
              "#fdca26"
             ],
             [
              1,
              "#f0f921"
             ]
            ],
            "type": "histogram2dcontour"
           }
          ],
          "mesh3d": [
           {
            "colorbar": {
             "outlinewidth": 0,
             "ticks": ""
            },
            "type": "mesh3d"
           }
          ],
          "parcoords": [
           {
            "line": {
             "colorbar": {
              "outlinewidth": 0,
              "ticks": ""
             }
            },
            "type": "parcoords"
           }
          ],
          "pie": [
           {
            "automargin": true,
            "type": "pie"
           }
          ],
          "scatter": [
           {
            "fillpattern": {
             "fillmode": "overlay",
             "size": 10,
             "solidity": 0.2
            },
            "type": "scatter"
           }
          ],
          "scatter3d": [
           {
            "line": {
             "colorbar": {
              "outlinewidth": 0,
              "ticks": ""
             }
            },
            "marker": {
             "colorbar": {
              "outlinewidth": 0,
              "ticks": ""
             }
            },
            "type": "scatter3d"
           }
          ],
          "scattercarpet": [
           {
            "marker": {
             "colorbar": {
              "outlinewidth": 0,
              "ticks": ""
             }
            },
            "type": "scattercarpet"
           }
          ],
          "scattergeo": [
           {
            "marker": {
             "colorbar": {
              "outlinewidth": 0,
              "ticks": ""
             }
            },
            "type": "scattergeo"
           }
          ],
          "scattergl": [
           {
            "marker": {
             "colorbar": {
              "outlinewidth": 0,
              "ticks": ""
             }
            },
            "type": "scattergl"
           }
          ],
          "scattermapbox": [
           {
            "marker": {
             "colorbar": {
              "outlinewidth": 0,
              "ticks": ""
             }
            },
            "type": "scattermapbox"
           }
          ],
          "scatterpolar": [
           {
            "marker": {
             "colorbar": {
              "outlinewidth": 0,
              "ticks": ""
             }
            },
            "type": "scatterpolar"
           }
          ],
          "scatterpolargl": [
           {
            "marker": {
             "colorbar": {
              "outlinewidth": 0,
              "ticks": ""
             }
            },
            "type": "scatterpolargl"
           }
          ],
          "scatterternary": [
           {
            "marker": {
             "colorbar": {
              "outlinewidth": 0,
              "ticks": ""
             }
            },
            "type": "scatterternary"
           }
          ],
          "surface": [
           {
            "colorbar": {
             "outlinewidth": 0,
             "ticks": ""
            },
            "colorscale": [
             [
              0,
              "#0d0887"
             ],
             [
              0.1111111111111111,
              "#46039f"
             ],
             [
              0.2222222222222222,
              "#7201a8"
             ],
             [
              0.3333333333333333,
              "#9c179e"
             ],
             [
              0.4444444444444444,
              "#bd3786"
             ],
             [
              0.5555555555555556,
              "#d8576b"
             ],
             [
              0.6666666666666666,
              "#ed7953"
             ],
             [
              0.7777777777777778,
              "#fb9f3a"
             ],
             [
              0.8888888888888888,
              "#fdca26"
             ],
             [
              1,
              "#f0f921"
             ]
            ],
            "type": "surface"
           }
          ],
          "table": [
           {
            "cells": {
             "fill": {
              "color": "#EBF0F8"
             },
             "line": {
              "color": "white"
             }
            },
            "header": {
             "fill": {
              "color": "#C8D4E3"
             },
             "line": {
              "color": "white"
             }
            },
            "type": "table"
           }
          ]
         },
         "layout": {
          "annotationdefaults": {
           "arrowcolor": "#2a3f5f",
           "arrowhead": 0,
           "arrowwidth": 1
          },
          "autotypenumbers": "strict",
          "coloraxis": {
           "colorbar": {
            "outlinewidth": 0,
            "ticks": ""
           }
          },
          "colorscale": {
           "diverging": [
            [
             0,
             "#8e0152"
            ],
            [
             0.1,
             "#c51b7d"
            ],
            [
             0.2,
             "#de77ae"
            ],
            [
             0.3,
             "#f1b6da"
            ],
            [
             0.4,
             "#fde0ef"
            ],
            [
             0.5,
             "#f7f7f7"
            ],
            [
             0.6,
             "#e6f5d0"
            ],
            [
             0.7,
             "#b8e186"
            ],
            [
             0.8,
             "#7fbc41"
            ],
            [
             0.9,
             "#4d9221"
            ],
            [
             1,
             "#276419"
            ]
           ],
           "sequential": [
            [
             0,
             "#0d0887"
            ],
            [
             0.1111111111111111,
             "#46039f"
            ],
            [
             0.2222222222222222,
             "#7201a8"
            ],
            [
             0.3333333333333333,
             "#9c179e"
            ],
            [
             0.4444444444444444,
             "#bd3786"
            ],
            [
             0.5555555555555556,
             "#d8576b"
            ],
            [
             0.6666666666666666,
             "#ed7953"
            ],
            [
             0.7777777777777778,
             "#fb9f3a"
            ],
            [
             0.8888888888888888,
             "#fdca26"
            ],
            [
             1,
             "#f0f921"
            ]
           ],
           "sequentialminus": [
            [
             0,
             "#0d0887"
            ],
            [
             0.1111111111111111,
             "#46039f"
            ],
            [
             0.2222222222222222,
             "#7201a8"
            ],
            [
             0.3333333333333333,
             "#9c179e"
            ],
            [
             0.4444444444444444,
             "#bd3786"
            ],
            [
             0.5555555555555556,
             "#d8576b"
            ],
            [
             0.6666666666666666,
             "#ed7953"
            ],
            [
             0.7777777777777778,
             "#fb9f3a"
            ],
            [
             0.8888888888888888,
             "#fdca26"
            ],
            [
             1,
             "#f0f921"
            ]
           ]
          },
          "colorway": [
           "#636efa",
           "#EF553B",
           "#00cc96",
           "#ab63fa",
           "#FFA15A",
           "#19d3f3",
           "#FF6692",
           "#B6E880",
           "#FF97FF",
           "#FECB52"
          ],
          "font": {
           "color": "#2a3f5f"
          },
          "geo": {
           "bgcolor": "white",
           "lakecolor": "white",
           "landcolor": "#E5ECF6",
           "showlakes": true,
           "showland": true,
           "subunitcolor": "white"
          },
          "hoverlabel": {
           "align": "left"
          },
          "hovermode": "closest",
          "mapbox": {
           "style": "light"
          },
          "paper_bgcolor": "white",
          "plot_bgcolor": "#E5ECF6",
          "polar": {
           "angularaxis": {
            "gridcolor": "white",
            "linecolor": "white",
            "ticks": ""
           },
           "bgcolor": "#E5ECF6",
           "radialaxis": {
            "gridcolor": "white",
            "linecolor": "white",
            "ticks": ""
           }
          },
          "scene": {
           "xaxis": {
            "backgroundcolor": "#E5ECF6",
            "gridcolor": "white",
            "gridwidth": 2,
            "linecolor": "white",
            "showbackground": true,
            "ticks": "",
            "zerolinecolor": "white"
           },
           "yaxis": {
            "backgroundcolor": "#E5ECF6",
            "gridcolor": "white",
            "gridwidth": 2,
            "linecolor": "white",
            "showbackground": true,
            "ticks": "",
            "zerolinecolor": "white"
           },
           "zaxis": {
            "backgroundcolor": "#E5ECF6",
            "gridcolor": "white",
            "gridwidth": 2,
            "linecolor": "white",
            "showbackground": true,
            "ticks": "",
            "zerolinecolor": "white"
           }
          },
          "shapedefaults": {
           "line": {
            "color": "#2a3f5f"
           }
          },
          "ternary": {
           "aaxis": {
            "gridcolor": "white",
            "linecolor": "white",
            "ticks": ""
           },
           "baxis": {
            "gridcolor": "white",
            "linecolor": "white",
            "ticks": ""
           },
           "bgcolor": "#E5ECF6",
           "caxis": {
            "gridcolor": "white",
            "linecolor": "white",
            "ticks": ""
           }
          },
          "title": {
           "x": 0.05
          },
          "xaxis": {
           "automargin": true,
           "gridcolor": "white",
           "linecolor": "white",
           "ticks": "",
           "title": {
            "standoff": 15
           },
           "zerolinecolor": "white",
           "zerolinewidth": 2
          },
          "yaxis": {
           "automargin": true,
           "gridcolor": "white",
           "linecolor": "white",
           "ticks": "",
           "title": {
            "standoff": 15
           },
           "zerolinecolor": "white",
           "zerolinewidth": 2
          }
         }
        },
        "title": {
         "text": "3D Surface Plot"
        },
        "width": 800
       }
      },
      "text/html": [
       "<div>                            <div id=\"6d98726d-82a7-467b-906b-e0d967b00475\" class=\"plotly-graph-div\" style=\"height:800px; width:800px;\"></div>            <script type=\"text/javascript\">                require([\"plotly\"], function(Plotly) {                    window.PLOTLYENV=window.PLOTLYENV || {};                                    if (document.getElementById(\"6d98726d-82a7-467b-906b-e0d967b00475\")) {                    Plotly.newPlot(                        \"6d98726d-82a7-467b-906b-e0d967b00475\",                        [{\"marker\":{\"color\":[1,1,1,1,1,1,0,0,0,1,0,0,1,0,1,0,1,1,1,1,1,1,1,1,0,1,1,1,0,1,1,1,0,1,0,1,1,1,1,0,1,1,1,1,1,1,1,0,1,1,1,1,1,1,1,0,1,1,1,1,1,1,1,0,0,1,1,1,1,1,1,1,1,1,0,1,1,1,1,1,1,1,0,0,1,0,1,0,1,1,1,0],\"colorscale\":[[0.0,\"#440154\"],[0.1111111111111111,\"#482878\"],[0.2222222222222222,\"#3e4989\"],[0.3333333333333333,\"#31688e\"],[0.4444444444444444,\"#26828e\"],[0.5555555555555556,\"#1f9e89\"],[0.6666666666666666,\"#35b779\"],[0.7777777777777778,\"#6ece58\"],[0.8888888888888888,\"#b5de2b\"],[1.0,\"#fde725\"]],\"opacity\":0.8,\"size\":5},\"mode\":\"markers\",\"x\":[1.2528153373609872,0.4295208211025614,1.5769611240411046,-0.11957170457485183,-0.3236291352264312,-0.5922884423181848,-0.12773779543962957,0.16906657645456225,-0.6152380336132407,0.1400112447601448,-0.2034400642610334,-1.210827763857873,0.4617074466186524,-0.42100351919501133,-0.9437375161462803,-0.095353152452536,-0.6783264700213372,-1.1817263459002607,-0.17492659414241327,1.030968514140541,0.22118457564506058,1.1994708572842878,0.73245080379735,0.3973341955864705,0.5146399789973296,-0.005478608743932967,1.978901609432259,0.8033596874968141,-0.8958899249553153,1.1736524159669337,-0.6385669741289893,-0.7192385741991327,-0.26225560640124473,1.0606826383231398,-0.27129321743476703,0.9926330705791686,-0.4550140508570526,-1.2832215175176465,1.7788204050950216,-1.0033816910812263,1.0273604113648604,1.238630012186569,-1.0238366689292857,0.924988196391258,0.7820287711345923,-0.8958899249553153,-0.33306976418590484,-1.9515308397628948,-1.0445924660393329,-0.5474793211212037,0.9080541732415315,-0.21500872548412353,-0.7192385741991327,-1.3412556591759426,-1.1817263459002607,-0.26225560640124473,0.4178839384196222,-0.34257396688323694,-0.9932643089238952,0.5904929715630707,0.41602809493448273,-0.26225560640124473,0.08239635668391242,-0.4584606185456194,-1.1419668500079132,0.6148976505204485,-0.17210667558775253,-0.5004895931416136,0.38219872863654253,1.2005364434180241,0.8573568388479867,0.2796519969801299,-1.540544468343972,-2.377576082473466,-1.0978579862140794,2.4884245698265404,0.1805126259697905,0.5739855463426525,-0.6113870932511596,-0.5255971964851955,-0.014978027284667498,-0.06630618440010556,-0.4907470903001887,1.5522718279818801,-1.6975248558383604,-0.6464297731118455,1.6171737805625148,-1.3992898008342387,-0.38779331007615664,1.7837614360828202,1.0249498748829156,2.611229709691251],\"y\":[-1.9037664205330551,-0.32124242449567786,-1.2350204318007838,-0.29334946530429706,1.2302981514059268,0.5144975305419253,-0.05585013411158812,-0.26679863155594297,0.06022674261612372,-2.0214987076236297,1.4802891873756567,1.3057704363111915,-0.43799753409421877,-1.137514080505881,0.3906857159042258,1.464772788319604,0.9461235969543104,1.1480258329621054,-2.311279049957867,-0.3698602937274329,-0.9770137464288802,0.07901465832855292,-1.0858270396797622,-0.14694577016318666,-0.9807614831405815,-0.3990658899542913,-0.6564883422094213,-1.2811803913117243,1.5202885188073205,-0.12051021339342147,0.032726242839826274,2.2776430562393766,1.5706481081327008,0.4061942149362678,1.2576795741934432,-1.4947967301064087,0.2590283077638972,0.45575812617013106,-1.0427542932359655,0.5778185072717644,-0.6748482110962134,-0.7994661226835529,1.1772569841170235,-1.2271025106591604,-1.034590453684313,1.0655954503996428,0.3505548726549444,0.4217163975093765,-0.2441887749939625,-0.6495062417677213,-0.32046641049153396,-1.1886992561532987,0.986195681346976,0.5781657507262765,1.3909885513553586,0.24757771857188804,-0.2360007552258979,1.0472645103648377,0.22043498453988347,-1.0331688668124814,0.5340356860442614,0.5129970831673493,-2.796584332329542,0.6696327369358811,0.801927381676543,-0.7111711474203476,1.0658691147307595,0.8084233189828587,-1.1899535027244679,-1.2853096910234987,-0.9952500123315433,0.8211436266532738,0.5850191811966283,0.9840690184623772,1.0718842369360262,-0.24428220417862054,-1.086052267095097,-0.3715981434484503,0.630758075546618,0.18262970323199892,0.5114921900162795,-0.09774120803355611,1.9241455821860387,-0.3718297347079452,0.7840041853876141,1.3821084654393476,-1.1508600077652664,0.7005733752824219,-0.797955415022685,-0.8423886846240418,-0.521387176489512,-1.3011006333671458],\"z\":[-1.434749290757188,-0.7974663516809458,-0.594076945130683,0.13950804170464198,1.424847186983325,0.4060226127913337,-2.4010258472163972,0.7153426325974654,0.30927677986846364,-2.2694022126029054,0.7696631928250225,1.6027200225680842,-0.8469144391076205,-0.9706109349838006,0.05462332580349726,1.6341006262807496,0.8286834438962368,1.419424540271632,-1.1770560737869684,0.802696932345842,-0.2494876652098264,0.046856429483972034,-1.5368647546059702,-0.8812301753763456,-0.3272698796884842,-0.3933281714467477,0.35145489314077727,-1.4289401642911228,1.4320211729304377,0.1101986456277869,0.3132377557121846,1.9158285834567081,2.1638724360172534,0.35882513465600174,0.8144257899226085,-1.722899895909623,-0.48184811265269994,0.23118137951079298,-0.31104718638890944,0.4524244087760303,-0.4954597702362063,-1.1135337755940147,0.6640773675213388,-1.0580539814771615,-0.9371827136047297,1.1970791103124434,-0.11414937255595725,0.39064786492084164,-0.5830865123837412,-1.2188769694243442,-0.2011417984046377,-2.2093895966008845,0.40045944028488406,0.2552844299581278,1.55687886548097,0.5078077504886248,-0.028820522671872004,0.9027473646397373,-0.6960717413696932,-1.0528347206176238,0.6237024876090327,-0.04193439647732897,-1.3455984609536382,0.9253277504559039,1.1072533754305498,0.0652885547536601,0.4558277571916923,0.584028548054763,-0.53785511018943,-0.30462156894378756,-0.21706966944503256,0.9141286114388149,-0.24654439076341927,-0.24071942043841518,1.0472167181291727,1.4069595524182459,-0.9553423261015209,0.06338785771021901,0.34257078693594767,-0.3417743055548774,0.5466138236697262,0.3125598174191549,2.0017903138966333,-1.0690816526602498,-1.2347609747376618,1.6594745754350608,-0.306919533833672,0.2141256093313945,-2.069510848286689,-0.32548490899831223,-0.006399263211179755,0.3339621057145196],\"type\":\"scatter3d\"}],                        {\"template\":{\"data\":{\"histogram2dcontour\":[{\"type\":\"histogram2dcontour\",\"colorbar\":{\"outlinewidth\":0,\"ticks\":\"\"},\"colorscale\":[[0.0,\"#0d0887\"],[0.1111111111111111,\"#46039f\"],[0.2222222222222222,\"#7201a8\"],[0.3333333333333333,\"#9c179e\"],[0.4444444444444444,\"#bd3786\"],[0.5555555555555556,\"#d8576b\"],[0.6666666666666666,\"#ed7953\"],[0.7777777777777778,\"#fb9f3a\"],[0.8888888888888888,\"#fdca26\"],[1.0,\"#f0f921\"]]}],\"choropleth\":[{\"type\":\"choropleth\",\"colorbar\":{\"outlinewidth\":0,\"ticks\":\"\"}}],\"histogram2d\":[{\"type\":\"histogram2d\",\"colorbar\":{\"outlinewidth\":0,\"ticks\":\"\"},\"colorscale\":[[0.0,\"#0d0887\"],[0.1111111111111111,\"#46039f\"],[0.2222222222222222,\"#7201a8\"],[0.3333333333333333,\"#9c179e\"],[0.4444444444444444,\"#bd3786\"],[0.5555555555555556,\"#d8576b\"],[0.6666666666666666,\"#ed7953\"],[0.7777777777777778,\"#fb9f3a\"],[0.8888888888888888,\"#fdca26\"],[1.0,\"#f0f921\"]]}],\"heatmap\":[{\"type\":\"heatmap\",\"colorbar\":{\"outlinewidth\":0,\"ticks\":\"\"},\"colorscale\":[[0.0,\"#0d0887\"],[0.1111111111111111,\"#46039f\"],[0.2222222222222222,\"#7201a8\"],[0.3333333333333333,\"#9c179e\"],[0.4444444444444444,\"#bd3786\"],[0.5555555555555556,\"#d8576b\"],[0.6666666666666666,\"#ed7953\"],[0.7777777777777778,\"#fb9f3a\"],[0.8888888888888888,\"#fdca26\"],[1.0,\"#f0f921\"]]}],\"heatmapgl\":[{\"type\":\"heatmapgl\",\"colorbar\":{\"outlinewidth\":0,\"ticks\":\"\"},\"colorscale\":[[0.0,\"#0d0887\"],[0.1111111111111111,\"#46039f\"],[0.2222222222222222,\"#7201a8\"],[0.3333333333333333,\"#9c179e\"],[0.4444444444444444,\"#bd3786\"],[0.5555555555555556,\"#d8576b\"],[0.6666666666666666,\"#ed7953\"],[0.7777777777777778,\"#fb9f3a\"],[0.8888888888888888,\"#fdca26\"],[1.0,\"#f0f921\"]]}],\"contourcarpet\":[{\"type\":\"contourcarpet\",\"colorbar\":{\"outlinewidth\":0,\"ticks\":\"\"}}],\"contour\":[{\"type\":\"contour\",\"colorbar\":{\"outlinewidth\":0,\"ticks\":\"\"},\"colorscale\":[[0.0,\"#0d0887\"],[0.1111111111111111,\"#46039f\"],[0.2222222222222222,\"#7201a8\"],[0.3333333333333333,\"#9c179e\"],[0.4444444444444444,\"#bd3786\"],[0.5555555555555556,\"#d8576b\"],[0.6666666666666666,\"#ed7953\"],[0.7777777777777778,\"#fb9f3a\"],[0.8888888888888888,\"#fdca26\"],[1.0,\"#f0f921\"]]}],\"surface\":[{\"type\":\"surface\",\"colorbar\":{\"outlinewidth\":0,\"ticks\":\"\"},\"colorscale\":[[0.0,\"#0d0887\"],[0.1111111111111111,\"#46039f\"],[0.2222222222222222,\"#7201a8\"],[0.3333333333333333,\"#9c179e\"],[0.4444444444444444,\"#bd3786\"],[0.5555555555555556,\"#d8576b\"],[0.6666666666666666,\"#ed7953\"],[0.7777777777777778,\"#fb9f3a\"],[0.8888888888888888,\"#fdca26\"],[1.0,\"#f0f921\"]]}],\"mesh3d\":[{\"type\":\"mesh3d\",\"colorbar\":{\"outlinewidth\":0,\"ticks\":\"\"}}],\"scatter\":[{\"fillpattern\":{\"fillmode\":\"overlay\",\"size\":10,\"solidity\":0.2},\"type\":\"scatter\"}],\"parcoords\":[{\"type\":\"parcoords\",\"line\":{\"colorbar\":{\"outlinewidth\":0,\"ticks\":\"\"}}}],\"scatterpolargl\":[{\"type\":\"scatterpolargl\",\"marker\":{\"colorbar\":{\"outlinewidth\":0,\"ticks\":\"\"}}}],\"bar\":[{\"error_x\":{\"color\":\"#2a3f5f\"},\"error_y\":{\"color\":\"#2a3f5f\"},\"marker\":{\"line\":{\"color\":\"#E5ECF6\",\"width\":0.5},\"pattern\":{\"fillmode\":\"overlay\",\"size\":10,\"solidity\":0.2}},\"type\":\"bar\"}],\"scattergeo\":[{\"type\":\"scattergeo\",\"marker\":{\"colorbar\":{\"outlinewidth\":0,\"ticks\":\"\"}}}],\"scatterpolar\":[{\"type\":\"scatterpolar\",\"marker\":{\"colorbar\":{\"outlinewidth\":0,\"ticks\":\"\"}}}],\"histogram\":[{\"marker\":{\"pattern\":{\"fillmode\":\"overlay\",\"size\":10,\"solidity\":0.2}},\"type\":\"histogram\"}],\"scattergl\":[{\"type\":\"scattergl\",\"marker\":{\"colorbar\":{\"outlinewidth\":0,\"ticks\":\"\"}}}],\"scatter3d\":[{\"type\":\"scatter3d\",\"line\":{\"colorbar\":{\"outlinewidth\":0,\"ticks\":\"\"}},\"marker\":{\"colorbar\":{\"outlinewidth\":0,\"ticks\":\"\"}}}],\"scattermapbox\":[{\"type\":\"scattermapbox\",\"marker\":{\"colorbar\":{\"outlinewidth\":0,\"ticks\":\"\"}}}],\"scatterternary\":[{\"type\":\"scatterternary\",\"marker\":{\"colorbar\":{\"outlinewidth\":0,\"ticks\":\"\"}}}],\"scattercarpet\":[{\"type\":\"scattercarpet\",\"marker\":{\"colorbar\":{\"outlinewidth\":0,\"ticks\":\"\"}}}],\"carpet\":[{\"aaxis\":{\"endlinecolor\":\"#2a3f5f\",\"gridcolor\":\"white\",\"linecolor\":\"white\",\"minorgridcolor\":\"white\",\"startlinecolor\":\"#2a3f5f\"},\"baxis\":{\"endlinecolor\":\"#2a3f5f\",\"gridcolor\":\"white\",\"linecolor\":\"white\",\"minorgridcolor\":\"white\",\"startlinecolor\":\"#2a3f5f\"},\"type\":\"carpet\"}],\"table\":[{\"cells\":{\"fill\":{\"color\":\"#EBF0F8\"},\"line\":{\"color\":\"white\"}},\"header\":{\"fill\":{\"color\":\"#C8D4E3\"},\"line\":{\"color\":\"white\"}},\"type\":\"table\"}],\"barpolar\":[{\"marker\":{\"line\":{\"color\":\"#E5ECF6\",\"width\":0.5},\"pattern\":{\"fillmode\":\"overlay\",\"size\":10,\"solidity\":0.2}},\"type\":\"barpolar\"}],\"pie\":[{\"automargin\":true,\"type\":\"pie\"}]},\"layout\":{\"autotypenumbers\":\"strict\",\"colorway\":[\"#636efa\",\"#EF553B\",\"#00cc96\",\"#ab63fa\",\"#FFA15A\",\"#19d3f3\",\"#FF6692\",\"#B6E880\",\"#FF97FF\",\"#FECB52\"],\"font\":{\"color\":\"#2a3f5f\"},\"hovermode\":\"closest\",\"hoverlabel\":{\"align\":\"left\"},\"paper_bgcolor\":\"white\",\"plot_bgcolor\":\"#E5ECF6\",\"polar\":{\"bgcolor\":\"#E5ECF6\",\"angularaxis\":{\"gridcolor\":\"white\",\"linecolor\":\"white\",\"ticks\":\"\"},\"radialaxis\":{\"gridcolor\":\"white\",\"linecolor\":\"white\",\"ticks\":\"\"}},\"ternary\":{\"bgcolor\":\"#E5ECF6\",\"aaxis\":{\"gridcolor\":\"white\",\"linecolor\":\"white\",\"ticks\":\"\"},\"baxis\":{\"gridcolor\":\"white\",\"linecolor\":\"white\",\"ticks\":\"\"},\"caxis\":{\"gridcolor\":\"white\",\"linecolor\":\"white\",\"ticks\":\"\"}},\"coloraxis\":{\"colorbar\":{\"outlinewidth\":0,\"ticks\":\"\"}},\"colorscale\":{\"sequential\":[[0.0,\"#0d0887\"],[0.1111111111111111,\"#46039f\"],[0.2222222222222222,\"#7201a8\"],[0.3333333333333333,\"#9c179e\"],[0.4444444444444444,\"#bd3786\"],[0.5555555555555556,\"#d8576b\"],[0.6666666666666666,\"#ed7953\"],[0.7777777777777778,\"#fb9f3a\"],[0.8888888888888888,\"#fdca26\"],[1.0,\"#f0f921\"]],\"sequentialminus\":[[0.0,\"#0d0887\"],[0.1111111111111111,\"#46039f\"],[0.2222222222222222,\"#7201a8\"],[0.3333333333333333,\"#9c179e\"],[0.4444444444444444,\"#bd3786\"],[0.5555555555555556,\"#d8576b\"],[0.6666666666666666,\"#ed7953\"],[0.7777777777777778,\"#fb9f3a\"],[0.8888888888888888,\"#fdca26\"],[1.0,\"#f0f921\"]],\"diverging\":[[0,\"#8e0152\"],[0.1,\"#c51b7d\"],[0.2,\"#de77ae\"],[0.3,\"#f1b6da\"],[0.4,\"#fde0ef\"],[0.5,\"#f7f7f7\"],[0.6,\"#e6f5d0\"],[0.7,\"#b8e186\"],[0.8,\"#7fbc41\"],[0.9,\"#4d9221\"],[1,\"#276419\"]]},\"xaxis\":{\"gridcolor\":\"white\",\"linecolor\":\"white\",\"ticks\":\"\",\"title\":{\"standoff\":15},\"zerolinecolor\":\"white\",\"automargin\":true,\"zerolinewidth\":2},\"yaxis\":{\"gridcolor\":\"white\",\"linecolor\":\"white\",\"ticks\":\"\",\"title\":{\"standoff\":15},\"zerolinecolor\":\"white\",\"automargin\":true,\"zerolinewidth\":2},\"scene\":{\"xaxis\":{\"backgroundcolor\":\"#E5ECF6\",\"gridcolor\":\"white\",\"linecolor\":\"white\",\"showbackground\":true,\"ticks\":\"\",\"zerolinecolor\":\"white\",\"gridwidth\":2},\"yaxis\":{\"backgroundcolor\":\"#E5ECF6\",\"gridcolor\":\"white\",\"linecolor\":\"white\",\"showbackground\":true,\"ticks\":\"\",\"zerolinecolor\":\"white\",\"gridwidth\":2},\"zaxis\":{\"backgroundcolor\":\"#E5ECF6\",\"gridcolor\":\"white\",\"linecolor\":\"white\",\"showbackground\":true,\"ticks\":\"\",\"zerolinecolor\":\"white\",\"gridwidth\":2}},\"shapedefaults\":{\"line\":{\"color\":\"#2a3f5f\"}},\"annotationdefaults\":{\"arrowcolor\":\"#2a3f5f\",\"arrowhead\":0,\"arrowwidth\":1},\"geo\":{\"bgcolor\":\"white\",\"landcolor\":\"#E5ECF6\",\"subunitcolor\":\"white\",\"showland\":true,\"showlakes\":true,\"lakecolor\":\"white\"},\"title\":{\"x\":0.05},\"mapbox\":{\"style\":\"light\"}}},\"title\":{\"text\":\"3D Surface Plot\"},\"scene\":{\"xaxis\":{\"title\":{\"text\":\"LOG_10_COPPER_GRADE\"}},\"yaxis\":{\"title\":{\"text\":\"LOG_10_ORE_TONNAGE\"}},\"zaxis\":{\"title\":{\"text\":\"LOG_10_INITIAL_COST\"}}},\"width\":800,\"height\":800},                        {\"responsive\": true}                    ).then(function(){\n",
       "                            \n",
       "var gd = document.getElementById('6d98726d-82a7-467b-906b-e0d967b00475');\n",
       "var x = new MutationObserver(function (mutations, observer) {{\n",
       "        var display = window.getComputedStyle(gd).display;\n",
       "        if (!display || display === 'none') {{\n",
       "            console.log([gd, 'removed!']);\n",
       "            Plotly.purge(gd);\n",
       "            observer.disconnect();\n",
       "        }}\n",
       "}});\n",
       "\n",
       "// Listen for the removal of the full notebook cells\n",
       "var notebookContainer = gd.closest('#notebook-container');\n",
       "if (notebookContainer) {{\n",
       "    x.observe(notebookContainer, {childList: true});\n",
       "}}\n",
       "\n",
       "// Listen for the clearing of the current output cell\n",
       "var outputEl = gd.closest('.output');\n",
       "if (outputEl) {{\n",
       "    x.observe(outputEl, {childList: true});\n",
       "}}\n",
       "\n",
       "                        })                };                });            </script>        </div>"
      ]
     },
     "metadata": {},
     "output_type": "display_data"
    }
   ],
   "source": [
    "col_x = 'LOG_10_COPPER_GRADE'\n",
    "col_y = 'LOG_10_ORE_TONNAGE'\n",
    "col_z = 'LOG_10_INITIAL_COST'\n",
    "df = X_train_knn\n",
    "\n",
    "fig = go.Figure(data=[go.Surface(x=df[col_x].values, \n",
    "                                 y=df[col_y].values, \n",
    "                                 z=df[col_z].values)])\n",
    "\n",
    "fig = go.Figure(data=[go.Scatter3d(\n",
    "    x=df[col_x].values, \n",
    "    y=df[col_y].values, \n",
    "    z=df[col_z].values,\n",
    "    mode='markers',\n",
    "    marker=dict(\n",
    "        size=5,\n",
    "        color=(y_train > 15).astype(int),\n",
    "        colorscale='viridis',\n",
    "        opacity=0.8\n",
    "    )\n",
    ")])\n",
    "\n",
    "# Customize the plot\n",
    "fig.update_layout(\n",
    "    title='3D Surface Plot',\n",
    "    scene=dict(\n",
    "        xaxis_title=col_x,\n",
    "        yaxis_title=col_y,\n",
    "        zaxis_title=col_z\n",
    "    ),\n",
    "    width=800,\n",
    "    height=800\n",
    ")\n",
    "\n",
    "# Show the plot\n",
    "fig.show()\n",
    "fig.write_html('prob_simple_categorical.html')"
   ]
  },
  {
   "cell_type": "code",
   "execution_count": 91,
   "metadata": {},
   "outputs": [
    {
     "data": {
      "application/vnd.plotly.v1+json": {
       "config": {
        "plotlyServerURL": "https://plot.ly"
       },
       "data": [
        {
         "marker": {
          "color": [
           42,
           25.9,
           30,
           19,
           22.7,
           36,
           0.4,
           13,
           12.7,
           25.2,
           11.9,
           12.9,
           32.1,
           -10.2,
           43.4,
           11.4,
           21,
           24,
           94,
           15.7,
           34.2,
           21.5,
           53.6,
           27,
           12.3,
           18.3,
           25,
           21,
           13.7,
           28,
           23.8,
           21.4,
           11,
           58,
           13.3,
           87,
           27,
           20.8,
           18,
           14.6,
           67,
           78,
           20.3,
           55.3,
           17.5,
           16.7,
           21,
           0.2,
           18.1,
           37.2,
           23.3,
           41,
           16.5,
           29.5,
           15.4,
           12.8,
           25,
           18,
           29,
           29,
           16.6,
           31,
           37,
           14,
           11.1,
           75,
           15.3,
           19.2,
           54,
           29,
           34,
           16.8,
           25.9,
           51,
           11.5,
           17.4,
           58,
           41.8,
           46.2,
           20.5,
           19,
           19.4,
           9.2,
           10,
           80.7,
           11.1,
           26.3,
           9.9,
           43.5,
           20.7,
           21.8,
           15
          ],
          "colorscale": [
           [
            0,
            "rgb(255,245,240)"
           ],
           [
            0.125,
            "rgb(254,224,210)"
           ],
           [
            0.25,
            "rgb(252,187,161)"
           ],
           [
            0.375,
            "rgb(252,146,114)"
           ],
           [
            0.5,
            "rgb(251,106,74)"
           ],
           [
            0.625,
            "rgb(239,59,44)"
           ],
           [
            0.75,
            "rgb(203,24,29)"
           ],
           [
            0.875,
            "rgb(165,15,21)"
           ],
           [
            1,
            "rgb(103,0,13)"
           ]
          ],
          "opacity": 0.8,
          "size": 5
         },
         "mode": "markers",
         "type": "scatter3d",
         "x": [
          1.2528153373609872,
          0.4295208211025614,
          1.5769611240411046,
          -0.11957170457485183,
          -0.3236291352264312,
          -0.5922884423181848,
          -0.12773779543962957,
          0.16906657645456225,
          -0.6152380336132407,
          0.1400112447601448,
          -0.2034400642610334,
          -1.210827763857873,
          0.4617074466186524,
          -0.42100351919501133,
          -0.9437375161462803,
          -0.095353152452536,
          -0.6783264700213372,
          -1.1817263459002607,
          -0.17492659414241327,
          1.030968514140541,
          0.22118457564506058,
          1.1994708572842878,
          0.73245080379735,
          0.3973341955864705,
          0.5146399789973296,
          -0.005478608743932967,
          1.978901609432259,
          0.8033596874968141,
          -0.8958899249553153,
          1.1736524159669337,
          -0.6385669741289893,
          -0.7192385741991327,
          -0.26225560640124473,
          1.0606826383231398,
          -0.27129321743476703,
          0.9926330705791686,
          -0.4550140508570526,
          -1.2832215175176465,
          1.7788204050950216,
          -1.0033816910812263,
          1.0273604113648604,
          1.238630012186569,
          -1.0238366689292857,
          0.924988196391258,
          0.7820287711345923,
          -0.8958899249553153,
          -0.33306976418590484,
          -1.9515308397628948,
          -1.0445924660393329,
          -0.5474793211212037,
          0.9080541732415315,
          -0.21500872548412353,
          -0.7192385741991327,
          -1.3412556591759426,
          -1.1817263459002607,
          -0.26225560640124473,
          0.4178839384196222,
          -0.34257396688323694,
          -0.9932643089238952,
          0.5904929715630707,
          0.41602809493448273,
          -0.26225560640124473,
          0.08239635668391242,
          -0.4584606185456194,
          -1.1419668500079132,
          0.6148976505204485,
          -0.17210667558775253,
          -0.5004895931416136,
          0.38219872863654253,
          1.2005364434180241,
          0.8573568388479867,
          0.2796519969801299,
          -1.540544468343972,
          -2.377576082473466,
          -1.0978579862140794,
          2.4884245698265404,
          0.1805126259697905,
          0.5739855463426525,
          -0.6113870932511596,
          -0.5255971964851955,
          -0.014978027284667498,
          -0.06630618440010556,
          -0.4907470903001887,
          1.5522718279818801,
          -1.6975248558383604,
          -0.6464297731118455,
          1.6171737805625148,
          -1.3992898008342387,
          -0.38779331007615664,
          1.7837614360828202,
          1.0249498748829156,
          2.611229709691251
         ],
         "y": [
          -1.9037664205330551,
          -0.32124242449567786,
          -1.2350204318007838,
          -0.29334946530429706,
          1.2302981514059268,
          0.5144975305419253,
          -0.05585013411158812,
          -0.26679863155594297,
          0.06022674261612372,
          -2.0214987076236297,
          1.4802891873756567,
          1.3057704363111915,
          -0.43799753409421877,
          -1.137514080505881,
          0.3906857159042258,
          1.464772788319604,
          0.9461235969543104,
          1.1480258329621054,
          -2.311279049957867,
          -0.3698602937274329,
          -0.9770137464288802,
          0.07901465832855292,
          -1.0858270396797622,
          -0.14694577016318666,
          -0.9807614831405815,
          -0.3990658899542913,
          -0.6564883422094213,
          -1.2811803913117243,
          1.5202885188073205,
          -0.12051021339342147,
          0.032726242839826274,
          2.2776430562393766,
          1.5706481081327008,
          0.4061942149362678,
          1.2576795741934432,
          -1.4947967301064087,
          0.2590283077638972,
          0.45575812617013106,
          -1.0427542932359655,
          0.5778185072717644,
          -0.6748482110962134,
          -0.7994661226835529,
          1.1772569841170235,
          -1.2271025106591604,
          -1.034590453684313,
          1.0655954503996428,
          0.3505548726549444,
          0.4217163975093765,
          -0.2441887749939625,
          -0.6495062417677213,
          -0.32046641049153396,
          -1.1886992561532987,
          0.986195681346976,
          0.5781657507262765,
          1.3909885513553586,
          0.24757771857188804,
          -0.2360007552258979,
          1.0472645103648377,
          0.22043498453988347,
          -1.0331688668124814,
          0.5340356860442614,
          0.5129970831673493,
          -2.796584332329542,
          0.6696327369358811,
          0.801927381676543,
          -0.7111711474203476,
          1.0658691147307595,
          0.8084233189828587,
          -1.1899535027244679,
          -1.2853096910234987,
          -0.9952500123315433,
          0.8211436266532738,
          0.5850191811966283,
          0.9840690184623772,
          1.0718842369360262,
          -0.24428220417862054,
          -1.086052267095097,
          -0.3715981434484503,
          0.630758075546618,
          0.18262970323199892,
          0.5114921900162795,
          -0.09774120803355611,
          1.9241455821860387,
          -0.3718297347079452,
          0.7840041853876141,
          1.3821084654393476,
          -1.1508600077652664,
          0.7005733752824219,
          -0.797955415022685,
          -0.8423886846240418,
          -0.521387176489512,
          -1.3011006333671458
         ],
         "z": [
          -1.434749290757188,
          -0.7974663516809458,
          -0.594076945130683,
          0.13950804170464198,
          1.424847186983325,
          0.4060226127913337,
          -2.4010258472163972,
          0.7153426325974654,
          0.30927677986846364,
          -2.2694022126029054,
          0.7696631928250225,
          1.6027200225680842,
          -0.8469144391076205,
          -0.9706109349838006,
          0.05462332580349726,
          1.6341006262807496,
          0.8286834438962368,
          1.419424540271632,
          -1.1770560737869684,
          0.802696932345842,
          -0.2494876652098264,
          0.046856429483972034,
          -1.5368647546059702,
          -0.8812301753763456,
          -0.3272698796884842,
          -0.3933281714467477,
          0.35145489314077727,
          -1.4289401642911228,
          1.4320211729304377,
          0.1101986456277869,
          0.3132377557121846,
          1.9158285834567081,
          2.1638724360172534,
          0.35882513465600174,
          0.8144257899226085,
          -1.722899895909623,
          -0.48184811265269994,
          0.23118137951079298,
          -0.31104718638890944,
          0.4524244087760303,
          -0.4954597702362063,
          -1.1135337755940147,
          0.6640773675213388,
          -1.0580539814771615,
          -0.9371827136047297,
          1.1970791103124434,
          -0.11414937255595725,
          0.39064786492084164,
          -0.5830865123837412,
          -1.2188769694243442,
          -0.2011417984046377,
          -2.2093895966008845,
          0.40045944028488406,
          0.2552844299581278,
          1.55687886548097,
          0.5078077504886248,
          -0.028820522671872004,
          0.9027473646397373,
          -0.6960717413696932,
          -1.0528347206176238,
          0.6237024876090327,
          -0.04193439647732897,
          -1.3455984609536382,
          0.9253277504559039,
          1.1072533754305498,
          0.0652885547536601,
          0.4558277571916923,
          0.584028548054763,
          -0.53785511018943,
          -0.30462156894378756,
          -0.21706966944503256,
          0.9141286114388149,
          -0.24654439076341927,
          -0.24071942043841518,
          1.0472167181291727,
          1.4069595524182459,
          -0.9553423261015209,
          0.06338785771021901,
          0.34257078693594767,
          -0.3417743055548774,
          0.5466138236697262,
          0.3125598174191549,
          2.0017903138966333,
          -1.0690816526602498,
          -1.2347609747376618,
          1.6594745754350608,
          -0.306919533833672,
          0.2141256093313945,
          -2.069510848286689,
          -0.32548490899831223,
          -0.006399263211179755,
          0.3339621057145196
         ]
        }
       ],
       "layout": {
        "height": 800,
        "scene": {
         "xaxis": {
          "title": {
           "text": "LOG_10_COPPER_GRADE"
          }
         },
         "yaxis": {
          "title": {
           "text": "LOG_10_ORE_TONNAGE"
          }
         },
         "zaxis": {
          "title": {
           "text": "LOG_10_INITIAL_COST"
          }
         }
        },
        "template": {
         "data": {
          "bar": [
           {
            "error_x": {
             "color": "#2a3f5f"
            },
            "error_y": {
             "color": "#2a3f5f"
            },
            "marker": {
             "line": {
              "color": "#E5ECF6",
              "width": 0.5
             },
             "pattern": {
              "fillmode": "overlay",
              "size": 10,
              "solidity": 0.2
             }
            },
            "type": "bar"
           }
          ],
          "barpolar": [
           {
            "marker": {
             "line": {
              "color": "#E5ECF6",
              "width": 0.5
             },
             "pattern": {
              "fillmode": "overlay",
              "size": 10,
              "solidity": 0.2
             }
            },
            "type": "barpolar"
           }
          ],
          "carpet": [
           {
            "aaxis": {
             "endlinecolor": "#2a3f5f",
             "gridcolor": "white",
             "linecolor": "white",
             "minorgridcolor": "white",
             "startlinecolor": "#2a3f5f"
            },
            "baxis": {
             "endlinecolor": "#2a3f5f",
             "gridcolor": "white",
             "linecolor": "white",
             "minorgridcolor": "white",
             "startlinecolor": "#2a3f5f"
            },
            "type": "carpet"
           }
          ],
          "choropleth": [
           {
            "colorbar": {
             "outlinewidth": 0,
             "ticks": ""
            },
            "type": "choropleth"
           }
          ],
          "contour": [
           {
            "colorbar": {
             "outlinewidth": 0,
             "ticks": ""
            },
            "colorscale": [
             [
              0,
              "#0d0887"
             ],
             [
              0.1111111111111111,
              "#46039f"
             ],
             [
              0.2222222222222222,
              "#7201a8"
             ],
             [
              0.3333333333333333,
              "#9c179e"
             ],
             [
              0.4444444444444444,
              "#bd3786"
             ],
             [
              0.5555555555555556,
              "#d8576b"
             ],
             [
              0.6666666666666666,
              "#ed7953"
             ],
             [
              0.7777777777777778,
              "#fb9f3a"
             ],
             [
              0.8888888888888888,
              "#fdca26"
             ],
             [
              1,
              "#f0f921"
             ]
            ],
            "type": "contour"
           }
          ],
          "contourcarpet": [
           {
            "colorbar": {
             "outlinewidth": 0,
             "ticks": ""
            },
            "type": "contourcarpet"
           }
          ],
          "heatmap": [
           {
            "colorbar": {
             "outlinewidth": 0,
             "ticks": ""
            },
            "colorscale": [
             [
              0,
              "#0d0887"
             ],
             [
              0.1111111111111111,
              "#46039f"
             ],
             [
              0.2222222222222222,
              "#7201a8"
             ],
             [
              0.3333333333333333,
              "#9c179e"
             ],
             [
              0.4444444444444444,
              "#bd3786"
             ],
             [
              0.5555555555555556,
              "#d8576b"
             ],
             [
              0.6666666666666666,
              "#ed7953"
             ],
             [
              0.7777777777777778,
              "#fb9f3a"
             ],
             [
              0.8888888888888888,
              "#fdca26"
             ],
             [
              1,
              "#f0f921"
             ]
            ],
            "type": "heatmap"
           }
          ],
          "heatmapgl": [
           {
            "colorbar": {
             "outlinewidth": 0,
             "ticks": ""
            },
            "colorscale": [
             [
              0,
              "#0d0887"
             ],
             [
              0.1111111111111111,
              "#46039f"
             ],
             [
              0.2222222222222222,
              "#7201a8"
             ],
             [
              0.3333333333333333,
              "#9c179e"
             ],
             [
              0.4444444444444444,
              "#bd3786"
             ],
             [
              0.5555555555555556,
              "#d8576b"
             ],
             [
              0.6666666666666666,
              "#ed7953"
             ],
             [
              0.7777777777777778,
              "#fb9f3a"
             ],
             [
              0.8888888888888888,
              "#fdca26"
             ],
             [
              1,
              "#f0f921"
             ]
            ],
            "type": "heatmapgl"
           }
          ],
          "histogram": [
           {
            "marker": {
             "pattern": {
              "fillmode": "overlay",
              "size": 10,
              "solidity": 0.2
             }
            },
            "type": "histogram"
           }
          ],
          "histogram2d": [
           {
            "colorbar": {
             "outlinewidth": 0,
             "ticks": ""
            },
            "colorscale": [
             [
              0,
              "#0d0887"
             ],
             [
              0.1111111111111111,
              "#46039f"
             ],
             [
              0.2222222222222222,
              "#7201a8"
             ],
             [
              0.3333333333333333,
              "#9c179e"
             ],
             [
              0.4444444444444444,
              "#bd3786"
             ],
             [
              0.5555555555555556,
              "#d8576b"
             ],
             [
              0.6666666666666666,
              "#ed7953"
             ],
             [
              0.7777777777777778,
              "#fb9f3a"
             ],
             [
              0.8888888888888888,
              "#fdca26"
             ],
             [
              1,
              "#f0f921"
             ]
            ],
            "type": "histogram2d"
           }
          ],
          "histogram2dcontour": [
           {
            "colorbar": {
             "outlinewidth": 0,
             "ticks": ""
            },
            "colorscale": [
             [
              0,
              "#0d0887"
             ],
             [
              0.1111111111111111,
              "#46039f"
             ],
             [
              0.2222222222222222,
              "#7201a8"
             ],
             [
              0.3333333333333333,
              "#9c179e"
             ],
             [
              0.4444444444444444,
              "#bd3786"
             ],
             [
              0.5555555555555556,
              "#d8576b"
             ],
             [
              0.6666666666666666,
              "#ed7953"
             ],
             [
              0.7777777777777778,
              "#fb9f3a"
             ],
             [
              0.8888888888888888,
              "#fdca26"
             ],
             [
              1,
              "#f0f921"
             ]
            ],
            "type": "histogram2dcontour"
           }
          ],
          "mesh3d": [
           {
            "colorbar": {
             "outlinewidth": 0,
             "ticks": ""
            },
            "type": "mesh3d"
           }
          ],
          "parcoords": [
           {
            "line": {
             "colorbar": {
              "outlinewidth": 0,
              "ticks": ""
             }
            },
            "type": "parcoords"
           }
          ],
          "pie": [
           {
            "automargin": true,
            "type": "pie"
           }
          ],
          "scatter": [
           {
            "fillpattern": {
             "fillmode": "overlay",
             "size": 10,
             "solidity": 0.2
            },
            "type": "scatter"
           }
          ],
          "scatter3d": [
           {
            "line": {
             "colorbar": {
              "outlinewidth": 0,
              "ticks": ""
             }
            },
            "marker": {
             "colorbar": {
              "outlinewidth": 0,
              "ticks": ""
             }
            },
            "type": "scatter3d"
           }
          ],
          "scattercarpet": [
           {
            "marker": {
             "colorbar": {
              "outlinewidth": 0,
              "ticks": ""
             }
            },
            "type": "scattercarpet"
           }
          ],
          "scattergeo": [
           {
            "marker": {
             "colorbar": {
              "outlinewidth": 0,
              "ticks": ""
             }
            },
            "type": "scattergeo"
           }
          ],
          "scattergl": [
           {
            "marker": {
             "colorbar": {
              "outlinewidth": 0,
              "ticks": ""
             }
            },
            "type": "scattergl"
           }
          ],
          "scattermapbox": [
           {
            "marker": {
             "colorbar": {
              "outlinewidth": 0,
              "ticks": ""
             }
            },
            "type": "scattermapbox"
           }
          ],
          "scatterpolar": [
           {
            "marker": {
             "colorbar": {
              "outlinewidth": 0,
              "ticks": ""
             }
            },
            "type": "scatterpolar"
           }
          ],
          "scatterpolargl": [
           {
            "marker": {
             "colorbar": {
              "outlinewidth": 0,
              "ticks": ""
             }
            },
            "type": "scatterpolargl"
           }
          ],
          "scatterternary": [
           {
            "marker": {
             "colorbar": {
              "outlinewidth": 0,
              "ticks": ""
             }
            },
            "type": "scatterternary"
           }
          ],
          "surface": [
           {
            "colorbar": {
             "outlinewidth": 0,
             "ticks": ""
            },
            "colorscale": [
             [
              0,
              "#0d0887"
             ],
             [
              0.1111111111111111,
              "#46039f"
             ],
             [
              0.2222222222222222,
              "#7201a8"
             ],
             [
              0.3333333333333333,
              "#9c179e"
             ],
             [
              0.4444444444444444,
              "#bd3786"
             ],
             [
              0.5555555555555556,
              "#d8576b"
             ],
             [
              0.6666666666666666,
              "#ed7953"
             ],
             [
              0.7777777777777778,
              "#fb9f3a"
             ],
             [
              0.8888888888888888,
              "#fdca26"
             ],
             [
              1,
              "#f0f921"
             ]
            ],
            "type": "surface"
           }
          ],
          "table": [
           {
            "cells": {
             "fill": {
              "color": "#EBF0F8"
             },
             "line": {
              "color": "white"
             }
            },
            "header": {
             "fill": {
              "color": "#C8D4E3"
             },
             "line": {
              "color": "white"
             }
            },
            "type": "table"
           }
          ]
         },
         "layout": {
          "annotationdefaults": {
           "arrowcolor": "#2a3f5f",
           "arrowhead": 0,
           "arrowwidth": 1
          },
          "autotypenumbers": "strict",
          "coloraxis": {
           "colorbar": {
            "outlinewidth": 0,
            "ticks": ""
           }
          },
          "colorscale": {
           "diverging": [
            [
             0,
             "#8e0152"
            ],
            [
             0.1,
             "#c51b7d"
            ],
            [
             0.2,
             "#de77ae"
            ],
            [
             0.3,
             "#f1b6da"
            ],
            [
             0.4,
             "#fde0ef"
            ],
            [
             0.5,
             "#f7f7f7"
            ],
            [
             0.6,
             "#e6f5d0"
            ],
            [
             0.7,
             "#b8e186"
            ],
            [
             0.8,
             "#7fbc41"
            ],
            [
             0.9,
             "#4d9221"
            ],
            [
             1,
             "#276419"
            ]
           ],
           "sequential": [
            [
             0,
             "#0d0887"
            ],
            [
             0.1111111111111111,
             "#46039f"
            ],
            [
             0.2222222222222222,
             "#7201a8"
            ],
            [
             0.3333333333333333,
             "#9c179e"
            ],
            [
             0.4444444444444444,
             "#bd3786"
            ],
            [
             0.5555555555555556,
             "#d8576b"
            ],
            [
             0.6666666666666666,
             "#ed7953"
            ],
            [
             0.7777777777777778,
             "#fb9f3a"
            ],
            [
             0.8888888888888888,
             "#fdca26"
            ],
            [
             1,
             "#f0f921"
            ]
           ],
           "sequentialminus": [
            [
             0,
             "#0d0887"
            ],
            [
             0.1111111111111111,
             "#46039f"
            ],
            [
             0.2222222222222222,
             "#7201a8"
            ],
            [
             0.3333333333333333,
             "#9c179e"
            ],
            [
             0.4444444444444444,
             "#bd3786"
            ],
            [
             0.5555555555555556,
             "#d8576b"
            ],
            [
             0.6666666666666666,
             "#ed7953"
            ],
            [
             0.7777777777777778,
             "#fb9f3a"
            ],
            [
             0.8888888888888888,
             "#fdca26"
            ],
            [
             1,
             "#f0f921"
            ]
           ]
          },
          "colorway": [
           "#636efa",
           "#EF553B",
           "#00cc96",
           "#ab63fa",
           "#FFA15A",
           "#19d3f3",
           "#FF6692",
           "#B6E880",
           "#FF97FF",
           "#FECB52"
          ],
          "font": {
           "color": "#2a3f5f"
          },
          "geo": {
           "bgcolor": "white",
           "lakecolor": "white",
           "landcolor": "#E5ECF6",
           "showlakes": true,
           "showland": true,
           "subunitcolor": "white"
          },
          "hoverlabel": {
           "align": "left"
          },
          "hovermode": "closest",
          "mapbox": {
           "style": "light"
          },
          "paper_bgcolor": "white",
          "plot_bgcolor": "#E5ECF6",
          "polar": {
           "angularaxis": {
            "gridcolor": "white",
            "linecolor": "white",
            "ticks": ""
           },
           "bgcolor": "#E5ECF6",
           "radialaxis": {
            "gridcolor": "white",
            "linecolor": "white",
            "ticks": ""
           }
          },
          "scene": {
           "xaxis": {
            "backgroundcolor": "#E5ECF6",
            "gridcolor": "white",
            "gridwidth": 2,
            "linecolor": "white",
            "showbackground": true,
            "ticks": "",
            "zerolinecolor": "white"
           },
           "yaxis": {
            "backgroundcolor": "#E5ECF6",
            "gridcolor": "white",
            "gridwidth": 2,
            "linecolor": "white",
            "showbackground": true,
            "ticks": "",
            "zerolinecolor": "white"
           },
           "zaxis": {
            "backgroundcolor": "#E5ECF6",
            "gridcolor": "white",
            "gridwidth": 2,
            "linecolor": "white",
            "showbackground": true,
            "ticks": "",
            "zerolinecolor": "white"
           }
          },
          "shapedefaults": {
           "line": {
            "color": "#2a3f5f"
           }
          },
          "ternary": {
           "aaxis": {
            "gridcolor": "white",
            "linecolor": "white",
            "ticks": ""
           },
           "baxis": {
            "gridcolor": "white",
            "linecolor": "white",
            "ticks": ""
           },
           "bgcolor": "#E5ECF6",
           "caxis": {
            "gridcolor": "white",
            "linecolor": "white",
            "ticks": ""
           }
          },
          "title": {
           "x": 0.05
          },
          "xaxis": {
           "automargin": true,
           "gridcolor": "white",
           "linecolor": "white",
           "ticks": "",
           "title": {
            "standoff": 15
           },
           "zerolinecolor": "white",
           "zerolinewidth": 2
          },
          "yaxis": {
           "automargin": true,
           "gridcolor": "white",
           "linecolor": "white",
           "ticks": "",
           "title": {
            "standoff": 15
           },
           "zerolinecolor": "white",
           "zerolinewidth": 2
          }
         }
        },
        "title": {
         "text": "3D Surface Plot"
        },
        "width": 800
       }
      },
      "text/html": [
       "<div>                            <div id=\"d1db37f1-f166-4271-8f5c-7b4f674b2746\" class=\"plotly-graph-div\" style=\"height:800px; width:800px;\"></div>            <script type=\"text/javascript\">                require([\"plotly\"], function(Plotly) {                    window.PLOTLYENV=window.PLOTLYENV || {};                                    if (document.getElementById(\"d1db37f1-f166-4271-8f5c-7b4f674b2746\")) {                    Plotly.newPlot(                        \"d1db37f1-f166-4271-8f5c-7b4f674b2746\",                        [{\"marker\":{\"color\":[42.0,25.9,30.0,19.0,22.7,36.0,0.4,13.0,12.7,25.2,11.9,12.9,32.1,-10.2,43.4,11.4,21.0,24.0,94.0,15.7,34.2,21.5,53.6,27.0,12.3,18.3,25.0,21.0,13.7,28.0,23.8,21.4,11.0,58.0,13.3,87.0,27.0,20.8,18.0,14.6,67.0,78.0,20.3,55.3,17.5,16.7,21.0,0.2,18.1,37.2,23.3,41.0,16.5,29.5,15.4,12.8,25.0,18.0,29.0,29.0,16.6,31.0,37.0,14.0,11.1,75.0,15.3,19.2,54.0,29.0,34.0,16.8,25.9,51.0,11.5,17.4,58.0,41.8,46.2,20.5,19.0,19.4,9.2,10.0,80.7,11.1,26.3,9.9,43.5,20.7,21.8,15.0],\"colorscale\":[[0.0,\"rgb(255,245,240)\"],[0.125,\"rgb(254,224,210)\"],[0.25,\"rgb(252,187,161)\"],[0.375,\"rgb(252,146,114)\"],[0.5,\"rgb(251,106,74)\"],[0.625,\"rgb(239,59,44)\"],[0.75,\"rgb(203,24,29)\"],[0.875,\"rgb(165,15,21)\"],[1.0,\"rgb(103,0,13)\"]],\"opacity\":0.8,\"size\":5},\"mode\":\"markers\",\"x\":[1.2528153373609872,0.4295208211025614,1.5769611240411046,-0.11957170457485183,-0.3236291352264312,-0.5922884423181848,-0.12773779543962957,0.16906657645456225,-0.6152380336132407,0.1400112447601448,-0.2034400642610334,-1.210827763857873,0.4617074466186524,-0.42100351919501133,-0.9437375161462803,-0.095353152452536,-0.6783264700213372,-1.1817263459002607,-0.17492659414241327,1.030968514140541,0.22118457564506058,1.1994708572842878,0.73245080379735,0.3973341955864705,0.5146399789973296,-0.005478608743932967,1.978901609432259,0.8033596874968141,-0.8958899249553153,1.1736524159669337,-0.6385669741289893,-0.7192385741991327,-0.26225560640124473,1.0606826383231398,-0.27129321743476703,0.9926330705791686,-0.4550140508570526,-1.2832215175176465,1.7788204050950216,-1.0033816910812263,1.0273604113648604,1.238630012186569,-1.0238366689292857,0.924988196391258,0.7820287711345923,-0.8958899249553153,-0.33306976418590484,-1.9515308397628948,-1.0445924660393329,-0.5474793211212037,0.9080541732415315,-0.21500872548412353,-0.7192385741991327,-1.3412556591759426,-1.1817263459002607,-0.26225560640124473,0.4178839384196222,-0.34257396688323694,-0.9932643089238952,0.5904929715630707,0.41602809493448273,-0.26225560640124473,0.08239635668391242,-0.4584606185456194,-1.1419668500079132,0.6148976505204485,-0.17210667558775253,-0.5004895931416136,0.38219872863654253,1.2005364434180241,0.8573568388479867,0.2796519969801299,-1.540544468343972,-2.377576082473466,-1.0978579862140794,2.4884245698265404,0.1805126259697905,0.5739855463426525,-0.6113870932511596,-0.5255971964851955,-0.014978027284667498,-0.06630618440010556,-0.4907470903001887,1.5522718279818801,-1.6975248558383604,-0.6464297731118455,1.6171737805625148,-1.3992898008342387,-0.38779331007615664,1.7837614360828202,1.0249498748829156,2.611229709691251],\"y\":[-1.9037664205330551,-0.32124242449567786,-1.2350204318007838,-0.29334946530429706,1.2302981514059268,0.5144975305419253,-0.05585013411158812,-0.26679863155594297,0.06022674261612372,-2.0214987076236297,1.4802891873756567,1.3057704363111915,-0.43799753409421877,-1.137514080505881,0.3906857159042258,1.464772788319604,0.9461235969543104,1.1480258329621054,-2.311279049957867,-0.3698602937274329,-0.9770137464288802,0.07901465832855292,-1.0858270396797622,-0.14694577016318666,-0.9807614831405815,-0.3990658899542913,-0.6564883422094213,-1.2811803913117243,1.5202885188073205,-0.12051021339342147,0.032726242839826274,2.2776430562393766,1.5706481081327008,0.4061942149362678,1.2576795741934432,-1.4947967301064087,0.2590283077638972,0.45575812617013106,-1.0427542932359655,0.5778185072717644,-0.6748482110962134,-0.7994661226835529,1.1772569841170235,-1.2271025106591604,-1.034590453684313,1.0655954503996428,0.3505548726549444,0.4217163975093765,-0.2441887749939625,-0.6495062417677213,-0.32046641049153396,-1.1886992561532987,0.986195681346976,0.5781657507262765,1.3909885513553586,0.24757771857188804,-0.2360007552258979,1.0472645103648377,0.22043498453988347,-1.0331688668124814,0.5340356860442614,0.5129970831673493,-2.796584332329542,0.6696327369358811,0.801927381676543,-0.7111711474203476,1.0658691147307595,0.8084233189828587,-1.1899535027244679,-1.2853096910234987,-0.9952500123315433,0.8211436266532738,0.5850191811966283,0.9840690184623772,1.0718842369360262,-0.24428220417862054,-1.086052267095097,-0.3715981434484503,0.630758075546618,0.18262970323199892,0.5114921900162795,-0.09774120803355611,1.9241455821860387,-0.3718297347079452,0.7840041853876141,1.3821084654393476,-1.1508600077652664,0.7005733752824219,-0.797955415022685,-0.8423886846240418,-0.521387176489512,-1.3011006333671458],\"z\":[-1.434749290757188,-0.7974663516809458,-0.594076945130683,0.13950804170464198,1.424847186983325,0.4060226127913337,-2.4010258472163972,0.7153426325974654,0.30927677986846364,-2.2694022126029054,0.7696631928250225,1.6027200225680842,-0.8469144391076205,-0.9706109349838006,0.05462332580349726,1.6341006262807496,0.8286834438962368,1.419424540271632,-1.1770560737869684,0.802696932345842,-0.2494876652098264,0.046856429483972034,-1.5368647546059702,-0.8812301753763456,-0.3272698796884842,-0.3933281714467477,0.35145489314077727,-1.4289401642911228,1.4320211729304377,0.1101986456277869,0.3132377557121846,1.9158285834567081,2.1638724360172534,0.35882513465600174,0.8144257899226085,-1.722899895909623,-0.48184811265269994,0.23118137951079298,-0.31104718638890944,0.4524244087760303,-0.4954597702362063,-1.1135337755940147,0.6640773675213388,-1.0580539814771615,-0.9371827136047297,1.1970791103124434,-0.11414937255595725,0.39064786492084164,-0.5830865123837412,-1.2188769694243442,-0.2011417984046377,-2.2093895966008845,0.40045944028488406,0.2552844299581278,1.55687886548097,0.5078077504886248,-0.028820522671872004,0.9027473646397373,-0.6960717413696932,-1.0528347206176238,0.6237024876090327,-0.04193439647732897,-1.3455984609536382,0.9253277504559039,1.1072533754305498,0.0652885547536601,0.4558277571916923,0.584028548054763,-0.53785511018943,-0.30462156894378756,-0.21706966944503256,0.9141286114388149,-0.24654439076341927,-0.24071942043841518,1.0472167181291727,1.4069595524182459,-0.9553423261015209,0.06338785771021901,0.34257078693594767,-0.3417743055548774,0.5466138236697262,0.3125598174191549,2.0017903138966333,-1.0690816526602498,-1.2347609747376618,1.6594745754350608,-0.306919533833672,0.2141256093313945,-2.069510848286689,-0.32548490899831223,-0.006399263211179755,0.3339621057145196],\"type\":\"scatter3d\"}],                        {\"template\":{\"data\":{\"histogram2dcontour\":[{\"type\":\"histogram2dcontour\",\"colorbar\":{\"outlinewidth\":0,\"ticks\":\"\"},\"colorscale\":[[0.0,\"#0d0887\"],[0.1111111111111111,\"#46039f\"],[0.2222222222222222,\"#7201a8\"],[0.3333333333333333,\"#9c179e\"],[0.4444444444444444,\"#bd3786\"],[0.5555555555555556,\"#d8576b\"],[0.6666666666666666,\"#ed7953\"],[0.7777777777777778,\"#fb9f3a\"],[0.8888888888888888,\"#fdca26\"],[1.0,\"#f0f921\"]]}],\"choropleth\":[{\"type\":\"choropleth\",\"colorbar\":{\"outlinewidth\":0,\"ticks\":\"\"}}],\"histogram2d\":[{\"type\":\"histogram2d\",\"colorbar\":{\"outlinewidth\":0,\"ticks\":\"\"},\"colorscale\":[[0.0,\"#0d0887\"],[0.1111111111111111,\"#46039f\"],[0.2222222222222222,\"#7201a8\"],[0.3333333333333333,\"#9c179e\"],[0.4444444444444444,\"#bd3786\"],[0.5555555555555556,\"#d8576b\"],[0.6666666666666666,\"#ed7953\"],[0.7777777777777778,\"#fb9f3a\"],[0.8888888888888888,\"#fdca26\"],[1.0,\"#f0f921\"]]}],\"heatmap\":[{\"type\":\"heatmap\",\"colorbar\":{\"outlinewidth\":0,\"ticks\":\"\"},\"colorscale\":[[0.0,\"#0d0887\"],[0.1111111111111111,\"#46039f\"],[0.2222222222222222,\"#7201a8\"],[0.3333333333333333,\"#9c179e\"],[0.4444444444444444,\"#bd3786\"],[0.5555555555555556,\"#d8576b\"],[0.6666666666666666,\"#ed7953\"],[0.7777777777777778,\"#fb9f3a\"],[0.8888888888888888,\"#fdca26\"],[1.0,\"#f0f921\"]]}],\"heatmapgl\":[{\"type\":\"heatmapgl\",\"colorbar\":{\"outlinewidth\":0,\"ticks\":\"\"},\"colorscale\":[[0.0,\"#0d0887\"],[0.1111111111111111,\"#46039f\"],[0.2222222222222222,\"#7201a8\"],[0.3333333333333333,\"#9c179e\"],[0.4444444444444444,\"#bd3786\"],[0.5555555555555556,\"#d8576b\"],[0.6666666666666666,\"#ed7953\"],[0.7777777777777778,\"#fb9f3a\"],[0.8888888888888888,\"#fdca26\"],[1.0,\"#f0f921\"]]}],\"contourcarpet\":[{\"type\":\"contourcarpet\",\"colorbar\":{\"outlinewidth\":0,\"ticks\":\"\"}}],\"contour\":[{\"type\":\"contour\",\"colorbar\":{\"outlinewidth\":0,\"ticks\":\"\"},\"colorscale\":[[0.0,\"#0d0887\"],[0.1111111111111111,\"#46039f\"],[0.2222222222222222,\"#7201a8\"],[0.3333333333333333,\"#9c179e\"],[0.4444444444444444,\"#bd3786\"],[0.5555555555555556,\"#d8576b\"],[0.6666666666666666,\"#ed7953\"],[0.7777777777777778,\"#fb9f3a\"],[0.8888888888888888,\"#fdca26\"],[1.0,\"#f0f921\"]]}],\"surface\":[{\"type\":\"surface\",\"colorbar\":{\"outlinewidth\":0,\"ticks\":\"\"},\"colorscale\":[[0.0,\"#0d0887\"],[0.1111111111111111,\"#46039f\"],[0.2222222222222222,\"#7201a8\"],[0.3333333333333333,\"#9c179e\"],[0.4444444444444444,\"#bd3786\"],[0.5555555555555556,\"#d8576b\"],[0.6666666666666666,\"#ed7953\"],[0.7777777777777778,\"#fb9f3a\"],[0.8888888888888888,\"#fdca26\"],[1.0,\"#f0f921\"]]}],\"mesh3d\":[{\"type\":\"mesh3d\",\"colorbar\":{\"outlinewidth\":0,\"ticks\":\"\"}}],\"scatter\":[{\"fillpattern\":{\"fillmode\":\"overlay\",\"size\":10,\"solidity\":0.2},\"type\":\"scatter\"}],\"parcoords\":[{\"type\":\"parcoords\",\"line\":{\"colorbar\":{\"outlinewidth\":0,\"ticks\":\"\"}}}],\"scatterpolargl\":[{\"type\":\"scatterpolargl\",\"marker\":{\"colorbar\":{\"outlinewidth\":0,\"ticks\":\"\"}}}],\"bar\":[{\"error_x\":{\"color\":\"#2a3f5f\"},\"error_y\":{\"color\":\"#2a3f5f\"},\"marker\":{\"line\":{\"color\":\"#E5ECF6\",\"width\":0.5},\"pattern\":{\"fillmode\":\"overlay\",\"size\":10,\"solidity\":0.2}},\"type\":\"bar\"}],\"scattergeo\":[{\"type\":\"scattergeo\",\"marker\":{\"colorbar\":{\"outlinewidth\":0,\"ticks\":\"\"}}}],\"scatterpolar\":[{\"type\":\"scatterpolar\",\"marker\":{\"colorbar\":{\"outlinewidth\":0,\"ticks\":\"\"}}}],\"histogram\":[{\"marker\":{\"pattern\":{\"fillmode\":\"overlay\",\"size\":10,\"solidity\":0.2}},\"type\":\"histogram\"}],\"scattergl\":[{\"type\":\"scattergl\",\"marker\":{\"colorbar\":{\"outlinewidth\":0,\"ticks\":\"\"}}}],\"scatter3d\":[{\"type\":\"scatter3d\",\"line\":{\"colorbar\":{\"outlinewidth\":0,\"ticks\":\"\"}},\"marker\":{\"colorbar\":{\"outlinewidth\":0,\"ticks\":\"\"}}}],\"scattermapbox\":[{\"type\":\"scattermapbox\",\"marker\":{\"colorbar\":{\"outlinewidth\":0,\"ticks\":\"\"}}}],\"scatterternary\":[{\"type\":\"scatterternary\",\"marker\":{\"colorbar\":{\"outlinewidth\":0,\"ticks\":\"\"}}}],\"scattercarpet\":[{\"type\":\"scattercarpet\",\"marker\":{\"colorbar\":{\"outlinewidth\":0,\"ticks\":\"\"}}}],\"carpet\":[{\"aaxis\":{\"endlinecolor\":\"#2a3f5f\",\"gridcolor\":\"white\",\"linecolor\":\"white\",\"minorgridcolor\":\"white\",\"startlinecolor\":\"#2a3f5f\"},\"baxis\":{\"endlinecolor\":\"#2a3f5f\",\"gridcolor\":\"white\",\"linecolor\":\"white\",\"minorgridcolor\":\"white\",\"startlinecolor\":\"#2a3f5f\"},\"type\":\"carpet\"}],\"table\":[{\"cells\":{\"fill\":{\"color\":\"#EBF0F8\"},\"line\":{\"color\":\"white\"}},\"header\":{\"fill\":{\"color\":\"#C8D4E3\"},\"line\":{\"color\":\"white\"}},\"type\":\"table\"}],\"barpolar\":[{\"marker\":{\"line\":{\"color\":\"#E5ECF6\",\"width\":0.5},\"pattern\":{\"fillmode\":\"overlay\",\"size\":10,\"solidity\":0.2}},\"type\":\"barpolar\"}],\"pie\":[{\"automargin\":true,\"type\":\"pie\"}]},\"layout\":{\"autotypenumbers\":\"strict\",\"colorway\":[\"#636efa\",\"#EF553B\",\"#00cc96\",\"#ab63fa\",\"#FFA15A\",\"#19d3f3\",\"#FF6692\",\"#B6E880\",\"#FF97FF\",\"#FECB52\"],\"font\":{\"color\":\"#2a3f5f\"},\"hovermode\":\"closest\",\"hoverlabel\":{\"align\":\"left\"},\"paper_bgcolor\":\"white\",\"plot_bgcolor\":\"#E5ECF6\",\"polar\":{\"bgcolor\":\"#E5ECF6\",\"angularaxis\":{\"gridcolor\":\"white\",\"linecolor\":\"white\",\"ticks\":\"\"},\"radialaxis\":{\"gridcolor\":\"white\",\"linecolor\":\"white\",\"ticks\":\"\"}},\"ternary\":{\"bgcolor\":\"#E5ECF6\",\"aaxis\":{\"gridcolor\":\"white\",\"linecolor\":\"white\",\"ticks\":\"\"},\"baxis\":{\"gridcolor\":\"white\",\"linecolor\":\"white\",\"ticks\":\"\"},\"caxis\":{\"gridcolor\":\"white\",\"linecolor\":\"white\",\"ticks\":\"\"}},\"coloraxis\":{\"colorbar\":{\"outlinewidth\":0,\"ticks\":\"\"}},\"colorscale\":{\"sequential\":[[0.0,\"#0d0887\"],[0.1111111111111111,\"#46039f\"],[0.2222222222222222,\"#7201a8\"],[0.3333333333333333,\"#9c179e\"],[0.4444444444444444,\"#bd3786\"],[0.5555555555555556,\"#d8576b\"],[0.6666666666666666,\"#ed7953\"],[0.7777777777777778,\"#fb9f3a\"],[0.8888888888888888,\"#fdca26\"],[1.0,\"#f0f921\"]],\"sequentialminus\":[[0.0,\"#0d0887\"],[0.1111111111111111,\"#46039f\"],[0.2222222222222222,\"#7201a8\"],[0.3333333333333333,\"#9c179e\"],[0.4444444444444444,\"#bd3786\"],[0.5555555555555556,\"#d8576b\"],[0.6666666666666666,\"#ed7953\"],[0.7777777777777778,\"#fb9f3a\"],[0.8888888888888888,\"#fdca26\"],[1.0,\"#f0f921\"]],\"diverging\":[[0,\"#8e0152\"],[0.1,\"#c51b7d\"],[0.2,\"#de77ae\"],[0.3,\"#f1b6da\"],[0.4,\"#fde0ef\"],[0.5,\"#f7f7f7\"],[0.6,\"#e6f5d0\"],[0.7,\"#b8e186\"],[0.8,\"#7fbc41\"],[0.9,\"#4d9221\"],[1,\"#276419\"]]},\"xaxis\":{\"gridcolor\":\"white\",\"linecolor\":\"white\",\"ticks\":\"\",\"title\":{\"standoff\":15},\"zerolinecolor\":\"white\",\"automargin\":true,\"zerolinewidth\":2},\"yaxis\":{\"gridcolor\":\"white\",\"linecolor\":\"white\",\"ticks\":\"\",\"title\":{\"standoff\":15},\"zerolinecolor\":\"white\",\"automargin\":true,\"zerolinewidth\":2},\"scene\":{\"xaxis\":{\"backgroundcolor\":\"#E5ECF6\",\"gridcolor\":\"white\",\"linecolor\":\"white\",\"showbackground\":true,\"ticks\":\"\",\"zerolinecolor\":\"white\",\"gridwidth\":2},\"yaxis\":{\"backgroundcolor\":\"#E5ECF6\",\"gridcolor\":\"white\",\"linecolor\":\"white\",\"showbackground\":true,\"ticks\":\"\",\"zerolinecolor\":\"white\",\"gridwidth\":2},\"zaxis\":{\"backgroundcolor\":\"#E5ECF6\",\"gridcolor\":\"white\",\"linecolor\":\"white\",\"showbackground\":true,\"ticks\":\"\",\"zerolinecolor\":\"white\",\"gridwidth\":2}},\"shapedefaults\":{\"line\":{\"color\":\"#2a3f5f\"}},\"annotationdefaults\":{\"arrowcolor\":\"#2a3f5f\",\"arrowhead\":0,\"arrowwidth\":1},\"geo\":{\"bgcolor\":\"white\",\"landcolor\":\"#E5ECF6\",\"subunitcolor\":\"white\",\"showland\":true,\"showlakes\":true,\"lakecolor\":\"white\"},\"title\":{\"x\":0.05},\"mapbox\":{\"style\":\"light\"}}},\"title\":{\"text\":\"3D Surface Plot\"},\"scene\":{\"xaxis\":{\"title\":{\"text\":\"LOG_10_COPPER_GRADE\"}},\"yaxis\":{\"title\":{\"text\":\"LOG_10_ORE_TONNAGE\"}},\"zaxis\":{\"title\":{\"text\":\"LOG_10_INITIAL_COST\"}}},\"width\":800,\"height\":800},                        {\"responsive\": true}                    ).then(function(){\n",
       "                            \n",
       "var gd = document.getElementById('d1db37f1-f166-4271-8f5c-7b4f674b2746');\n",
       "var x = new MutationObserver(function (mutations, observer) {{\n",
       "        var display = window.getComputedStyle(gd).display;\n",
       "        if (!display || display === 'none') {{\n",
       "            console.log([gd, 'removed!']);\n",
       "            Plotly.purge(gd);\n",
       "            observer.disconnect();\n",
       "        }}\n",
       "}});\n",
       "\n",
       "// Listen for the removal of the full notebook cells\n",
       "var notebookContainer = gd.closest('#notebook-container');\n",
       "if (notebookContainer) {{\n",
       "    x.observe(notebookContainer, {childList: true});\n",
       "}}\n",
       "\n",
       "// Listen for the clearing of the current output cell\n",
       "var outputEl = gd.closest('.output');\n",
       "if (outputEl) {{\n",
       "    x.observe(outputEl, {childList: true});\n",
       "}}\n",
       "\n",
       "                        })                };                });            </script>        </div>"
      ]
     },
     "metadata": {},
     "output_type": "display_data"
    }
   ],
   "source": [
    "col_x = 'LOG_10_COPPER_GRADE'\n",
    "col_y = 'LOG_10_ORE_TONNAGE'\n",
    "col_z = 'LOG_10_INITIAL_COST'\n",
    "df = X_train_knn\n",
    "\n",
    "fig = go.Figure(data=[go.Surface(x=df[col_x].values, \n",
    "                                 y=df[col_y].values, \n",
    "                                 z=df[col_z].values)])\n",
    "\n",
    "fig = go.Figure(data=[go.Scatter3d(\n",
    "    x=df[col_x].values, \n",
    "    y=df[col_y].values, \n",
    "    z=df[col_z].values,\n",
    "    mode='markers',\n",
    "    marker=dict(\n",
    "        size=5,\n",
    "        color=y_train,\n",
    "        colorscale='reds',\n",
    "        opacity=0.8\n",
    "    )\n",
    ")])\n",
    "\n",
    "# Customize the plot\n",
    "fig.update_layout(\n",
    "    title='3D Surface Plot',\n",
    "    scene=dict(\n",
    "        xaxis_title=col_x,\n",
    "        yaxis_title=col_y,\n",
    "        zaxis_title=col_z\n",
    "    ),\n",
    "    width=800,\n",
    "    height=800\n",
    ")\n",
    "\n",
    "# Show the plot\n",
    "fig.show()\n",
    "fig.write_html('prob_simple_numerical.html')"
   ]
  },
  {
   "cell_type": "code",
   "execution_count": 73,
   "metadata": {},
   "outputs": [
    {
     "data": {
      "image/png": "[encoded data removed]",
      "text/plain": [
       "<Figure size 800x600 with 1 Axes>"
      ]
     },
     "metadata": {},
     "output_type": "display_data"
    }
   ],
   "source": [
    "# Perform PCA\n",
    "pca = PCA()\n",
    "pca.fit(X_train_knn)\n",
    "\n",
    "# Get the principal components\n",
    "principal_components = pca.components_\n",
    "\n",
    "# Get the explained variance ratio\n",
    "explained_variance_ratio = pca.explained_variance_ratio_\n",
    "\n",
    "# Plot the explained variance ratio\n",
    "plt.figure(figsize=(8, 6))\n",
    "plt.plot(range(1, len(explained_variance_ratio) + 1), explained_variance_ratio)\n",
    "plt.xlabel('Number of principal components')\n",
    "plt.ylabel('Explained variance ratio')\n",
    "plt.title('Scree plot')\n",
    "plt.show()"
   ]
  },
  {
   "cell_type": "code",
   "execution_count": 75,
   "metadata": {},
   "outputs": [],
   "source": [
    "X_train_pca = pca.transform(X_train_knn)[:,:2]\n",
    "X_train_pca = pd.DataFrame(X_train_pca, columns=['PC1', 'PC2'], index=X_train_knn.index)"
   ]
  },
  {
   "cell_type": "code",
   "execution_count": 78,
   "metadata": {},
   "outputs": [
    {
     "data": {
      "text/plain": [
       "<Axes: xlabel='PC1', ylabel='PC2'>"
      ]
     },
     "execution_count": 78,
     "metadata": {},
     "output_type": "execute_result"
    },
    {
     "data": {
      "image/png": "[encoded data removed]",
      "text/plain": [
       "<Figure size 640x480 with 1 Axes>"
      ]
     },
     "metadata": {},
     "output_type": "display_data"
    }
   ],
   "source": [
    "sns.scatterplot(x='PC1', y='PC2', data=X_train_pca, hue=y_train)"
   ]
  },
  {
   "cell_type": "code",
   "execution_count": 80,
   "metadata": {},
   "outputs": [
    {
     "data": {
      "text/plain": [
       "<Axes: xlabel='PC1', ylabel='Count'>"
      ]
     },
     "execution_count": 80,
     "metadata": {},
     "output_type": "execute_result"
    },
    {
     "data": {
      "image/png": "[encoded data removed]",
      "text/plain": [
       "<Figure size 640x480 with 1 Axes>"
      ]
     },
     "metadata": {},
     "output_type": "display_data"
    }
   ],
   "source": [
    "sns.histplot(X_train_pca['PC1'], bins=20)"
   ]
  },
  {
   "cell_type": "code",
   "execution_count": 81,
   "metadata": {},
   "outputs": [
    {
     "data": {
      "text/plain": [
       "<Axes: xlabel='PC2', ylabel='Count'>"
      ]
     },
     "execution_count": 81,
     "metadata": {},
     "output_type": "execute_result"
    },
    {
     "data": {
      "image/png": "[encoded data removed]",
      "text/plain": [
       "<Figure size 640x480 with 1 Axes>"
      ]
     },
     "metadata": {},
     "output_type": "display_data"
    }
   ],
   "source": [
    "sns.histplot(X_train_pca['PC2'], bins=20)"
   ]
  },
  {
   "cell_type": "code",
   "execution_count": 79,
   "metadata": {},
   "outputs": [
    {
     "data": {
      "text/plain": [
       "<Axes: xlabel='PC1', ylabel='PC2'>"
      ]
     },
     "execution_count": 79,
     "metadata": {},
     "output_type": "execute_result"
    },
    {
     "data": {
      "image/png": "[encoded data removed]",
      "text/plain": [
       "<Figure size 640x480 with 1 Axes>"
      ]
     },
     "metadata": {},
     "output_type": "display_data"
    }
   ],
   "source": [
    "sns.scatterplot(x='PC1', y='PC2', data=X_train_pca, hue=y_train>15)"
   ]
  },
  {
   "cell_type": "code",
   "execution_count": 83,
   "metadata": {},
   "outputs": [
    {
     "data": {
      "text/plain": [
       "<Axes: xlabel='PC1', ylabel='TIR'>"
      ]
     },
     "execution_count": 83,
     "metadata": {},
     "output_type": "execute_result"
    },
    {
     "data": {
      "image/png": "[encoded data removed]",
      "text/plain": [
       "<Figure size 640x480 with 1 Axes>"
      ]
     },
     "metadata": {},
     "output_type": "display_data"
    }
   ],
   "source": [
    "sns.scatterplot(x='PC1', y=y_train, data=X_train_pca)"
   ]
  },
  {
   "cell_type": "code",
   "execution_count": 84,
   "metadata": {},
   "outputs": [
    {
     "data": {
      "text/plain": [
       "<Axes: xlabel='PC2', ylabel='TIR'>"
      ]
     },
     "execution_count": 84,
     "metadata": {},
     "output_type": "execute_result"
    },
    {
     "data": {
      "image/png": "[encoded data removed]",
      "text/plain": [
       "<Figure size 640x480 with 1 Axes>"
      ]
     },
     "metadata": {},
     "output_type": "display_data"
    }
   ],
   "source": [
    "sns.scatterplot(x='PC2', y=y_train, data=X_train_pca)"
   ]
  },
  {
   "cell_type": "code",
   "execution_count": 127,
   "metadata": {},
   "outputs": [
    {
     "data": {
      "application/vnd.plotly.v1+json": {
       "config": {
        "plotlyServerURL": "https://plot.ly"
       },
       "data": [
        {
         "marker": {
          "color": [
           1,
           1,
           1,
           1,
           1,
           1,
           0,
           0,
           0,
           1,
           0,
           0,
           1,
           0,
           1,
           0,
           1,
           1,
           1,
           1,
           1,
           1,
           1,
           1,
           0,
           1,
           1,
           1,
           0,
           1,
           1,
           1,
           0,
           1,
           0,
           1,
           1,
           1,
           1,
           0,
           1,
           1,
           1,
           1,
           1,
           1,
           1,
           0,
           1,
           1,
           1,
           1,
           1,
           1,
           1,
           0,
           1,
           1,
           1,
           1,
           1,
           1,
           1,
           0,
           0,
           1,
           1,
           1,
           1,
           1,
           1,
           1,
           1,
           1,
           0,
           1,
           1,
           1,
           1,
           1,
           1,
           1,
           0,
           0,
           1,
           0,
           1,
           0,
           1,
           1,
           1,
           0
          ],
          "colorscale": [
           [
            0,
            "#440154"
           ],
           [
            0.1111111111111111,
            "#482878"
           ],
           [
            0.2222222222222222,
            "#3e4989"
           ],
           [
            0.3333333333333333,
            "#31688e"
           ],
           [
            0.4444444444444444,
            "#26828e"
           ],
           [
            0.5555555555555556,
            "#1f9e89"
           ],
           [
            0.6666666666666666,
            "#35b779"
           ],
           [
            0.7777777777777778,
            "#6ece58"
           ],
           [
            0.8888888888888888,
            "#b5de2b"
           ],
           [
            1,
            "#fde725"
           ]
          ],
          "opacity": 0.8,
          "size": 5
         },
         "mode": "markers",
         "type": "scatter3d",
         "x": [
          -2.674072105179195,
          -0.8615894079220658,
          -1.8978470288375004,
          -0.044686583251064484,
          1.80785044771394,
          0.8715736299997934,
          -1.3421623282962019,
          0.16735410168517031,
          0.5235191000627079,
          -2.7057081278243307,
          1.541392450806025,
          2.3803047860365787,
          -0.983194581165637,
          -1.1036265289059568,
          0.753286806707865,
          1.9766321843128778,
          1.443371335987843,
          2.155875112941388,
          -2.1224417655040915,
          -0.25913776885352724,
          -0.8859657935040404,
          -0.47350506273753395,
          -1.9403585098539868,
          -0.778113686633651,
          -1.0720367678715914,
          -0.4754609172098929,
          -1.1584153421695624,
          -2.0423343402362932,
          2.2764107446919555,
          -0.5581115858589228,
          0.5184728807600547,
          2.976525931459458,
          2.4307424552785033,
          -0.010093555714782472,
          1.4505872401765663,
          -2.4434609452868474,
          0.12581737662696682,
          1.0588482915223,
          -1.7023514831338324,
          1.1350586723853249,
          -1.2070598455822688,
          -1.7454233384365125,
          1.666614383490121,
          -1.8506539422759358,
          -1.5850012663428164,
          1.8377993027678434,
          0.34052142383964124,
          1.4440178371877004,
          0.01064335075604885,
          -0.8605948177437287,
          -0.7448476140492499,
          -1.9471507877016048,
          1.2434091360624184,
          1.1818948775436737,
          2.3970912884807265,
          0.5956599270183502,
          -0.35746302625276605,
          1.3945776531842253,
          0.23165898711431623,
          -1.5598717204952903,
          0.5325469210610583,
          0.4569724785646508,
          -2.665108681978989,
          1.2102467634483933,
          1.7265780290845913,
          -0.7138899508753231,
          1.0695076234438996,
          1.1266795508478746,
          -1.270054001810148,
          -1.5869554746957975,
          -1.1805670134829964,
          0.9556813828831922,
          0.9924033742910149,
          1.6583048869447439,
          1.8514565087188355,
          -0.517755594876816,
          -1.345144556568058,
          -0.4688861935244036,
          0.9217769595198113,
          0.18870086807062433,
          0.6771590483060261,
          0.16016012027894283,
          2.6817628668068307,
          -1.5827667665079086,
          0.6316748232783518,
          2.1968020246173054,
          -1.6956669563260915,
          1.2674386692992137,
          -1.5241006200495855,
          -1.5792008316576835,
          -0.8224130293031029,
          -1.8981143695781626
         ],
         "y": [
          0.033652087758596363,
          -0.15027193490069451,
          0.8334269197987366,
          -0.04252089802604063,
          0.6493672428114088,
          -0.2132180640106194,
          -1.522093751456185,
          0.5298315791436881,
          -0.31924130247746296,
          -1.3619951101516976,
          0.37932757311968046,
          0.042432997226328414,
          -0.16118124549661442,
          -0.9937762426931539,
          -0.7113269752280096,
          0.9722135222262102,
          -0.005696212278098254,
          -0.05219699325092521,
          -0.995655581720312,
          1.2699287928940124,
          -0.04173874361679179,
          0.993378343159183,
          -0.3908950579569818,
          -0.21354181981599601,
          0.14934671921663095,
          -0.26987950823717544,
          1.751358217192825,
          -0.2836274901928461,
          0.21119521075758155,
          0.9961366078818871,
          -0.3376188494518152,
          0.6887233621518394,
          1.1551495988892182,
          1.0863520958760575,
          0.33569326549869655,
          -0.3175881187408129,
          -0.6401057462933117,
          -0.8775233736594682,
          1.1753264904606922,
          -0.5136371292796043,
          0.4854594705200205,
          0.28531785787449293,
          -0.36546867429908614,
          0.03562458998023757,
          0.00409587377272623,
          0.042671772703326505,
          -0.3199288247885654,
          -1.3259418987611218,
          -1.209563874217984,
          -1.2083302833370586,
          0.5856606584533447,
          -1.557011636401752,
          -0.28700567863406834,
          -0.9019551214269937,
          0.044835890782618876,
          0.09481174943160069,
          0.29663445683000883,
          0.3156492018700937,
          -1.202855813625885,
          -0.21823658994471357,
          0.7297880029090547,
          -0.20941803016814728,
          -0.9195779622688408,
          0.20972520728014735,
          -0.2265253887642414,
          0.47865378845028145,
          0.19259004733463697,
          -0.014846204478894636,
          -0.0951916350745184,
          0.6957588079550566,
          0.48965853360574596,
          0.8093666447679582,
          -1.3565278710790614,
          -2.0018693712141578,
          -0.2078052445894959,
          2.809334469964791,
          -0.4956874327023995,
          0.46752319136648335,
          -0.2579490507557752,
          -0.6201700253870864,
          0.3350909715965317,
          0.11517258120671735,
          0.8996283561991932,
          0.5935839622981739,
          -2.04900490526112,
          0.5365554543763161,
          1.0399086997979015,
          -0.9646386411893426,
          -1.58804432330578,
          1.1844334876158236,
          0.7805660605442352,
          2.2079442150599142
         ],
         "z": [
          42,
          25.9,
          30,
          19,
          22.7,
          36,
          0.4,
          13,
          12.7,
          25.2,
          11.9,
          12.9,
          32.1,
          -10.2,
          43.4,
          11.4,
          21,
          24,
          94,
          15.7,
          34.2,
          21.5,
          53.6,
          27,
          12.3,
          18.3,
          25,
          21,
          13.7,
          28,
          23.8,
          21.4,
          11,
          58,
          13.3,
          87,
          27,
          20.8,
          18,
          14.6,
          67,
          78,
          20.3,
          55.3,
          17.5,
          16.7,
          21,
          0.2,
          18.1,
          37.2,
          23.3,
          41,
          16.5,
          29.5,
          15.4,
          12.8,
          25,
          18,
          29,
          29,
          16.6,
          31,
          37,
          14,
          11.1,
          75,
          15.3,
          19.2,
          54,
          29,
          34,
          16.8,
          25.9,
          51,
          11.5,
          17.4,
          58,
          41.8,
          46.2,
          20.5,
          19,
          19.4,
          9.2,
          10,
          80.7,
          11.1,
          26.3,
          9.9,
          43.5,
          20.7,
          21.8,
          15
         ]
        }
       ],
       "layout": {
        "height": 600,
        "scene": {
         "xaxis": {
          "title": {
           "text": "PC1"
          }
         },
         "yaxis": {
          "title": {
           "text": "PC2"
          }
         },
         "zaxis": {
          "title": {
           "text": "TIR"
          }
         }
        },
        "template": {
         "data": {
          "bar": [
           {
            "error_x": {
             "color": "#2a3f5f"
            },
            "error_y": {
             "color": "#2a3f5f"
            },
            "marker": {
             "line": {
              "color": "#E5ECF6",
              "width": 0.5
             },
             "pattern": {
              "fillmode": "overlay",
              "size": 10,
              "solidity": 0.2
             }
            },
            "type": "bar"
           }
          ],
          "barpolar": [
           {
            "marker": {
             "line": {
              "color": "#E5ECF6",
              "width": 0.5
             },
             "pattern": {
              "fillmode": "overlay",
              "size": 10,
              "solidity": 0.2
             }
            },
            "type": "barpolar"
           }
          ],
          "carpet": [
           {
            "aaxis": {
             "endlinecolor": "#2a3f5f",
             "gridcolor": "white",
             "linecolor": "white",
             "minorgridcolor": "white",
             "startlinecolor": "#2a3f5f"
            },
            "baxis": {
             "endlinecolor": "#2a3f5f",
             "gridcolor": "white",
             "linecolor": "white",
             "minorgridcolor": "white",
             "startlinecolor": "#2a3f5f"
            },
            "type": "carpet"
           }
          ],
          "choropleth": [
           {
            "colorbar": {
             "outlinewidth": 0,
             "ticks": ""
            },
            "type": "choropleth"
           }
          ],
          "contour": [
           {
            "colorbar": {
             "outlinewidth": 0,
             "ticks": ""
            },
            "colorscale": [
             [
              0,
              "#0d0887"
             ],
             [
              0.1111111111111111,
              "#46039f"
             ],
             [
              0.2222222222222222,
              "#7201a8"
             ],
             [
              0.3333333333333333,
              "#9c179e"
             ],
             [
              0.4444444444444444,
              "#bd3786"
             ],
             [
              0.5555555555555556,
              "#d8576b"
             ],
             [
              0.6666666666666666,
              "#ed7953"
             ],
             [
              0.7777777777777778,
              "#fb9f3a"
             ],
             [
              0.8888888888888888,
              "#fdca26"
             ],
             [
              1,
              "#f0f921"
             ]
            ],
            "type": "contour"
           }
          ],
          "contourcarpet": [
           {
            "colorbar": {
             "outlinewidth": 0,
             "ticks": ""
            },
            "type": "contourcarpet"
           }
          ],
          "heatmap": [
           {
            "colorbar": {
             "outlinewidth": 0,
             "ticks": ""
            },
            "colorscale": [
             [
              0,
              "#0d0887"
             ],
             [
              0.1111111111111111,
              "#46039f"
             ],
             [
              0.2222222222222222,
              "#7201a8"
             ],
             [
              0.3333333333333333,
              "#9c179e"
             ],
             [
              0.4444444444444444,
              "#bd3786"
             ],
             [
              0.5555555555555556,
              "#d8576b"
             ],
             [
              0.6666666666666666,
              "#ed7953"
             ],
             [
              0.7777777777777778,
              "#fb9f3a"
             ],
             [
              0.8888888888888888,
              "#fdca26"
             ],
             [
              1,
              "#f0f921"
             ]
            ],
            "type": "heatmap"
           }
          ],
          "heatmapgl": [
           {
            "colorbar": {
             "outlinewidth": 0,
             "ticks": ""
            },
            "colorscale": [
             [
              0,
              "#0d0887"
             ],
             [
              0.1111111111111111,
              "#46039f"
             ],
             [
              0.2222222222222222,
              "#7201a8"
             ],
             [
              0.3333333333333333,
              "#9c179e"
             ],
             [
              0.4444444444444444,
              "#bd3786"
             ],
             [
              0.5555555555555556,
              "#d8576b"
             ],
             [
              0.6666666666666666,
              "#ed7953"
             ],
             [
              0.7777777777777778,
              "#fb9f3a"
             ],
             [
              0.8888888888888888,
              "#fdca26"
             ],
             [
              1,
              "#f0f921"
             ]
            ],
            "type": "heatmapgl"
           }
          ],
          "histogram": [
           {
            "marker": {
             "pattern": {
              "fillmode": "overlay",
              "size": 10,
              "solidity": 0.2
             }
            },
            "type": "histogram"
           }
          ],
          "histogram2d": [
           {
            "colorbar": {
             "outlinewidth": 0,
             "ticks": ""
            },
            "colorscale": [
             [
              0,
              "#0d0887"
             ],
             [
              0.1111111111111111,
              "#46039f"
             ],
             [
              0.2222222222222222,
              "#7201a8"
             ],
             [
              0.3333333333333333,
              "#9c179e"
             ],
             [
              0.4444444444444444,
              "#bd3786"
             ],
             [
              0.5555555555555556,
              "#d8576b"
             ],
             [
              0.6666666666666666,
              "#ed7953"
             ],
             [
              0.7777777777777778,
              "#fb9f3a"
             ],
             [
              0.8888888888888888,
              "#fdca26"
             ],
             [
              1,
              "#f0f921"
             ]
            ],
            "type": "histogram2d"
           }
          ],
          "histogram2dcontour": [
           {
            "colorbar": {
             "outlinewidth": 0,
             "ticks": ""
            },
            "colorscale": [
             [
              0,
              "#0d0887"
             ],
             [
              0.1111111111111111,
              "#46039f"
             ],
             [
              0.2222222222222222,
              "#7201a8"
             ],
             [
              0.3333333333333333,
              "#9c179e"
             ],
             [
              0.4444444444444444,
              "#bd3786"
             ],
             [
              0.5555555555555556,
              "#d8576b"
             ],
             [
              0.6666666666666666,
              "#ed7953"
             ],
             [
              0.7777777777777778,
              "#fb9f3a"
             ],
             [
              0.8888888888888888,
              "#fdca26"
             ],
             [
              1,
              "#f0f921"
             ]
            ],
            "type": "histogram2dcontour"
           }
          ],
          "mesh3d": [
           {
            "colorbar": {
             "outlinewidth": 0,
             "ticks": ""
            },
            "type": "mesh3d"
           }
          ],
          "parcoords": [
           {
            "line": {
             "colorbar": {
              "outlinewidth": 0,
              "ticks": ""
             }
            },
            "type": "parcoords"
           }
          ],
          "pie": [
           {
            "automargin": true,
            "type": "pie"
           }
          ],
          "scatter": [
           {
            "fillpattern": {
             "fillmode": "overlay",
             "size": 10,
             "solidity": 0.2
            },
            "type": "scatter"
           }
          ],
          "scatter3d": [
           {
            "line": {
             "colorbar": {
              "outlinewidth": 0,
              "ticks": ""
             }
            },
            "marker": {
             "colorbar": {
              "outlinewidth": 0,
              "ticks": ""
             }
            },
            "type": "scatter3d"
           }
          ],
          "scattercarpet": [
           {
            "marker": {
             "colorbar": {
              "outlinewidth": 0,
              "ticks": ""
             }
            },
            "type": "scattercarpet"
           }
          ],
          "scattergeo": [
           {
            "marker": {
             "colorbar": {
              "outlinewidth": 0,
              "ticks": ""
             }
            },
            "type": "scattergeo"
           }
          ],
          "scattergl": [
           {
            "marker": {
             "colorbar": {
              "outlinewidth": 0,
              "ticks": ""
             }
            },
            "type": "scattergl"
           }
          ],
          "scattermapbox": [
           {
            "marker": {
             "colorbar": {
              "outlinewidth": 0,
              "ticks": ""
             }
            },
            "type": "scattermapbox"
           }
          ],
          "scatterpolar": [
           {
            "marker": {
             "colorbar": {
              "outlinewidth": 0,
              "ticks": ""
             }
            },
            "type": "scatterpolar"
           }
          ],
          "scatterpolargl": [
           {
            "marker": {
             "colorbar": {
              "outlinewidth": 0,
              "ticks": ""
             }
            },
            "type": "scatterpolargl"
           }
          ],
          "scatterternary": [
           {
            "marker": {
             "colorbar": {
              "outlinewidth": 0,
              "ticks": ""
             }
            },
            "type": "scatterternary"
           }
          ],
          "surface": [
           {
            "colorbar": {
             "outlinewidth": 0,
             "ticks": ""
            },
            "colorscale": [
             [
              0,
              "#0d0887"
             ],
             [
              0.1111111111111111,
              "#46039f"
             ],
             [
              0.2222222222222222,
              "#7201a8"
             ],
             [
              0.3333333333333333,
              "#9c179e"
             ],
             [
              0.4444444444444444,
              "#bd3786"
             ],
             [
              0.5555555555555556,
              "#d8576b"
             ],
             [
              0.6666666666666666,
              "#ed7953"
             ],
             [
              0.7777777777777778,
              "#fb9f3a"
             ],
             [
              0.8888888888888888,
              "#fdca26"
             ],
             [
              1,
              "#f0f921"
             ]
            ],
            "type": "surface"
           }
          ],
          "table": [
           {
            "cells": {
             "fill": {
              "color": "#EBF0F8"
             },
             "line": {
              "color": "white"
             }
            },
            "header": {
             "fill": {
              "color": "#C8D4E3"
             },
             "line": {
              "color": "white"
             }
            },
            "type": "table"
           }
          ]
         },
         "layout": {
          "annotationdefaults": {
           "arrowcolor": "#2a3f5f",
           "arrowhead": 0,
           "arrowwidth": 1
          },
          "autotypenumbers": "strict",
          "coloraxis": {
           "colorbar": {
            "outlinewidth": 0,
            "ticks": ""
           }
          },
          "colorscale": {
           "diverging": [
            [
             0,
             "#8e0152"
            ],
            [
             0.1,
             "#c51b7d"
            ],
            [
             0.2,
             "#de77ae"
            ],
            [
             0.3,
             "#f1b6da"
            ],
            [
             0.4,
             "#fde0ef"
            ],
            [
             0.5,
             "#f7f7f7"
            ],
            [
             0.6,
             "#e6f5d0"
            ],
            [
             0.7,
             "#b8e186"
            ],
            [
             0.8,
             "#7fbc41"
            ],
            [
             0.9,
             "#4d9221"
            ],
            [
             1,
             "#276419"
            ]
           ],
           "sequential": [
            [
             0,
             "#0d0887"
            ],
            [
             0.1111111111111111,
             "#46039f"
            ],
            [
             0.2222222222222222,
             "#7201a8"
            ],
            [
             0.3333333333333333,
             "#9c179e"
            ],
            [
             0.4444444444444444,
             "#bd3786"
            ],
            [
             0.5555555555555556,
             "#d8576b"
            ],
            [
             0.6666666666666666,
             "#ed7953"
            ],
            [
             0.7777777777777778,
             "#fb9f3a"
            ],
            [
             0.8888888888888888,
             "#fdca26"
            ],
            [
             1,
             "#f0f921"
            ]
           ],
           "sequentialminus": [
            [
             0,
             "#0d0887"
            ],
            [
             0.1111111111111111,
             "#46039f"
            ],
            [
             0.2222222222222222,
             "#7201a8"
            ],
            [
             0.3333333333333333,
             "#9c179e"
            ],
            [
             0.4444444444444444,
             "#bd3786"
            ],
            [
             0.5555555555555556,
             "#d8576b"
            ],
            [
             0.6666666666666666,
             "#ed7953"
            ],
            [
             0.7777777777777778,
             "#fb9f3a"
            ],
            [
             0.8888888888888888,
             "#fdca26"
            ],
            [
             1,
             "#f0f921"
            ]
           ]
          },
          "colorway": [
           "#636efa",
           "#EF553B",
           "#00cc96",
           "#ab63fa",
           "#FFA15A",
           "#19d3f3",
           "#FF6692",
           "#B6E880",
           "#FF97FF",
           "#FECB52"
          ],
          "font": {
           "color": "#2a3f5f"
          },
          "geo": {
           "bgcolor": "white",
           "lakecolor": "white",
           "landcolor": "#E5ECF6",
           "showlakes": true,
           "showland": true,
           "subunitcolor": "white"
          },
          "hoverlabel": {
           "align": "left"
          },
          "hovermode": "closest",
          "mapbox": {
           "style": "light"
          },
          "paper_bgcolor": "white",
          "plot_bgcolor": "#E5ECF6",
          "polar": {
           "angularaxis": {
            "gridcolor": "white",
            "linecolor": "white",
            "ticks": ""
           },
           "bgcolor": "#E5ECF6",
           "radialaxis": {
            "gridcolor": "white",
            "linecolor": "white",
            "ticks": ""
           }
          },
          "scene": {
           "xaxis": {
            "backgroundcolor": "#E5ECF6",
            "gridcolor": "white",
            "gridwidth": 2,
            "linecolor": "white",
            "showbackground": true,
            "ticks": "",
            "zerolinecolor": "white"
           },
           "yaxis": {
            "backgroundcolor": "#E5ECF6",
            "gridcolor": "white",
            "gridwidth": 2,
            "linecolor": "white",
            "showbackground": true,
            "ticks": "",
            "zerolinecolor": "white"
           },
           "zaxis": {
            "backgroundcolor": "#E5ECF6",
            "gridcolor": "white",
            "gridwidth": 2,
            "linecolor": "white",
            "showbackground": true,
            "ticks": "",
            "zerolinecolor": "white"
           }
          },
          "shapedefaults": {
           "line": {
            "color": "#2a3f5f"
           }
          },
          "ternary": {
           "aaxis": {
            "gridcolor": "white",
            "linecolor": "white",
            "ticks": ""
           },
           "baxis": {
            "gridcolor": "white",
            "linecolor": "white",
            "ticks": ""
           },
           "bgcolor": "#E5ECF6",
           "caxis": {
            "gridcolor": "white",
            "linecolor": "white",
            "ticks": ""
           }
          },
          "title": {
           "x": 0.05
          },
          "xaxis": {
           "automargin": true,
           "gridcolor": "white",
           "linecolor": "white",
           "ticks": "",
           "title": {
            "standoff": 15
           },
           "zerolinecolor": "white",
           "zerolinewidth": 2
          },
          "yaxis": {
           "automargin": true,
           "gridcolor": "white",
           "linecolor": "white",
           "ticks": "",
           "title": {
            "standoff": 15
           },
           "zerolinecolor": "white",
           "zerolinewidth": 2
          }
         }
        },
        "title": {
         "text": "3D Surface Plot"
        },
        "width": 800
       }
      },
      "text/html": [
       "<div>                            <div id=\"3c8dea1d-8678-4925-abd5-57453ea6ed80\" class=\"plotly-graph-div\" style=\"height:600px; width:800px;\"></div>            <script type=\"text/javascript\">                require([\"plotly\"], function(Plotly) {                    window.PLOTLYENV=window.PLOTLYENV || {};                                    if (document.getElementById(\"3c8dea1d-8678-4925-abd5-57453ea6ed80\")) {                    Plotly.newPlot(                        \"3c8dea1d-8678-4925-abd5-57453ea6ed80\",                        [{\"marker\":{\"color\":[1,1,1,1,1,1,0,0,0,1,0,0,1,0,1,0,1,1,1,1,1,1,1,1,0,1,1,1,0,1,1,1,0,1,0,1,1,1,1,0,1,1,1,1,1,1,1,0,1,1,1,1,1,1,1,0,1,1,1,1,1,1,1,0,0,1,1,1,1,1,1,1,1,1,0,1,1,1,1,1,1,1,0,0,1,0,1,0,1,1,1,0],\"colorscale\":[[0.0,\"#440154\"],[0.1111111111111111,\"#482878\"],[0.2222222222222222,\"#3e4989\"],[0.3333333333333333,\"#31688e\"],[0.4444444444444444,\"#26828e\"],[0.5555555555555556,\"#1f9e89\"],[0.6666666666666666,\"#35b779\"],[0.7777777777777778,\"#6ece58\"],[0.8888888888888888,\"#b5de2b\"],[1.0,\"#fde725\"]],\"opacity\":0.8,\"size\":5},\"mode\":\"markers\",\"x\":[-2.674072105179195,-0.8615894079220658,-1.8978470288375004,-0.044686583251064484,1.80785044771394,0.8715736299997934,-1.3421623282962019,0.16735410168517031,0.5235191000627079,-2.7057081278243307,1.541392450806025,2.3803047860365787,-0.983194581165637,-1.1036265289059568,0.753286806707865,1.9766321843128778,1.443371335987843,2.155875112941388,-2.1224417655040915,-0.25913776885352724,-0.8859657935040404,-0.47350506273753395,-1.9403585098539868,-0.778113686633651,-1.0720367678715914,-0.4754609172098929,-1.1584153421695624,-2.0423343402362932,2.2764107446919555,-0.5581115858589228,0.5184728807600547,2.976525931459458,2.4307424552785033,-0.010093555714782472,1.4505872401765663,-2.4434609452868474,0.12581737662696682,1.0588482915223,-1.7023514831338324,1.1350586723853249,-1.2070598455822688,-1.7454233384365125,1.666614383490121,-1.8506539422759358,-1.5850012663428164,1.8377993027678434,0.34052142383964124,1.4440178371877004,0.01064335075604885,-0.8605948177437287,-0.7448476140492499,-1.9471507877016048,1.2434091360624184,1.1818948775436737,2.3970912884807265,0.5956599270183502,-0.35746302625276605,1.3945776531842253,0.23165898711431623,-1.5598717204952903,0.5325469210610583,0.4569724785646508,-2.665108681978989,1.2102467634483933,1.7265780290845913,-0.7138899508753231,1.0695076234438996,1.1266795508478746,-1.270054001810148,-1.5869554746957975,-1.1805670134829964,0.9556813828831922,0.9924033742910149,1.6583048869447439,1.8514565087188355,-0.517755594876816,-1.345144556568058,-0.4688861935244036,0.9217769595198113,0.18870086807062433,0.6771590483060261,0.16016012027894283,2.6817628668068307,-1.5827667665079086,0.6316748232783518,2.1968020246173054,-1.6956669563260915,1.2674386692992137,-1.5241006200495855,-1.5792008316576835,-0.8224130293031029,-1.8981143695781626],\"y\":[0.033652087758596363,-0.15027193490069451,0.8334269197987366,-0.04252089802604063,0.6493672428114088,-0.2132180640106194,-1.522093751456185,0.5298315791436881,-0.31924130247746296,-1.3619951101516976,0.37932757311968046,0.042432997226328414,-0.16118124549661442,-0.9937762426931539,-0.7113269752280096,0.9722135222262102,-0.005696212278098254,-0.05219699325092521,-0.995655581720312,1.2699287928940124,-0.04173874361679179,0.993378343159183,-0.3908950579569818,-0.21354181981599601,0.14934671921663095,-0.26987950823717544,1.751358217192825,-0.2836274901928461,0.21119521075758155,0.9961366078818871,-0.3376188494518152,0.6887233621518394,1.1551495988892182,1.0863520958760575,0.33569326549869655,-0.3175881187408129,-0.6401057462933117,-0.8775233736594682,1.1753264904606922,-0.5136371292796043,0.4854594705200205,0.28531785787449293,-0.36546867429908614,0.03562458998023757,0.00409587377272623,0.042671772703326505,-0.3199288247885654,-1.3259418987611218,-1.209563874217984,-1.2083302833370586,0.5856606584533447,-1.557011636401752,-0.28700567863406834,-0.9019551214269937,0.044835890782618876,0.09481174943160069,0.29663445683000883,0.3156492018700937,-1.202855813625885,-0.21823658994471357,0.7297880029090547,-0.20941803016814728,-0.9195779622688408,0.20972520728014735,-0.2265253887642414,0.47865378845028145,0.19259004733463697,-0.014846204478894636,-0.0951916350745184,0.6957588079550566,0.48965853360574596,0.8093666447679582,-1.3565278710790614,-2.0018693712141578,-0.2078052445894959,2.809334469964791,-0.4956874327023995,0.46752319136648335,-0.2579490507557752,-0.6201700253870864,0.3350909715965317,0.11517258120671735,0.8996283561991932,0.5935839622981739,-2.04900490526112,0.5365554543763161,1.0399086997979015,-0.9646386411893426,-1.58804432330578,1.1844334876158236,0.7805660605442352,2.2079442150599142],\"z\":[42.0,25.9,30.0,19.0,22.7,36.0,0.4,13.0,12.7,25.2,11.9,12.9,32.1,-10.2,43.4,11.4,21.0,24.0,94.0,15.7,34.2,21.5,53.6,27.0,12.3,18.3,25.0,21.0,13.7,28.0,23.8,21.4,11.0,58.0,13.3,87.0,27.0,20.8,18.0,14.6,67.0,78.0,20.3,55.3,17.5,16.7,21.0,0.2,18.1,37.2,23.3,41.0,16.5,29.5,15.4,12.8,25.0,18.0,29.0,29.0,16.6,31.0,37.0,14.0,11.1,75.0,15.3,19.2,54.0,29.0,34.0,16.8,25.9,51.0,11.5,17.4,58.0,41.8,46.2,20.5,19.0,19.4,9.2,10.0,80.7,11.1,26.3,9.9,43.5,20.7,21.8,15.0],\"type\":\"scatter3d\"}],                        {\"template\":{\"data\":{\"histogram2dcontour\":[{\"type\":\"histogram2dcontour\",\"colorbar\":{\"outlinewidth\":0,\"ticks\":\"\"},\"colorscale\":[[0.0,\"#0d0887\"],[0.1111111111111111,\"#46039f\"],[0.2222222222222222,\"#7201a8\"],[0.3333333333333333,\"#9c179e\"],[0.4444444444444444,\"#bd3786\"],[0.5555555555555556,\"#d8576b\"],[0.6666666666666666,\"#ed7953\"],[0.7777777777777778,\"#fb9f3a\"],[0.8888888888888888,\"#fdca26\"],[1.0,\"#f0f921\"]]}],\"choropleth\":[{\"type\":\"choropleth\",\"colorbar\":{\"outlinewidth\":0,\"ticks\":\"\"}}],\"histogram2d\":[{\"type\":\"histogram2d\",\"colorbar\":{\"outlinewidth\":0,\"ticks\":\"\"},\"colorscale\":[[0.0,\"#0d0887\"],[0.1111111111111111,\"#46039f\"],[0.2222222222222222,\"#7201a8\"],[0.3333333333333333,\"#9c179e\"],[0.4444444444444444,\"#bd3786\"],[0.5555555555555556,\"#d8576b\"],[0.6666666666666666,\"#ed7953\"],[0.7777777777777778,\"#fb9f3a\"],[0.8888888888888888,\"#fdca26\"],[1.0,\"#f0f921\"]]}],\"heatmap\":[{\"type\":\"heatmap\",\"colorbar\":{\"outlinewidth\":0,\"ticks\":\"\"},\"colorscale\":[[0.0,\"#0d0887\"],[0.1111111111111111,\"#46039f\"],[0.2222222222222222,\"#7201a8\"],[0.3333333333333333,\"#9c179e\"],[0.4444444444444444,\"#bd3786\"],[0.5555555555555556,\"#d8576b\"],[0.6666666666666666,\"#ed7953\"],[0.7777777777777778,\"#fb9f3a\"],[0.8888888888888888,\"#fdca26\"],[1.0,\"#f0f921\"]]}],\"heatmapgl\":[{\"type\":\"heatmapgl\",\"colorbar\":{\"outlinewidth\":0,\"ticks\":\"\"},\"colorscale\":[[0.0,\"#0d0887\"],[0.1111111111111111,\"#46039f\"],[0.2222222222222222,\"#7201a8\"],[0.3333333333333333,\"#9c179e\"],[0.4444444444444444,\"#bd3786\"],[0.5555555555555556,\"#d8576b\"],[0.6666666666666666,\"#ed7953\"],[0.7777777777777778,\"#fb9f3a\"],[0.8888888888888888,\"#fdca26\"],[1.0,\"#f0f921\"]]}],\"contourcarpet\":[{\"type\":\"contourcarpet\",\"colorbar\":{\"outlinewidth\":0,\"ticks\":\"\"}}],\"contour\":[{\"type\":\"contour\",\"colorbar\":{\"outlinewidth\":0,\"ticks\":\"\"},\"colorscale\":[[0.0,\"#0d0887\"],[0.1111111111111111,\"#46039f\"],[0.2222222222222222,\"#7201a8\"],[0.3333333333333333,\"#9c179e\"],[0.4444444444444444,\"#bd3786\"],[0.5555555555555556,\"#d8576b\"],[0.6666666666666666,\"#ed7953\"],[0.7777777777777778,\"#fb9f3a\"],[0.8888888888888888,\"#fdca26\"],[1.0,\"#f0f921\"]]}],\"surface\":[{\"type\":\"surface\",\"colorbar\":{\"outlinewidth\":0,\"ticks\":\"\"},\"colorscale\":[[0.0,\"#0d0887\"],[0.1111111111111111,\"#46039f\"],[0.2222222222222222,\"#7201a8\"],[0.3333333333333333,\"#9c179e\"],[0.4444444444444444,\"#bd3786\"],[0.5555555555555556,\"#d8576b\"],[0.6666666666666666,\"#ed7953\"],[0.7777777777777778,\"#fb9f3a\"],[0.8888888888888888,\"#fdca26\"],[1.0,\"#f0f921\"]]}],\"mesh3d\":[{\"type\":\"mesh3d\",\"colorbar\":{\"outlinewidth\":0,\"ticks\":\"\"}}],\"scatter\":[{\"fillpattern\":{\"fillmode\":\"overlay\",\"size\":10,\"solidity\":0.2},\"type\":\"scatter\"}],\"parcoords\":[{\"type\":\"parcoords\",\"line\":{\"colorbar\":{\"outlinewidth\":0,\"ticks\":\"\"}}}],\"scatterpolargl\":[{\"type\":\"scatterpolargl\",\"marker\":{\"colorbar\":{\"outlinewidth\":0,\"ticks\":\"\"}}}],\"bar\":[{\"error_x\":{\"color\":\"#2a3f5f\"},\"error_y\":{\"color\":\"#2a3f5f\"},\"marker\":{\"line\":{\"color\":\"#E5ECF6\",\"width\":0.5},\"pattern\":{\"fillmode\":\"overlay\",\"size\":10,\"solidity\":0.2}},\"type\":\"bar\"}],\"scattergeo\":[{\"type\":\"scattergeo\",\"marker\":{\"colorbar\":{\"outlinewidth\":0,\"ticks\":\"\"}}}],\"scatterpolar\":[{\"type\":\"scatterpolar\",\"marker\":{\"colorbar\":{\"outlinewidth\":0,\"ticks\":\"\"}}}],\"histogram\":[{\"marker\":{\"pattern\":{\"fillmode\":\"overlay\",\"size\":10,\"solidity\":0.2}},\"type\":\"histogram\"}],\"scattergl\":[{\"type\":\"scattergl\",\"marker\":{\"colorbar\":{\"outlinewidth\":0,\"ticks\":\"\"}}}],\"scatter3d\":[{\"type\":\"scatter3d\",\"line\":{\"colorbar\":{\"outlinewidth\":0,\"ticks\":\"\"}},\"marker\":{\"colorbar\":{\"outlinewidth\":0,\"ticks\":\"\"}}}],\"scattermapbox\":[{\"type\":\"scattermapbox\",\"marker\":{\"colorbar\":{\"outlinewidth\":0,\"ticks\":\"\"}}}],\"scatterternary\":[{\"type\":\"scatterternary\",\"marker\":{\"colorbar\":{\"outlinewidth\":0,\"ticks\":\"\"}}}],\"scattercarpet\":[{\"type\":\"scattercarpet\",\"marker\":{\"colorbar\":{\"outlinewidth\":0,\"ticks\":\"\"}}}],\"carpet\":[{\"aaxis\":{\"endlinecolor\":\"#2a3f5f\",\"gridcolor\":\"white\",\"linecolor\":\"white\",\"minorgridcolor\":\"white\",\"startlinecolor\":\"#2a3f5f\"},\"baxis\":{\"endlinecolor\":\"#2a3f5f\",\"gridcolor\":\"white\",\"linecolor\":\"white\",\"minorgridcolor\":\"white\",\"startlinecolor\":\"#2a3f5f\"},\"type\":\"carpet\"}],\"table\":[{\"cells\":{\"fill\":{\"color\":\"#EBF0F8\"},\"line\":{\"color\":\"white\"}},\"header\":{\"fill\":{\"color\":\"#C8D4E3\"},\"line\":{\"color\":\"white\"}},\"type\":\"table\"}],\"barpolar\":[{\"marker\":{\"line\":{\"color\":\"#E5ECF6\",\"width\":0.5},\"pattern\":{\"fillmode\":\"overlay\",\"size\":10,\"solidity\":0.2}},\"type\":\"barpolar\"}],\"pie\":[{\"automargin\":true,\"type\":\"pie\"}]},\"layout\":{\"autotypenumbers\":\"strict\",\"colorway\":[\"#636efa\",\"#EF553B\",\"#00cc96\",\"#ab63fa\",\"#FFA15A\",\"#19d3f3\",\"#FF6692\",\"#B6E880\",\"#FF97FF\",\"#FECB52\"],\"font\":{\"color\":\"#2a3f5f\"},\"hovermode\":\"closest\",\"hoverlabel\":{\"align\":\"left\"},\"paper_bgcolor\":\"white\",\"plot_bgcolor\":\"#E5ECF6\",\"polar\":{\"bgcolor\":\"#E5ECF6\",\"angularaxis\":{\"gridcolor\":\"white\",\"linecolor\":\"white\",\"ticks\":\"\"},\"radialaxis\":{\"gridcolor\":\"white\",\"linecolor\":\"white\",\"ticks\":\"\"}},\"ternary\":{\"bgcolor\":\"#E5ECF6\",\"aaxis\":{\"gridcolor\":\"white\",\"linecolor\":\"white\",\"ticks\":\"\"},\"baxis\":{\"gridcolor\":\"white\",\"linecolor\":\"white\",\"ticks\":\"\"},\"caxis\":{\"gridcolor\":\"white\",\"linecolor\":\"white\",\"ticks\":\"\"}},\"coloraxis\":{\"colorbar\":{\"outlinewidth\":0,\"ticks\":\"\"}},\"colorscale\":{\"sequential\":[[0.0,\"#0d0887\"],[0.1111111111111111,\"#46039f\"],[0.2222222222222222,\"#7201a8\"],[0.3333333333333333,\"#9c179e\"],[0.4444444444444444,\"#bd3786\"],[0.5555555555555556,\"#d8576b\"],[0.6666666666666666,\"#ed7953\"],[0.7777777777777778,\"#fb9f3a\"],[0.8888888888888888,\"#fdca26\"],[1.0,\"#f0f921\"]],\"sequentialminus\":[[0.0,\"#0d0887\"],[0.1111111111111111,\"#46039f\"],[0.2222222222222222,\"#7201a8\"],[0.3333333333333333,\"#9c179e\"],[0.4444444444444444,\"#bd3786\"],[0.5555555555555556,\"#d8576b\"],[0.6666666666666666,\"#ed7953\"],[0.7777777777777778,\"#fb9f3a\"],[0.8888888888888888,\"#fdca26\"],[1.0,\"#f0f921\"]],\"diverging\":[[0,\"#8e0152\"],[0.1,\"#c51b7d\"],[0.2,\"#de77ae\"],[0.3,\"#f1b6da\"],[0.4,\"#fde0ef\"],[0.5,\"#f7f7f7\"],[0.6,\"#e6f5d0\"],[0.7,\"#b8e186\"],[0.8,\"#7fbc41\"],[0.9,\"#4d9221\"],[1,\"#276419\"]]},\"xaxis\":{\"gridcolor\":\"white\",\"linecolor\":\"white\",\"ticks\":\"\",\"title\":{\"standoff\":15},\"zerolinecolor\":\"white\",\"automargin\":true,\"zerolinewidth\":2},\"yaxis\":{\"gridcolor\":\"white\",\"linecolor\":\"white\",\"ticks\":\"\",\"title\":{\"standoff\":15},\"zerolinecolor\":\"white\",\"automargin\":true,\"zerolinewidth\":2},\"scene\":{\"xaxis\":{\"backgroundcolor\":\"#E5ECF6\",\"gridcolor\":\"white\",\"linecolor\":\"white\",\"showbackground\":true,\"ticks\":\"\",\"zerolinecolor\":\"white\",\"gridwidth\":2},\"yaxis\":{\"backgroundcolor\":\"#E5ECF6\",\"gridcolor\":\"white\",\"linecolor\":\"white\",\"showbackground\":true,\"ticks\":\"\",\"zerolinecolor\":\"white\",\"gridwidth\":2},\"zaxis\":{\"backgroundcolor\":\"#E5ECF6\",\"gridcolor\":\"white\",\"linecolor\":\"white\",\"showbackground\":true,\"ticks\":\"\",\"zerolinecolor\":\"white\",\"gridwidth\":2}},\"shapedefaults\":{\"line\":{\"color\":\"#2a3f5f\"}},\"annotationdefaults\":{\"arrowcolor\":\"#2a3f5f\",\"arrowhead\":0,\"arrowwidth\":1},\"geo\":{\"bgcolor\":\"white\",\"landcolor\":\"#E5ECF6\",\"subunitcolor\":\"white\",\"showland\":true,\"showlakes\":true,\"lakecolor\":\"white\"},\"title\":{\"x\":0.05},\"mapbox\":{\"style\":\"light\"}}},\"title\":{\"text\":\"3D Surface Plot\"},\"scene\":{\"xaxis\":{\"title\":{\"text\":\"PC1\"}},\"yaxis\":{\"title\":{\"text\":\"PC2\"}},\"zaxis\":{\"title\":{\"text\":\"TIR\"}}},\"width\":800,\"height\":600},                        {\"responsive\": true}                    ).then(function(){\n",
       "                            \n",
       "var gd = document.getElementById('3c8dea1d-8678-4925-abd5-57453ea6ed80');\n",
       "var x = new MutationObserver(function (mutations, observer) {{\n",
       "        var display = window.getComputedStyle(gd).display;\n",
       "        if (!display || display === 'none') {{\n",
       "            console.log([gd, 'removed!']);\n",
       "            Plotly.purge(gd);\n",
       "            observer.disconnect();\n",
       "        }}\n",
       "}});\n",
       "\n",
       "// Listen for the removal of the full notebook cells\n",
       "var notebookContainer = gd.closest('#notebook-container');\n",
       "if (notebookContainer) {{\n",
       "    x.observe(notebookContainer, {childList: true});\n",
       "}}\n",
       "\n",
       "// Listen for the clearing of the current output cell\n",
       "var outputEl = gd.closest('.output');\n",
       "if (outputEl) {{\n",
       "    x.observe(outputEl, {childList: true});\n",
       "}}\n",
       "\n",
       "                        })                };                });            </script>        </div>"
      ]
     },
     "metadata": {},
     "output_type": "display_data"
    }
   ],
   "source": [
    "col_x = 'PC1'\n",
    "col_y = 'PC2'\n",
    "df = X_train_pca\n",
    "\n",
    "fig = go.Figure(data=[go.Surface(x=df[col_x].values, \n",
    "                                 y=df[col_y].values, \n",
    "                                 z=y_train)])\n",
    "\n",
    "fig = go.Figure(data=[go.Scatter3d(\n",
    "    x=df[col_x].values, \n",
    "    y=df[col_y].values, \n",
    "    z=y_train,\n",
    "    mode='markers',\n",
    "    marker=dict(\n",
    "        size=5,\n",
    "        color=(y_train > 15).astype(int),\n",
    "        colorscale='viridis',\n",
    "        opacity=0.8\n",
    "    )\n",
    ")])\n",
    "\n",
    "# Customize the plot\n",
    "fig.update_layout(\n",
    "    title='3D Surface Plot',\n",
    "    scene=dict(\n",
    "        xaxis_title=col_x,\n",
    "        yaxis_title=col_y,\n",
    "        zaxis_title='TIR'\n",
    "    ),\n",
    "    width=800,\n",
    "    height=600\n",
    ")\n",
    "\n",
    "# Show the plot\n",
    "fig.show()"
   ]
  },
  {
   "cell_type": "code",
   "execution_count": 108,
   "metadata": {},
   "outputs": [],
   "source": [
    "#for perp in range(5, 70, 5):\n",
    "#    tsne = TSNE(n_components=2, learning_rate='auto',\n",
    "#                    init='random', perplexity=perp, random_state=42)\n",
    "\n",
    "#    X_train_tsne = tsne.fit_transform(X_train_knn)\n",
    "#    X_train_tsne = pd.DataFrame(X_train_tsne, columns=['TSNE1', 'TSNE2'], index=X_train_knn.index)\n",
    "#    sns.scatterplot(x='TSNE1', y='TSNE2', data=X_train_tsne, hue=y_train>15)\n",
    "#    plt.title(f'Perplexity: {perp}')\n",
    "#    plt.show()"
   ]
  },
  {
   "cell_type": "code",
   "execution_count": 120,
   "metadata": {},
   "outputs": [],
   "source": [
    "tsne = TSNE(n_components=2, learning_rate='auto',\n",
    "                    init='random', perplexity=45, random_state=42)\n",
    "\n",
    "X_train_tsne = tsne.fit_transform(X_train_knn)\n",
    "X_train_tsne = pd.DataFrame(X_train_tsne, columns=['TSNE1', 'TSNE2'], index=X_train_knn.index)"
   ]
  },
  {
   "cell_type": "code",
   "execution_count": 123,
   "metadata": {},
   "outputs": [
    {
     "data": {
      "text/plain": [
       "<Axes: xlabel='TSNE1', ylabel='Count'>"
      ]
     },
     "execution_count": 123,
     "metadata": {},
     "output_type": "execute_result"
    },
    {
     "data": {
      "image/png": "[encoded data removed]",
      "text/plain": [
       "<Figure size 640x480 with 1 Axes>"
      ]
     },
     "metadata": {},
     "output_type": "display_data"
    }
   ],
   "source": [
    "sns.histplot(X_train_tsne['TSNE1'], bins=20)"
   ]
  },
  {
   "cell_type": "code",
   "execution_count": 124,
   "metadata": {},
   "outputs": [
    {
     "data": {
      "text/plain": [
       "<Axes: xlabel='TSNE2', ylabel='Count'>"
      ]
     },
     "execution_count": 124,
     "metadata": {},
     "output_type": "execute_result"
    },
    {
     "data": {
      "image/png": "[encoded data removed]",
      "text/plain": [
       "<Figure size 640x480 with 1 Axes>"
      ]
     },
     "metadata": {},
     "output_type": "display_data"
    }
   ],
   "source": [
    "sns.histplot(X_train_tsne['TSNE2'], bins=20)"
   ]
  },
  {
   "cell_type": "code",
   "execution_count": 121,
   "metadata": {},
   "outputs": [
    {
     "data": {
      "text/plain": [
       "<Axes: xlabel='TSNE1', ylabel='TSNE2'>"
      ]
     },
     "execution_count": 121,
     "metadata": {},
     "output_type": "execute_result"
    },
    {
     "data": {
      "image/png": "[encoded data removed]",
      "text/plain": [
       "<Figure size 640x480 with 1 Axes>"
      ]
     },
     "metadata": {},
     "output_type": "display_data"
    }
   ],
   "source": [
    "sns.scatterplot(x='TSNE1', y='TSNE2', data=X_train_tsne, hue=y_train)"
   ]
  },
  {
   "cell_type": "code",
   "execution_count": 122,
   "metadata": {},
   "outputs": [
    {
     "data": {
      "text/plain": [
       "<Axes: xlabel='TSNE1', ylabel='TSNE2'>"
      ]
     },
     "execution_count": 122,
     "metadata": {},
     "output_type": "execute_result"
    },
    {
     "data": {
      "image/png": "[encoded data removed]",
      "text/plain": [
       "<Figure size 640x480 with 1 Axes>"
      ]
     },
     "metadata": {},
     "output_type": "display_data"
    }
   ],
   "source": [
    "sns.scatterplot(x='TSNE1', y='TSNE2', data=X_train_tsne, hue=y_train>15)"
   ]
  },
  {
   "cell_type": "code",
   "execution_count": 126,
   "metadata": {},
   "outputs": [
    {
     "data": {
      "application/vnd.plotly.v1+json": {
       "config": {
        "plotlyServerURL": "https://plot.ly"
       },
       "data": [
        {
         "marker": {
          "color": [
           1,
           1,
           1,
           1,
           1,
           1,
           0,
           0,
           0,
           1,
           0,
           0,
           1,
           0,
           1,
           0,
           1,
           1,
           1,
           1,
           1,
           1,
           1,
           1,
           0,
           1,
           1,
           1,
           0,
           1,
           1,
           1,
           0,
           1,
           0,
           1,
           1,
           1,
           1,
           0,
           1,
           1,
           1,
           1,
           1,
           1,
           1,
           0,
           1,
           1,
           1,
           1,
           1,
           1,
           1,
           0,
           1,
           1,
           1,
           1,
           1,
           1,
           1,
           0,
           0,
           1,
           1,
           1,
           1,
           1,
           1,
           1,
           1,
           1,
           0,
           1,
           1,
           1,
           1,
           1,
           1,
           1,
           0,
           0,
           1,
           0,
           1,
           0,
           1,
           1,
           1,
           0
          ],
          "colorscale": [
           [
            0,
            "#440154"
           ],
           [
            0.1111111111111111,
            "#482878"
           ],
           [
            0.2222222222222222,
            "#3e4989"
           ],
           [
            0.3333333333333333,
            "#31688e"
           ],
           [
            0.4444444444444444,
            "#26828e"
           ],
           [
            0.5555555555555556,
            "#1f9e89"
           ],
           [
            0.6666666666666666,
            "#35b779"
           ],
           [
            0.7777777777777778,
            "#6ece58"
           ],
           [
            0.8888888888888888,
            "#b5de2b"
           ],
           [
            1,
            "#fde725"
           ]
          ],
          "opacity": 0.8,
          "size": 5
         },
         "mode": "markers",
         "type": "scatter3d",
         "x": [
          2.6337952613830566,
          4.442777156829834,
          3.5695621967315674,
          6.265507698059082,
          9.51867961883545,
          7.92959451675415,
          3.001037120819092,
          6.564189434051514,
          7.360185623168945,
          2.3469150066375732,
          9.09078311920166,
          9.945012092590332,
          4.22454309463501,
          3.5728304386138916,
          7.653732776641846,
          9.767904281616211,
          8.845952987670898,
          9.713074684143066,
          2.319904088973999,
          5.705232620239258,
          4.52526330947876,
          5.384261608123779,
          3.0442287921905518,
          4.5373077392578125,
          4.299992561340332,
          5.305964469909668,
          4.658508777618408,
          2.9982635974884033,
          9.82147216796875,
          5.258063316345215,
          7.351665019989014,
          10.41550350189209,
          10.184602737426758,
          6.079605579376221,
          8.956893920898438,
          2.697288751602173,
          6.660567760467529,
          8.072152137756348,
          3.9893476963043213,
          8.279520034790039,
          4.25057315826416,
          3.4029223918914795,
          8.986798286437988,
          3.2887749671936035,
          3.5700838565826416,
          9.362309455871582,
          7.033382415771484,
          8.533555030822754,
          6.561014175415039,
          3.751115083694458,
          4.9259209632873535,
          2.7331314086914062,
          8.482242584228516,
          8.252262115478516,
          9.943603515625,
          7.499897003173828,
          5.544437885284424,
          8.876206398010254,
          6.90595817565918,
          3.494401693344116,
          7.43082332611084,
          7.26701021194458,
          2.11466908454895,
          8.563603401184082,
          9.216165542602539,
          4.974257946014404,
          8.377592086791992,
          8.365607261657715,
          3.8800606727600098,
          3.8997867107391357,
          4.310865879058838,
          8.280776977539062,
          7.833473205566406,
          8.267613410949707,
          9.295496940612793,
          5.104580402374268,
          3.583336353302002,
          5.363272190093994,
          8.0026273727417,
          6.7849531173706055,
          7.719233989715576,
          6.659855365753174,
          10.269052505493164,
          3.4928457736968994,
          7.348598003387451,
          9.853926658630371,
          3.937919855117798,
          8.350128173828125,
          2.9565927982330322,
          4.1154890060424805,
          4.859816074371338,
          4.659887790679932
         ],
         "y": [
          3.2014503479003906,
          2.450263023376465,
          3.801037311553955,
          2.34256911277771,
          2.514254331588745,
          1.8397799730300903,
          1.1954574584960938,
          2.939531087875366,
          1.7614729404449463,
          2.1366522312164307,
          2.6674439907073975,
          1.6531405448913574,
          2.4855732917785645,
          1.7588763236999512,
          1.190110683441162,
          2.7176477909088135,
          1.9282222986221313,
          1.5466082096099854,
          2.3221094608306885,
          3.749077320098877,
          2.6494312286376953,
          3.7457199096679688,
          2.6083240509033203,
          2.313586950302124,
          2.91838002204895,
          2.2656679153442383,
          4.290332317352295,
          2.7775940895080566,
          1.9979349374771118,
          3.7108535766601562,
          1.72871732711792,
          2.255424737930298,
          2.599294424057007,
          3.681313991546631,
          2.5256781578063965,
          2.8819236755371094,
          1.4068516492843628,
          0.9266510009765625,
          4.063770771026611,
          1.337404489517212,
          3.3374428749084473,
          3.3619978427886963,
          1.4364681243896484,
          3.061978578567505,
          2.9257869720458984,
          1.829400658607483,
          1.807414174079895,
          0.40908384323120117,
          0.8131000399589539,
          1.4240425825119019,
          3.324517011642456,
          1.6990031003952026,
          1.6884033679962158,
          0.8862012624740601,
          1.6946319341659546,
          2.3423495292663574,
          2.832526922225952,
          2.4058494567871094,
          0.7405665516853333,
          2.659788131713867,
          3.0926506519317627,
          1.9756590127944946,
          2.4834280014038086,
          2.2493343353271484,
          1.3664475679397583,
          3.1119749546051025,
          2.521015167236328,
          2.0708491802215576,
          2.6795804500579834,
          3.5951452255249023,
          3.30696964263916,
          3.0255424976348877,
          0.47003060579299927,
          0.007062338292598724,
          1.499455451965332,
          1.4290344715118408,
          2.293097496032715,
          3.043163537979126,
          1.7840920686721802,
          1.4344732761383057,
          2.620303153991699,
          2.4706740379333496,
          2.415226697921753,
          3.8177170753479004,
          -0.004054405726492405,
          2.2416083812713623,
          3.9526922702789307,
          0.8138301372528076,
          1.4814096689224243,
          4.062455654144287,
          3.5297298431396484,
          1.6520991325378418
         ],
         "z": [
          42,
          25.9,
          30,
          19,
          22.7,
          36,
          0.4,
          13,
          12.7,
          25.2,
          11.9,
          12.9,
          32.1,
          -10.2,
          43.4,
          11.4,
          21,
          24,
          94,
          15.7,
          34.2,
          21.5,
          53.6,
          27,
          12.3,
          18.3,
          25,
          21,
          13.7,
          28,
          23.8,
          21.4,
          11,
          58,
          13.3,
          87,
          27,
          20.8,
          18,
          14.6,
          67,
          78,
          20.3,
          55.3,
          17.5,
          16.7,
          21,
          0.2,
          18.1,
          37.2,
          23.3,
          41,
          16.5,
          29.5,
          15.4,
          12.8,
          25,
          18,
          29,
          29,
          16.6,
          31,
          37,
          14,
          11.1,
          75,
          15.3,
          19.2,
          54,
          29,
          34,
          16.8,
          25.9,
          51,
          11.5,
          17.4,
          58,
          41.8,
          46.2,
          20.5,
          19,
          19.4,
          9.2,
          10,
          80.7,
          11.1,
          26.3,
          9.9,
          43.5,
          20.7,
          21.8,
          15
         ]
        }
       ],
       "layout": {
        "height": 800,
        "scene": {
         "xaxis": {
          "title": {
           "text": "TSNE1"
          }
         },
         "yaxis": {
          "title": {
           "text": "TSNE2"
          }
         },
         "zaxis": {
          "title": {
           "text": "TIR"
          }
         }
        },
        "template": {
         "data": {
          "bar": [
           {
            "error_x": {
             "color": "#2a3f5f"
            },
            "error_y": {
             "color": "#2a3f5f"
            },
            "marker": {
             "line": {
              "color": "#E5ECF6",
              "width": 0.5
             },
             "pattern": {
              "fillmode": "overlay",
              "size": 10,
              "solidity": 0.2
             }
            },
            "type": "bar"
           }
          ],
          "barpolar": [
           {
            "marker": {
             "line": {
              "color": "#E5ECF6",
              "width": 0.5
             },
             "pattern": {
              "fillmode": "overlay",
              "size": 10,
              "solidity": 0.2
             }
            },
            "type": "barpolar"
           }
          ],
          "carpet": [
           {
            "aaxis": {
             "endlinecolor": "#2a3f5f",
             "gridcolor": "white",
             "linecolor": "white",
             "minorgridcolor": "white",
             "startlinecolor": "#2a3f5f"
            },
            "baxis": {
             "endlinecolor": "#2a3f5f",
             "gridcolor": "white",
             "linecolor": "white",
             "minorgridcolor": "white",
             "startlinecolor": "#2a3f5f"
            },
            "type": "carpet"
           }
          ],
          "choropleth": [
           {
            "colorbar": {
             "outlinewidth": 0,
             "ticks": ""
            },
            "type": "choropleth"
           }
          ],
          "contour": [
           {
            "colorbar": {
             "outlinewidth": 0,
             "ticks": ""
            },
            "colorscale": [
             [
              0,
              "#0d0887"
             ],
             [
              0.1111111111111111,
              "#46039f"
             ],
             [
              0.2222222222222222,
              "#7201a8"
             ],
             [
              0.3333333333333333,
              "#9c179e"
             ],
             [
              0.4444444444444444,
              "#bd3786"
             ],
             [
              0.5555555555555556,
              "#d8576b"
             ],
             [
              0.6666666666666666,
              "#ed7953"
             ],
             [
              0.7777777777777778,
              "#fb9f3a"
             ],
             [
              0.8888888888888888,
              "#fdca26"
             ],
             [
              1,
              "#f0f921"
             ]
            ],
            "type": "contour"
           }
          ],
          "contourcarpet": [
           {
            "colorbar": {
             "outlinewidth": 0,
             "ticks": ""
            },
            "type": "contourcarpet"
           }
          ],
          "heatmap": [
           {
            "colorbar": {
             "outlinewidth": 0,
             "ticks": ""
            },
            "colorscale": [
             [
              0,
              "#0d0887"
             ],
             [
              0.1111111111111111,
              "#46039f"
             ],
             [
              0.2222222222222222,
              "#7201a8"
             ],
             [
              0.3333333333333333,
              "#9c179e"
             ],
             [
              0.4444444444444444,
              "#bd3786"
             ],
             [
              0.5555555555555556,
              "#d8576b"
             ],
             [
              0.6666666666666666,
              "#ed7953"
             ],
             [
              0.7777777777777778,
              "#fb9f3a"
             ],
             [
              0.8888888888888888,
              "#fdca26"
             ],
             [
              1,
              "#f0f921"
             ]
            ],
            "type": "heatmap"
           }
          ],
          "heatmapgl": [
           {
            "colorbar": {
             "outlinewidth": 0,
             "ticks": ""
            },
            "colorscale": [
             [
              0,
              "#0d0887"
             ],
             [
              0.1111111111111111,
              "#46039f"
             ],
             [
              0.2222222222222222,
              "#7201a8"
             ],
             [
              0.3333333333333333,
              "#9c179e"
             ],
             [
              0.4444444444444444,
              "#bd3786"
             ],
             [
              0.5555555555555556,
              "#d8576b"
             ],
             [
              0.6666666666666666,
              "#ed7953"
             ],
             [
              0.7777777777777778,
              "#fb9f3a"
             ],
             [
              0.8888888888888888,
              "#fdca26"
             ],
             [
              1,
              "#f0f921"
             ]
            ],
            "type": "heatmapgl"
           }
          ],
          "histogram": [
           {
            "marker": {
             "pattern": {
              "fillmode": "overlay",
              "size": 10,
              "solidity": 0.2
             }
            },
            "type": "histogram"
           }
          ],
          "histogram2d": [
           {
            "colorbar": {
             "outlinewidth": 0,
             "ticks": ""
            },
            "colorscale": [
             [
              0,
              "#0d0887"
             ],
             [
              0.1111111111111111,
              "#46039f"
             ],
             [
              0.2222222222222222,
              "#7201a8"
             ],
             [
              0.3333333333333333,
              "#9c179e"
             ],
             [
              0.4444444444444444,
              "#bd3786"
             ],
             [
              0.5555555555555556,
              "#d8576b"
             ],
             [
              0.6666666666666666,
              "#ed7953"
             ],
             [
              0.7777777777777778,
              "#fb9f3a"
             ],
             [
              0.8888888888888888,
              "#fdca26"
             ],
             [
              1,
              "#f0f921"
             ]
            ],
            "type": "histogram2d"
           }
          ],
          "histogram2dcontour": [
           {
            "colorbar": {
             "outlinewidth": 0,
             "ticks": ""
            },
            "colorscale": [
             [
              0,
              "#0d0887"
             ],
             [
              0.1111111111111111,
              "#46039f"
             ],
             [
              0.2222222222222222,
              "#7201a8"
             ],
             [
              0.3333333333333333,
              "#9c179e"
             ],
             [
              0.4444444444444444,
              "#bd3786"
             ],
             [
              0.5555555555555556,
              "#d8576b"
             ],
             [
              0.6666666666666666,
              "#ed7953"
             ],
             [
              0.7777777777777778,
              "#fb9f3a"
             ],
             [
              0.8888888888888888,
              "#fdca26"
             ],
             [
              1,
              "#f0f921"
             ]
            ],
            "type": "histogram2dcontour"
           }
          ],
          "mesh3d": [
           {
            "colorbar": {
             "outlinewidth": 0,
             "ticks": ""
            },
            "type": "mesh3d"
           }
          ],
          "parcoords": [
           {
            "line": {
             "colorbar": {
              "outlinewidth": 0,
              "ticks": ""
             }
            },
            "type": "parcoords"
           }
          ],
          "pie": [
           {
            "automargin": true,
            "type": "pie"
           }
          ],
          "scatter": [
           {
            "fillpattern": {
             "fillmode": "overlay",
             "size": 10,
             "solidity": 0.2
            },
            "type": "scatter"
           }
          ],
          "scatter3d": [
           {
            "line": {
             "colorbar": {
              "outlinewidth": 0,
              "ticks": ""
             }
            },
            "marker": {
             "colorbar": {
              "outlinewidth": 0,
              "ticks": ""
             }
            },
            "type": "scatter3d"
           }
          ],
          "scattercarpet": [
           {
            "marker": {
             "colorbar": {
              "outlinewidth": 0,
              "ticks": ""
             }
            },
            "type": "scattercarpet"
           }
          ],
          "scattergeo": [
           {
            "marker": {
             "colorbar": {
              "outlinewidth": 0,
              "ticks": ""
             }
            },
            "type": "scattergeo"
           }
          ],
          "scattergl": [
           {
            "marker": {
             "colorbar": {
              "outlinewidth": 0,
              "ticks": ""
             }
            },
            "type": "scattergl"
           }
          ],
          "scattermapbox": [
           {
            "marker": {
             "colorbar": {
              "outlinewidth": 0,
              "ticks": ""
             }
            },
            "type": "scattermapbox"
           }
          ],
          "scatterpolar": [
           {
            "marker": {
             "colorbar": {
              "outlinewidth": 0,
              "ticks": ""
             }
            },
            "type": "scatterpolar"
           }
          ],
          "scatterpolargl": [
           {
            "marker": {
             "colorbar": {
              "outlinewidth": 0,
              "ticks": ""
             }
            },
            "type": "scatterpolargl"
           }
          ],
          "scatterternary": [
           {
            "marker": {
             "colorbar": {
              "outlinewidth": 0,
              "ticks": ""
             }
            },
            "type": "scatterternary"
           }
          ],
          "surface": [
           {
            "colorbar": {
             "outlinewidth": 0,
             "ticks": ""
            },
            "colorscale": [
             [
              0,
              "#0d0887"
             ],
             [
              0.1111111111111111,
              "#46039f"
             ],
             [
              0.2222222222222222,
              "#7201a8"
             ],
             [
              0.3333333333333333,
              "#9c179e"
             ],
             [
              0.4444444444444444,
              "#bd3786"
             ],
             [
              0.5555555555555556,
              "#d8576b"
             ],
             [
              0.6666666666666666,
              "#ed7953"
             ],
             [
              0.7777777777777778,
              "#fb9f3a"
             ],
             [
              0.8888888888888888,
              "#fdca26"
             ],
             [
              1,
              "#f0f921"
             ]
            ],
            "type": "surface"
           }
          ],
          "table": [
           {
            "cells": {
             "fill": {
              "color": "#EBF0F8"
             },
             "line": {
              "color": "white"
             }
            },
            "header": {
             "fill": {
              "color": "#C8D4E3"
             },
             "line": {
              "color": "white"
             }
            },
            "type": "table"
           }
          ]
         },
         "layout": {
          "annotationdefaults": {
           "arrowcolor": "#2a3f5f",
           "arrowhead": 0,
           "arrowwidth": 1
          },
          "autotypenumbers": "strict",
          "coloraxis": {
           "colorbar": {
            "outlinewidth": 0,
            "ticks": ""
           }
          },
          "colorscale": {
           "diverging": [
            [
             0,
             "#8e0152"
            ],
            [
             0.1,
             "#c51b7d"
            ],
            [
             0.2,
             "#de77ae"
            ],
            [
             0.3,
             "#f1b6da"
            ],
            [
             0.4,
             "#fde0ef"
            ],
            [
             0.5,
             "#f7f7f7"
            ],
            [
             0.6,
             "#e6f5d0"
            ],
            [
             0.7,
             "#b8e186"
            ],
            [
             0.8,
             "#7fbc41"
            ],
            [
             0.9,
             "#4d9221"
            ],
            [
             1,
             "#276419"
            ]
           ],
           "sequential": [
            [
             0,
             "#0d0887"
            ],
            [
             0.1111111111111111,
             "#46039f"
            ],
            [
             0.2222222222222222,
             "#7201a8"
            ],
            [
             0.3333333333333333,
             "#9c179e"
            ],
            [
             0.4444444444444444,
             "#bd3786"
            ],
            [
             0.5555555555555556,
             "#d8576b"
            ],
            [
             0.6666666666666666,
             "#ed7953"
            ],
            [
             0.7777777777777778,
             "#fb9f3a"
            ],
            [
             0.8888888888888888,
             "#fdca26"
            ],
            [
             1,
             "#f0f921"
            ]
           ],
           "sequentialminus": [
            [
             0,
             "#0d0887"
            ],
            [
             0.1111111111111111,
             "#46039f"
            ],
            [
             0.2222222222222222,
             "#7201a8"
            ],
            [
             0.3333333333333333,
             "#9c179e"
            ],
            [
             0.4444444444444444,
             "#bd3786"
            ],
            [
             0.5555555555555556,
             "#d8576b"
            ],
            [
             0.6666666666666666,
             "#ed7953"
            ],
            [
             0.7777777777777778,
             "#fb9f3a"
            ],
            [
             0.8888888888888888,
             "#fdca26"
            ],
            [
             1,
             "#f0f921"
            ]
           ]
          },
          "colorway": [
           "#636efa",
           "#EF553B",
           "#00cc96",
           "#ab63fa",
           "#FFA15A",
           "#19d3f3",
           "#FF6692",
           "#B6E880",
           "#FF97FF",
           "#FECB52"
          ],
          "font": {
           "color": "#2a3f5f"
          },
          "geo": {
           "bgcolor": "white",
           "lakecolor": "white",
           "landcolor": "#E5ECF6",
           "showlakes": true,
           "showland": true,
           "subunitcolor": "white"
          },
          "hoverlabel": {
           "align": "left"
          },
          "hovermode": "closest",
          "mapbox": {
           "style": "light"
          },
          "paper_bgcolor": "white",
          "plot_bgcolor": "#E5ECF6",
          "polar": {
           "angularaxis": {
            "gridcolor": "white",
            "linecolor": "white",
            "ticks": ""
           },
           "bgcolor": "#E5ECF6",
           "radialaxis": {
            "gridcolor": "white",
            "linecolor": "white",
            "ticks": ""
           }
          },
          "scene": {
           "xaxis": {
            "backgroundcolor": "#E5ECF6",
            "gridcolor": "white",
            "gridwidth": 2,
            "linecolor": "white",
            "showbackground": true,
            "ticks": "",
            "zerolinecolor": "white"
           },
           "yaxis": {
            "backgroundcolor": "#E5ECF6",
            "gridcolor": "white",
            "gridwidth": 2,
            "linecolor": "white",
            "showbackground": true,
            "ticks": "",
            "zerolinecolor": "white"
           },
           "zaxis": {
            "backgroundcolor": "#E5ECF6",
            "gridcolor": "white",
            "gridwidth": 2,
            "linecolor": "white",
            "showbackground": true,
            "ticks": "",
            "zerolinecolor": "white"
           }
          },
          "shapedefaults": {
           "line": {
            "color": "#2a3f5f"
           }
          },
          "ternary": {
           "aaxis": {
            "gridcolor": "white",
            "linecolor": "white",
            "ticks": ""
           },
           "baxis": {
            "gridcolor": "white",
            "linecolor": "white",
            "ticks": ""
           },
           "bgcolor": "#E5ECF6",
           "caxis": {
            "gridcolor": "white",
            "linecolor": "white",
            "ticks": ""
           }
          },
          "title": {
           "x": 0.05
          },
          "xaxis": {
           "automargin": true,
           "gridcolor": "white",
           "linecolor": "white",
           "ticks": "",
           "title": {
            "standoff": 15
           },
           "zerolinecolor": "white",
           "zerolinewidth": 2
          },
          "yaxis": {
           "automargin": true,
           "gridcolor": "white",
           "linecolor": "white",
           "ticks": "",
           "title": {
            "standoff": 15
           },
           "zerolinecolor": "white",
           "zerolinewidth": 2
          }
         }
        },
        "title": {
         "text": "3D Surface Plot"
        },
        "width": 800
       }
      },
      "text/html": [
       "<div>                            <div id=\"0208adcd-0d3c-4c32-a975-33fdb882fda8\" class=\"plotly-graph-div\" style=\"height:800px; width:800px;\"></div>            <script type=\"text/javascript\">                require([\"plotly\"], function(Plotly) {                    window.PLOTLYENV=window.PLOTLYENV || {};                                    if (document.getElementById(\"0208adcd-0d3c-4c32-a975-33fdb882fda8\")) {                    Plotly.newPlot(                        \"0208adcd-0d3c-4c32-a975-33fdb882fda8\",                        [{\"marker\":{\"color\":[1,1,1,1,1,1,0,0,0,1,0,0,1,0,1,0,1,1,1,1,1,1,1,1,0,1,1,1,0,1,1,1,0,1,0,1,1,1,1,0,1,1,1,1,1,1,1,0,1,1,1,1,1,1,1,0,1,1,1,1,1,1,1,0,0,1,1,1,1,1,1,1,1,1,0,1,1,1,1,1,1,1,0,0,1,0,1,0,1,1,1,0],\"colorscale\":[[0.0,\"#440154\"],[0.1111111111111111,\"#482878\"],[0.2222222222222222,\"#3e4989\"],[0.3333333333333333,\"#31688e\"],[0.4444444444444444,\"#26828e\"],[0.5555555555555556,\"#1f9e89\"],[0.6666666666666666,\"#35b779\"],[0.7777777777777778,\"#6ece58\"],[0.8888888888888888,\"#b5de2b\"],[1.0,\"#fde725\"]],\"opacity\":0.8,\"size\":5},\"mode\":\"markers\",\"x\":[2.6337952613830566,4.442777156829834,3.5695621967315674,6.265507698059082,9.51867961883545,7.92959451675415,3.001037120819092,6.564189434051514,7.360185623168945,2.3469150066375732,9.09078311920166,9.945012092590332,4.22454309463501,3.5728304386138916,7.653732776641846,9.767904281616211,8.845952987670898,9.713074684143066,2.319904088973999,5.705232620239258,4.52526330947876,5.384261608123779,3.0442287921905518,4.5373077392578125,4.299992561340332,5.305964469909668,4.658508777618408,2.9982635974884033,9.82147216796875,5.258063316345215,7.351665019989014,10.41550350189209,10.184602737426758,6.079605579376221,8.956893920898438,2.697288751602173,6.660567760467529,8.072152137756348,3.9893476963043213,8.279520034790039,4.25057315826416,3.4029223918914795,8.986798286437988,3.2887749671936035,3.5700838565826416,9.362309455871582,7.033382415771484,8.533555030822754,6.561014175415039,3.751115083694458,4.9259209632873535,2.7331314086914062,8.482242584228516,8.252262115478516,9.943603515625,7.499897003173828,5.544437885284424,8.876206398010254,6.90595817565918,3.494401693344116,7.43082332611084,7.26701021194458,2.11466908454895,8.563603401184082,9.216165542602539,4.974257946014404,8.377592086791992,8.365607261657715,3.8800606727600098,3.8997867107391357,4.310865879058838,8.280776977539062,7.833473205566406,8.267613410949707,9.295496940612793,5.104580402374268,3.583336353302002,5.363272190093994,8.0026273727417,6.7849531173706055,7.719233989715576,6.659855365753174,10.269052505493164,3.4928457736968994,7.348598003387451,9.853926658630371,3.937919855117798,8.350128173828125,2.9565927982330322,4.1154890060424805,4.859816074371338,4.659887790679932],\"y\":[3.2014503479003906,2.450263023376465,3.801037311553955,2.34256911277771,2.514254331588745,1.8397799730300903,1.1954574584960938,2.939531087875366,1.7614729404449463,2.1366522312164307,2.6674439907073975,1.6531405448913574,2.4855732917785645,1.7588763236999512,1.190110683441162,2.7176477909088135,1.9282222986221313,1.5466082096099854,2.3221094608306885,3.749077320098877,2.6494312286376953,3.7457199096679688,2.6083240509033203,2.313586950302124,2.91838002204895,2.2656679153442383,4.290332317352295,2.7775940895080566,1.9979349374771118,3.7108535766601562,1.72871732711792,2.255424737930298,2.599294424057007,3.681313991546631,2.5256781578063965,2.8819236755371094,1.4068516492843628,0.9266510009765625,4.063770771026611,1.337404489517212,3.3374428749084473,3.3619978427886963,1.4364681243896484,3.061978578567505,2.9257869720458984,1.829400658607483,1.807414174079895,0.40908384323120117,0.8131000399589539,1.4240425825119019,3.324517011642456,1.6990031003952026,1.6884033679962158,0.8862012624740601,1.6946319341659546,2.3423495292663574,2.832526922225952,2.4058494567871094,0.7405665516853333,2.659788131713867,3.0926506519317627,1.9756590127944946,2.4834280014038086,2.2493343353271484,1.3664475679397583,3.1119749546051025,2.521015167236328,2.0708491802215576,2.6795804500579834,3.5951452255249023,3.30696964263916,3.0255424976348877,0.47003060579299927,0.007062338292598724,1.499455451965332,1.4290344715118408,2.293097496032715,3.043163537979126,1.7840920686721802,1.4344732761383057,2.620303153991699,2.4706740379333496,2.415226697921753,3.8177170753479004,-0.004054405726492405,2.2416083812713623,3.9526922702789307,0.8138301372528076,1.4814096689224243,4.062455654144287,3.5297298431396484,1.6520991325378418],\"z\":[42.0,25.9,30.0,19.0,22.7,36.0,0.4,13.0,12.7,25.2,11.9,12.9,32.1,-10.2,43.4,11.4,21.0,24.0,94.0,15.7,34.2,21.5,53.6,27.0,12.3,18.3,25.0,21.0,13.7,28.0,23.8,21.4,11.0,58.0,13.3,87.0,27.0,20.8,18.0,14.6,67.0,78.0,20.3,55.3,17.5,16.7,21.0,0.2,18.1,37.2,23.3,41.0,16.5,29.5,15.4,12.8,25.0,18.0,29.0,29.0,16.6,31.0,37.0,14.0,11.1,75.0,15.3,19.2,54.0,29.0,34.0,16.8,25.9,51.0,11.5,17.4,58.0,41.8,46.2,20.5,19.0,19.4,9.2,10.0,80.7,11.1,26.3,9.9,43.5,20.7,21.8,15.0],\"type\":\"scatter3d\"}],                        {\"template\":{\"data\":{\"histogram2dcontour\":[{\"type\":\"histogram2dcontour\",\"colorbar\":{\"outlinewidth\":0,\"ticks\":\"\"},\"colorscale\":[[0.0,\"#0d0887\"],[0.1111111111111111,\"#46039f\"],[0.2222222222222222,\"#7201a8\"],[0.3333333333333333,\"#9c179e\"],[0.4444444444444444,\"#bd3786\"],[0.5555555555555556,\"#d8576b\"],[0.6666666666666666,\"#ed7953\"],[0.7777777777777778,\"#fb9f3a\"],[0.8888888888888888,\"#fdca26\"],[1.0,\"#f0f921\"]]}],\"choropleth\":[{\"type\":\"choropleth\",\"colorbar\":{\"outlinewidth\":0,\"ticks\":\"\"}}],\"histogram2d\":[{\"type\":\"histogram2d\",\"colorbar\":{\"outlinewidth\":0,\"ticks\":\"\"},\"colorscale\":[[0.0,\"#0d0887\"],[0.1111111111111111,\"#46039f\"],[0.2222222222222222,\"#7201a8\"],[0.3333333333333333,\"#9c179e\"],[0.4444444444444444,\"#bd3786\"],[0.5555555555555556,\"#d8576b\"],[0.6666666666666666,\"#ed7953\"],[0.7777777777777778,\"#fb9f3a\"],[0.8888888888888888,\"#fdca26\"],[1.0,\"#f0f921\"]]}],\"heatmap\":[{\"type\":\"heatmap\",\"colorbar\":{\"outlinewidth\":0,\"ticks\":\"\"},\"colorscale\":[[0.0,\"#0d0887\"],[0.1111111111111111,\"#46039f\"],[0.2222222222222222,\"#7201a8\"],[0.3333333333333333,\"#9c179e\"],[0.4444444444444444,\"#bd3786\"],[0.5555555555555556,\"#d8576b\"],[0.6666666666666666,\"#ed7953\"],[0.7777777777777778,\"#fb9f3a\"],[0.8888888888888888,\"#fdca26\"],[1.0,\"#f0f921\"]]}],\"heatmapgl\":[{\"type\":\"heatmapgl\",\"colorbar\":{\"outlinewidth\":0,\"ticks\":\"\"},\"colorscale\":[[0.0,\"#0d0887\"],[0.1111111111111111,\"#46039f\"],[0.2222222222222222,\"#7201a8\"],[0.3333333333333333,\"#9c179e\"],[0.4444444444444444,\"#bd3786\"],[0.5555555555555556,\"#d8576b\"],[0.6666666666666666,\"#ed7953\"],[0.7777777777777778,\"#fb9f3a\"],[0.8888888888888888,\"#fdca26\"],[1.0,\"#f0f921\"]]}],\"contourcarpet\":[{\"type\":\"contourcarpet\",\"colorbar\":{\"outlinewidth\":0,\"ticks\":\"\"}}],\"contour\":[{\"type\":\"contour\",\"colorbar\":{\"outlinewidth\":0,\"ticks\":\"\"},\"colorscale\":[[0.0,\"#0d0887\"],[0.1111111111111111,\"#46039f\"],[0.2222222222222222,\"#7201a8\"],[0.3333333333333333,\"#9c179e\"],[0.4444444444444444,\"#bd3786\"],[0.5555555555555556,\"#d8576b\"],[0.6666666666666666,\"#ed7953\"],[0.7777777777777778,\"#fb9f3a\"],[0.8888888888888888,\"#fdca26\"],[1.0,\"#f0f921\"]]}],\"surface\":[{\"type\":\"surface\",\"colorbar\":{\"outlinewidth\":0,\"ticks\":\"\"},\"colorscale\":[[0.0,\"#0d0887\"],[0.1111111111111111,\"#46039f\"],[0.2222222222222222,\"#7201a8\"],[0.3333333333333333,\"#9c179e\"],[0.4444444444444444,\"#bd3786\"],[0.5555555555555556,\"#d8576b\"],[0.6666666666666666,\"#ed7953\"],[0.7777777777777778,\"#fb9f3a\"],[0.8888888888888888,\"#fdca26\"],[1.0,\"#f0f921\"]]}],\"mesh3d\":[{\"type\":\"mesh3d\",\"colorbar\":{\"outlinewidth\":0,\"ticks\":\"\"}}],\"scatter\":[{\"fillpattern\":{\"fillmode\":\"overlay\",\"size\":10,\"solidity\":0.2},\"type\":\"scatter\"}],\"parcoords\":[{\"type\":\"parcoords\",\"line\":{\"colorbar\":{\"outlinewidth\":0,\"ticks\":\"\"}}}],\"scatterpolargl\":[{\"type\":\"scatterpolargl\",\"marker\":{\"colorbar\":{\"outlinewidth\":0,\"ticks\":\"\"}}}],\"bar\":[{\"error_x\":{\"color\":\"#2a3f5f\"},\"error_y\":{\"color\":\"#2a3f5f\"},\"marker\":{\"line\":{\"color\":\"#E5ECF6\",\"width\":0.5},\"pattern\":{\"fillmode\":\"overlay\",\"size\":10,\"solidity\":0.2}},\"type\":\"bar\"}],\"scattergeo\":[{\"type\":\"scattergeo\",\"marker\":{\"colorbar\":{\"outlinewidth\":0,\"ticks\":\"\"}}}],\"scatterpolar\":[{\"type\":\"scatterpolar\",\"marker\":{\"colorbar\":{\"outlinewidth\":0,\"ticks\":\"\"}}}],\"histogram\":[{\"marker\":{\"pattern\":{\"fillmode\":\"overlay\",\"size\":10,\"solidity\":0.2}},\"type\":\"histogram\"}],\"scattergl\":[{\"type\":\"scattergl\",\"marker\":{\"colorbar\":{\"outlinewidth\":0,\"ticks\":\"\"}}}],\"scatter3d\":[{\"type\":\"scatter3d\",\"line\":{\"colorbar\":{\"outlinewidth\":0,\"ticks\":\"\"}},\"marker\":{\"colorbar\":{\"outlinewidth\":0,\"ticks\":\"\"}}}],\"scattermapbox\":[{\"type\":\"scattermapbox\",\"marker\":{\"colorbar\":{\"outlinewidth\":0,\"ticks\":\"\"}}}],\"scatterternary\":[{\"type\":\"scatterternary\",\"marker\":{\"colorbar\":{\"outlinewidth\":0,\"ticks\":\"\"}}}],\"scattercarpet\":[{\"type\":\"scattercarpet\",\"marker\":{\"colorbar\":{\"outlinewidth\":0,\"ticks\":\"\"}}}],\"carpet\":[{\"aaxis\":{\"endlinecolor\":\"#2a3f5f\",\"gridcolor\":\"white\",\"linecolor\":\"white\",\"minorgridcolor\":\"white\",\"startlinecolor\":\"#2a3f5f\"},\"baxis\":{\"endlinecolor\":\"#2a3f5f\",\"gridcolor\":\"white\",\"linecolor\":\"white\",\"minorgridcolor\":\"white\",\"startlinecolor\":\"#2a3f5f\"},\"type\":\"carpet\"}],\"table\":[{\"cells\":{\"fill\":{\"color\":\"#EBF0F8\"},\"line\":{\"color\":\"white\"}},\"header\":{\"fill\":{\"color\":\"#C8D4E3\"},\"line\":{\"color\":\"white\"}},\"type\":\"table\"}],\"barpolar\":[{\"marker\":{\"line\":{\"color\":\"#E5ECF6\",\"width\":0.5},\"pattern\":{\"fillmode\":\"overlay\",\"size\":10,\"solidity\":0.2}},\"type\":\"barpolar\"}],\"pie\":[{\"automargin\":true,\"type\":\"pie\"}]},\"layout\":{\"autotypenumbers\":\"strict\",\"colorway\":[\"#636efa\",\"#EF553B\",\"#00cc96\",\"#ab63fa\",\"#FFA15A\",\"#19d3f3\",\"#FF6692\",\"#B6E880\",\"#FF97FF\",\"#FECB52\"],\"font\":{\"color\":\"#2a3f5f\"},\"hovermode\":\"closest\",\"hoverlabel\":{\"align\":\"left\"},\"paper_bgcolor\":\"white\",\"plot_bgcolor\":\"#E5ECF6\",\"polar\":{\"bgcolor\":\"#E5ECF6\",\"angularaxis\":{\"gridcolor\":\"white\",\"linecolor\":\"white\",\"ticks\":\"\"},\"radialaxis\":{\"gridcolor\":\"white\",\"linecolor\":\"white\",\"ticks\":\"\"}},\"ternary\":{\"bgcolor\":\"#E5ECF6\",\"aaxis\":{\"gridcolor\":\"white\",\"linecolor\":\"white\",\"ticks\":\"\"},\"baxis\":{\"gridcolor\":\"white\",\"linecolor\":\"white\",\"ticks\":\"\"},\"caxis\":{\"gridcolor\":\"white\",\"linecolor\":\"white\",\"ticks\":\"\"}},\"coloraxis\":{\"colorbar\":{\"outlinewidth\":0,\"ticks\":\"\"}},\"colorscale\":{\"sequential\":[[0.0,\"#0d0887\"],[0.1111111111111111,\"#46039f\"],[0.2222222222222222,\"#7201a8\"],[0.3333333333333333,\"#9c179e\"],[0.4444444444444444,\"#bd3786\"],[0.5555555555555556,\"#d8576b\"],[0.6666666666666666,\"#ed7953\"],[0.7777777777777778,\"#fb9f3a\"],[0.8888888888888888,\"#fdca26\"],[1.0,\"#f0f921\"]],\"sequentialminus\":[[0.0,\"#0d0887\"],[0.1111111111111111,\"#46039f\"],[0.2222222222222222,\"#7201a8\"],[0.3333333333333333,\"#9c179e\"],[0.4444444444444444,\"#bd3786\"],[0.5555555555555556,\"#d8576b\"],[0.6666666666666666,\"#ed7953\"],[0.7777777777777778,\"#fb9f3a\"],[0.8888888888888888,\"#fdca26\"],[1.0,\"#f0f921\"]],\"diverging\":[[0,\"#8e0152\"],[0.1,\"#c51b7d\"],[0.2,\"#de77ae\"],[0.3,\"#f1b6da\"],[0.4,\"#fde0ef\"],[0.5,\"#f7f7f7\"],[0.6,\"#e6f5d0\"],[0.7,\"#b8e186\"],[0.8,\"#7fbc41\"],[0.9,\"#4d9221\"],[1,\"#276419\"]]},\"xaxis\":{\"gridcolor\":\"white\",\"linecolor\":\"white\",\"ticks\":\"\",\"title\":{\"standoff\":15},\"zerolinecolor\":\"white\",\"automargin\":true,\"zerolinewidth\":2},\"yaxis\":{\"gridcolor\":\"white\",\"linecolor\":\"white\",\"ticks\":\"\",\"title\":{\"standoff\":15},\"zerolinecolor\":\"white\",\"automargin\":true,\"zerolinewidth\":2},\"scene\":{\"xaxis\":{\"backgroundcolor\":\"#E5ECF6\",\"gridcolor\":\"white\",\"linecolor\":\"white\",\"showbackground\":true,\"ticks\":\"\",\"zerolinecolor\":\"white\",\"gridwidth\":2},\"yaxis\":{\"backgroundcolor\":\"#E5ECF6\",\"gridcolor\":\"white\",\"linecolor\":\"white\",\"showbackground\":true,\"ticks\":\"\",\"zerolinecolor\":\"white\",\"gridwidth\":2},\"zaxis\":{\"backgroundcolor\":\"#E5ECF6\",\"gridcolor\":\"white\",\"linecolor\":\"white\",\"showbackground\":true,\"ticks\":\"\",\"zerolinecolor\":\"white\",\"gridwidth\":2}},\"shapedefaults\":{\"line\":{\"color\":\"#2a3f5f\"}},\"annotationdefaults\":{\"arrowcolor\":\"#2a3f5f\",\"arrowhead\":0,\"arrowwidth\":1},\"geo\":{\"bgcolor\":\"white\",\"landcolor\":\"#E5ECF6\",\"subunitcolor\":\"white\",\"showland\":true,\"showlakes\":true,\"lakecolor\":\"white\"},\"title\":{\"x\":0.05},\"mapbox\":{\"style\":\"light\"}}},\"title\":{\"text\":\"3D Surface Plot\"},\"scene\":{\"xaxis\":{\"title\":{\"text\":\"TSNE1\"}},\"yaxis\":{\"title\":{\"text\":\"TSNE2\"}},\"zaxis\":{\"title\":{\"text\":\"TIR\"}}},\"width\":800,\"height\":800},                        {\"responsive\": true}                    ).then(function(){\n",
       "                            \n",
       "var gd = document.getElementById('0208adcd-0d3c-4c32-a975-33fdb882fda8');\n",
       "var x = new MutationObserver(function (mutations, observer) {{\n",
       "        var display = window.getComputedStyle(gd).display;\n",
       "        if (!display || display === 'none') {{\n",
       "            console.log([gd, 'removed!']);\n",
       "            Plotly.purge(gd);\n",
       "            observer.disconnect();\n",
       "        }}\n",
       "}});\n",
       "\n",
       "// Listen for the removal of the full notebook cells\n",
       "var notebookContainer = gd.closest('#notebook-container');\n",
       "if (notebookContainer) {{\n",
       "    x.observe(notebookContainer, {childList: true});\n",
       "}}\n",
       "\n",
       "// Listen for the clearing of the current output cell\n",
       "var outputEl = gd.closest('.output');\n",
       "if (outputEl) {{\n",
       "    x.observe(outputEl, {childList: true});\n",
       "}}\n",
       "\n",
       "                        })                };                });            </script>        </div>"
      ]
     },
     "metadata": {},
     "output_type": "display_data"
    }
   ],
   "source": [
    "col_x = 'TSNE1'\n",
    "col_y = 'TSNE2'\n",
    "df = X_train_tsne\n",
    "\n",
    "fig = go.Figure(data=[go.Surface(x=df[col_x].values, \n",
    "                                 y=df[col_y].values, \n",
    "                                 z=y_train)])\n",
    "\n",
    "fig = go.Figure(data=[go.Scatter3d(\n",
    "    x=df[col_x].values, \n",
    "    y=df[col_y].values, \n",
    "    z=y_train,\n",
    "    mode='markers',\n",
    "    marker=dict(\n",
    "        size=5,\n",
    "        color=(y_train > 15).astype(int),\n",
    "        colorscale='viridis',\n",
    "        opacity=0.8\n",
    "    )\n",
    ")])\n",
    "\n",
    "# Customize the plot\n",
    "fig.update_layout(\n",
    "    title='3D Surface Plot',\n",
    "    scene=dict(\n",
    "        xaxis_title=col_x,\n",
    "        yaxis_title=col_y,\n",
    "        zaxis_title='TIR'\n",
    "    ),\n",
    "    width=800,\n",
    "    height=800\n",
    ")\n",
    "\n",
    "# Show the plot\n",
    "fig.show()"
   ]
  }
 ],
 "metadata": {
  "kernelspec": {
   "display_name": "mineral_prospect",
   "language": "python",
   "name": "python3"
  },
  "language_info": {
   "codemirror_mode": {
    "name": "ipython",
    "version": 3
   },
   "file_extension": ".py",
   "mimetype": "text/x-python",
   "name": "python",
   "nbconvert_exporter": "python",
   "pygments_lexer": "ipython3",
   "version": "-1.-1.-1"
  }
 },
 "nbformat": 4,
 "nbformat_minor": 2
}
