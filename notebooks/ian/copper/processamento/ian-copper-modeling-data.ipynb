{
 "cells": [
  {
   "cell_type": "markdown",
   "metadata": {},
   "source": [
    "# Data processing for modeling"
   ]
  },
  {
   "cell_type": "markdown",
   "metadata": {},
   "source": [
    "# Libraries"
   ]
  },
  {
   "cell_type": "code",
   "execution_count": 1,
   "metadata": {},
   "outputs": [],
   "source": [
    "import warnings\n",
    "warnings.filterwarnings(\"ignore\")\n",
    "\n",
    "import pandas as pd\n",
    "\n",
    "from constants import CAT_FEATURES, NUM_FEATURES\n",
    "\n",
    "from sklearn.preprocessing import StandardScaler\n",
    "from category_encoders import BinaryEncoder\n",
    "from sklearn.impute import KNNImputer\n",
    "from imblearn.over_sampling import SMOTE\n",
    "from imblearn.under_sampling import RandomUnderSampler\n",
    "\n",
    "from tqdm import tqdm"
   ]
  },
  {
   "cell_type": "markdown",
   "metadata": {},
   "source": [
    "# Data Loading"
   ]
  },
  {
   "cell_type": "code",
   "execution_count": 2,
   "metadata": {},
   "outputs": [],
   "source": [
    "X_train = pd.read_parquet(\"../../../../data/interim/copper/X_train.parquet\")\n",
    "X_test = pd.read_parquet(\"../../../../data/interim/copper/X_test.parquet\")\n",
    "y_train_cat = pd.read_parquet(\"../../../../data/interim/copper/y_train_cat.parquet\")"
   ]
  },
  {
   "cell_type": "markdown",
   "metadata": {},
   "source": [
    "# Processamento"
   ]
  },
  {
   "cell_type": "code",
   "execution_count": 3,
   "metadata": {},
   "outputs": [
    {
     "name": "stderr",
     "output_type": "stream",
     "text": [
      " 10%|█         | 1/10 [00:00<00:01,  6.85it/s]"
     ]
    },
    {
     "name": "stderr",
     "output_type": "stream",
     "text": [
      "100%|██████████| 10/10 [00:00<00:00, 27.29it/s]\n"
     ]
    }
   ],
   "source": [
    "#Binary encoding for categorical features\n",
    "binary_encoder = BinaryEncoder(cols=CAT_FEATURES)\n",
    "X_train_cat = binary_encoder.fit_transform(X_train[CAT_FEATURES])\n",
    "X_test_cat = binary_encoder.transform(X_test[CAT_FEATURES])\n",
    "\n",
    "#Standard scaling for numerical features\n",
    "scaler = StandardScaler()\n",
    "\n",
    "X_train_scaled = scaler.fit_transform(X_train[NUM_FEATURES])\n",
    "X_test_scaled = scaler.transform(X_test[NUM_FEATURES])\n",
    "\n",
    "X_train_scaled = pd.DataFrame(X_train_scaled, columns=NUM_FEATURES, index=X_train.index)\n",
    "X_test_scaled = pd.DataFrame(X_test_scaled, columns=NUM_FEATURES, index=X_test.index)\n",
    "\n",
    "X_train_pro = pd.concat([X_train_scaled, X_train_cat], axis=1)\n",
    "X_test_pro = pd.concat([X_test_scaled, X_test_cat], axis=1)\n",
    "\n",
    "#KNN imputer for missing values\n",
    "imputer = KNNImputer(n_neighbors=3)\n",
    "X_train_knn = imputer.fit_transform(X_train_pro)\n",
    "X_test_knn = imputer.transform(X_test_pro)\n",
    "\n",
    "X_train_knn = pd.DataFrame(X_train_knn, columns=X_train_pro.columns, index=X_train_pro.index)\n",
    "X_test_knn = pd.DataFrame(X_test_knn, columns=X_test_pro.columns, index=X_test_pro.index)\n",
    "\n",
    "X_list = []\n",
    "y_list = []\n",
    "\n",
    "#Repeted oversampling with SMOTE and random undersampling for data generation\n",
    "for i in tqdm(range(10)):\n",
    "\n",
    "    over = SMOTE(sampling_strategy=\"auto\", random_state=i)\n",
    "    X_train_knn_res, y_train_knn_res = over.fit_resample(X_train_knn, y_train_cat)\n",
    "        \n",
    "    under = RandomUnderSampler(sampling_strategy=\"auto\", random_state=i)\n",
    "    X_train_knn_res, y_train_knn_res = under.fit_resample(X_train_knn_res, y_train_knn_res)\n",
    "\n",
    "    X_list.append(X_train_knn_res)\n",
    "    y_list.append(y_train_knn_res)"
   ]
  },
  {
   "cell_type": "markdown",
   "metadata": {},
   "source": [
    "# Saving"
   ]
  },
  {
   "cell_type": "code",
   "execution_count": 4,
   "metadata": {},
   "outputs": [],
   "source": [
    "#Processed data is saved in parquet format\n",
    "X_train_knn.to_parquet(\"../../../../data/interim/copper/X_train_rf.parquet\")\n",
    "X_test_knn.to_parquet(\"../../../../data/interim/copper/X_test_rf.parquet\")\n",
    "\n",
    "for i, (X, y) in enumerate(zip(X_list, y_list)):\n",
    "    X.to_parquet(f\"../../../../data/interim/copper/X_train_bal/X_{i}.parquet\")\n",
    "    y.to_parquet(f\"../../../../data/interim/copper/y_train_bal/y_{i}.parquet\")\n"
   ]
  }
 ],
 "metadata": {
  "kernelspec": {
   "display_name": "mineral_prospect",
   "language": "python",
   "name": "python3"
  },
  "language_info": {
   "codemirror_mode": {
    "name": "ipython",
    "version": 3
   },
   "file_extension": ".py",
   "mimetype": "text/x-python",
   "name": "python",
   "nbconvert_exporter": "python",
   "pygments_lexer": "ipython3",
   "version": "3.12.5"
  }
 },
 "nbformat": 4,
 "nbformat_minor": 2
}
