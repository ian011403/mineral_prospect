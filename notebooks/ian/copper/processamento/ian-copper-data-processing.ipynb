{
 "cells": [
  {
   "cell_type": "markdown",
   "metadata": {},
   "source": [
    "# Copper Data Processing"
   ]
  },
  {
   "cell_type": "markdown",
   "metadata": {},
   "source": [
    "# Libraries"
   ]
  },
  {
   "cell_type": "code",
   "execution_count": 2,
   "metadata": {},
   "outputs": [],
   "source": [
    "import warnings\n",
    "warnings.filterwarnings(\"ignore\")\n",
    "\n",
    "import numpy as np\n",
    "import pandas as pd\n",
    "from sklearn.model_selection import train_test_split\n",
    "import seaborn as sns\n",
    "\n",
    "from constants import (\n",
    "    RENAME_DICT, TO_LOG10, FEATURES, MIN_TIR,\n",
    "    FILL_COLS, LOG_INF_REPL, UPPER_LIMIT_TIR\n",
    ")"
   ]
  },
  {
   "cell_type": "markdown",
   "metadata": {},
   "source": [
    "# Data Loading"
   ]
  },
  {
   "cell_type": "code",
   "execution_count": 3,
   "metadata": {},
   "outputs": [],
   "source": [
    "raw_copper_mines_df = pd.read_excel('../../../../data/raw/Cu_v2.xls', decimal=',', thousands='.')"
   ]
  },
  {
   "cell_type": "markdown",
   "metadata": {},
   "source": [
    "# Preprocessing"
   ]
  },
  {
   "cell_type": "code",
   "execution_count": 4,
   "metadata": {},
   "outputs": [],
   "source": [
    "#Colunms renaming\n",
    "raw_copper_mines_df.rename(columns=RENAME_DICT, inplace=True)\n",
    "\n",
    "#Treating grade data with NAN due to reservoir size 0\n",
    "raw_copper_mines_df.loc[raw_copper_mines_df['ORE_TONNAGE'] == 0, FILL_COLS] = np.nan\n",
    "raw_copper_mines_df['ORE_TONNAGE'].replace(0, np.nan, inplace=True)\n",
    "\n",
    "#Removing copper reservoir projects with no information for any column\n",
    "raw_copper_mines_df.dropna(how='all', inplace=True)\n",
    "\n",
    "#Adjust percentual value\n",
    "raw_copper_mines_df['COPPER_GRADE'] = raw_copper_mines_df['COPPER_GRADE']/100"
   ]
  },
  {
   "cell_type": "markdown",
   "metadata": {},
   "source": [
    "# Feature Engineering"
   ]
  },
  {
   "cell_type": "code",
   "execution_count": 5,
   "metadata": {},
   "outputs": [],
   "source": [
    "# Total density of gold and silver (g/tonne)\n",
    "raw_copper_mines_df['PRECIOUS_ORE_DENSITY'] = raw_copper_mines_df['GOLD_DENSITY'] + raw_copper_mines_df['SILVER_DENSITY']\n",
    "\n",
    "# Estimated amount of gold inside the reservoir (g)\n",
    "raw_copper_mines_df['GOLD_GRAMS'] = raw_copper_mines_df['ORE_TONNAGE'] * raw_copper_mines_df['GOLD_DENSITY']\n",
    "\n",
    "# Estimated amount of silver inside the reservoir (g)\n",
    "raw_copper_mines_df['SILVER_GRAMS'] = raw_copper_mines_df['ORE_TONNAGE'] * raw_copper_mines_df['SILVER_DENSITY']\n",
    "\n",
    "# Estimated total amount of silver and gold inside the reservoir (g)\n",
    "raw_copper_mines_df['PRECIOUS_GRAMS'] = raw_copper_mines_df['ORE_TONNAGE'] * raw_copper_mines_df['PRECIOUS_ORE_DENSITY']\n",
    "\n",
    "# Estimated amount of copper inside the reservoir (tons)\n",
    "raw_copper_mines_df['COPPER_TONNAGE'] = raw_copper_mines_df['ORE_TONNAGE'] * raw_copper_mines_df['COPPER_GRADE']\n",
    "\n",
    "# Indicator of total amount of copper, gold and silver (these minerals usualy are found together). Non fisical estimaton.\n",
    "raw_copper_mines_df['ECONOMIC_AMOUNT'] = (raw_copper_mines_df['COPPER_TONNAGE'] + raw_copper_mines_df['PRECIOUS_GRAMS'])\n",
    "\n",
    "# Grouping SKARN and SHD geologic body types into the same class for balancing  \n",
    "raw_copper_mines_df['GEOLOGIC_ORE_BODY_TYPE'] = (\n",
    "    raw_copper_mines_df['GEOLOGIC_ORE_BODY_TYPE']\n",
    "    .apply(lambda x: \"SKARN-SHD\" if x in [\"SKARN\", \"SHD\"] else x)\n",
    ")\n",
    "\n",
    "# Indicator of cost per amount of profitable metals\n",
    "raw_copper_mines_df['INITIAL_COST_PER_AMOUNT'] = raw_copper_mines_df['INITIAL_COST'] / raw_copper_mines_df['ECONOMIC_AMOUNT']\n",
    "\n",
    "# Grouping In-Situ Leach and Tailings classes of mine into the group Open Pit\n",
    "raw_copper_mines_df['MINE_TYPE'] = (\n",
    "    raw_copper_mines_df['MINE_TYPE']\n",
    "    .apply(lambda x: \"Open Pit\" if x in [\"In-Situ Leach\", \"Tailings\"] else x)\n",
    ")\n",
    "\n",
    "# Logarithmic transformation on 10 to create scale informative features. \n",
    "# Negative infinite is replaced by -100 \n",
    "for col in TO_LOG10:\n",
    "    raw_copper_mines_df['LOG_10_' + col] = np.log10(raw_copper_mines_df[col])\n",
    "    raw_copper_mines_df['LOG_10_' + col].replace(-np.inf, LOG_INF_REPL, inplace=True)"
   ]
  },
  {
   "cell_type": "markdown",
   "metadata": {},
   "source": [
    "# Train Test Split"
   ]
  },
  {
   "cell_type": "code",
   "execution_count": 6,
   "metadata": {},
   "outputs": [],
   "source": [
    "raw_copper_mines_df = raw_copper_mines_df.dropna(subset=['TIR'])\n",
    "\n",
    "#Select only the modeling features\n",
    "X = raw_copper_mines_df[FEATURES]\n",
    "y = raw_copper_mines_df['TIR']\n",
    "\n",
    "#Spliting 94 for testing\n",
    "X_train, X_test, y_train, y_test = train_test_split(X, y, test_size=94, random_state=42)"
   ]
  },
  {
   "cell_type": "code",
   "execution_count": 7,
   "metadata": {},
   "outputs": [
    {
     "data": {
      "text/plain": [
       "Text(0.5, 1.0, 'Training target values distribution')"
      ]
     },
     "execution_count": 7,
     "metadata": {},
     "output_type": "execute_result"
    },
    {
     "data": {
      "image/png": "[encoded data removed]",
      "text/plain": [
       "<Figure size 640x480 with 1 Axes>"
      ]
     },
     "metadata": {},
     "output_type": "display_data"
    }
   ],
   "source": [
    "ax = sns.histplot(y_train)\n",
    "ax.set_title(\"Training target values distribution\")"
   ]
  },
  {
   "cell_type": "code",
   "execution_count": 8,
   "metadata": {},
   "outputs": [
    {
     "name": "stdout",
     "output_type": "stream",
     "text": [
      "Data shapes\n",
      "(100, 27)\n",
      "(94, 27)\n"
     ]
    }
   ],
   "source": [
    "#Removing IRR/TIR outliers (>125) from the training dataset\n",
    "X_train = X_train[y_train < UPPER_LIMIT_TIR]\n",
    "y_train = y_train[y_train < UPPER_LIMIT_TIR]\n",
    "\n",
    "\n",
    "train_df = pd.concat([X_train, y_train], axis=1)\n",
    "test_df = pd.concat([X_test, y_test], axis=1)\n",
    "\n",
    "#Classification of unpromising projects, class tagerts\n",
    "y_train_cat = y_train < MIN_TIR\n",
    "y_test_cat = y_test < MIN_TIR\n",
    "\n",
    "y_train = pd.DataFrame(y_train)\n",
    "y_test = pd.DataFrame(y_test)\n",
    "y_train_cat = pd.DataFrame(y_train_cat)\n",
    "y_test_cat = pd.DataFrame(y_test_cat)\n",
    "\n",
    "print(\"Data shapes\")\n",
    "print(X_train.shape)\n",
    "print(X_test.shape)"
   ]
  },
  {
   "cell_type": "code",
   "execution_count": 9,
   "metadata": {},
   "outputs": [
    {
     "data": {
      "text/plain": [
       "TIR  \n",
       "False    0.85\n",
       "True     0.15\n",
       "Name: proportion, dtype: float64"
      ]
     },
     "execution_count": 9,
     "metadata": {},
     "output_type": "execute_result"
    }
   ],
   "source": [
    "#Asserting the target distribution\n",
    "y_train_cat.value_counts(normalize=True)"
   ]
  },
  {
   "cell_type": "code",
   "execution_count": 10,
   "metadata": {},
   "outputs": [
    {
     "data": {
      "text/plain": [
       "0.02370370370370371"
      ]
     },
     "execution_count": 10,
     "metadata": {},
     "output_type": "execute_result"
    }
   ],
   "source": [
    "# Mean of missing values in the training dataset per column\n",
    "(X_train.isnull().sum()/X_train.shape[0]).mean()"
   ]
  },
  {
   "cell_type": "markdown",
   "metadata": {},
   "source": [
    "# Saving"
   ]
  },
  {
   "cell_type": "code",
   "execution_count": 12,
   "metadata": {},
   "outputs": [],
   "source": [
    "raw_copper_mines_df.to_parquet(\"../../../../data/processed/copper/copper_data.parquet\")\n",
    "train_df.to_parquet(\"../../../../data/processed/copper/train_data.parquet\")\n",
    "test_df.to_parquet(\"../../../../data/processed/copper/test_data.parquet\")\n",
    "X_train.to_parquet(\"../../../../data/interim/copper/X_train.parquet\")\n",
    "X_test.to_parquet(\"../../../../data/interim/copper/X_test.parquet\")\n",
    "y_train.to_parquet(\"../../../../data/interim/copper/y_train.parquet\")\n",
    "y_test.to_parquet(\"../../../../data/interim/copper/y_test.parquet\")\n",
    "y_train_cat.to_parquet(\"../../../../data/interim/copper/y_train_cat.parquet\")\n",
    "y_test_cat.to_parquet(\"../../../../data/interim/copper/y_test_cat.parquet\")"
   ]
  }
 ],
 "metadata": {
  "kernelspec": {
   "display_name": "mineral_prospect",
   "language": "python",
   "name": "python3"
  },
  "language_info": {
   "codemirror_mode": {
    "name": "ipython",
    "version": 3
   },
   "file_extension": ".py",
   "mimetype": "text/x-python",
   "name": "python",
   "nbconvert_exporter": "python",
   "pygments_lexer": "ipython3",
   "version": "3.12.5"
  }
 },
 "nbformat": 4,
 "nbformat_minor": 2
}
