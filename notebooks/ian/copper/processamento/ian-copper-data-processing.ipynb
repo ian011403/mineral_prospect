{
 "cells": [
  {
   "cell_type": "markdown",
   "metadata": {},
   "source": [
    "# Copper Data Processing"
   ]
  },
  {
   "cell_type": "markdown",
   "metadata": {},
   "source": [
    "# Libraries"
   ]
  },
  {
   "cell_type": "code",
   "execution_count": 1,
   "metadata": {},
   "outputs": [],
   "source": [
    "import warnings\n",
    "warnings.filterwarnings(\"ignore\")\n",
    "\n",
    "import numpy as np\n",
    "import pandas as pd\n",
    "from sklearn.model_selection import train_test_split\n",
    "\n",
    "from constants import (\n",
    "    RENAME_DICT, TO_LOG10, FEATURES, MIN_TIR,\n",
    "    FILL_COLS, LOG_INF_REPL, UPPER_LIMIT_TIR\n",
    ")"
   ]
  },
  {
   "cell_type": "markdown",
   "metadata": {},
   "source": [
    "# Data Loading"
   ]
  },
  {
   "cell_type": "code",
   "execution_count": 2,
   "metadata": {},
   "outputs": [],
   "source": [
    "raw_copper_mines_df = pd.read_excel('../../../data/raw/Cu_v2.xls', decimal=',', thousands='.')"
   ]
  },
  {
   "cell_type": "markdown",
   "metadata": {},
   "source": [
    "# Preprocessamento"
   ]
  },
  {
   "cell_type": "code",
   "execution_count": 3,
   "metadata": {},
   "outputs": [],
   "source": [
    "raw_copper_mines_df.rename(columns=RENAME_DICT, inplace=True)\n",
    "\n",
    "raw_copper_mines_df.loc[raw_copper_mines_df['ORE_TONNAGE'] == 0, FILL_COLS] = np.nan\n",
    "\n",
    "raw_copper_mines_df['ORE_TONNAGE'].replace(0, np.nan, inplace=True)\n",
    "#raw_copper_mines_df.drop(columns=DROP_COLUMNS, inplace=True)\n",
    "raw_copper_mines_df.dropna(how='all', inplace=True)"
   ]
  },
  {
   "cell_type": "markdown",
   "metadata": {},
   "source": [
    "# Feature Engineering"
   ]
  },
  {
   "cell_type": "code",
   "execution_count": 4,
   "metadata": {},
   "outputs": [],
   "source": [
    "raw_copper_mines_df['COPPER_GRADE'] = raw_copper_mines_df['COPPER_GRADE']/100\n",
    "\n",
    "raw_copper_mines_df['PRECIOUS_ORE_DENSITY'] = raw_copper_mines_df['GOLD_DENSITY'] + raw_copper_mines_df['SILVER_DENSITY']\n",
    "raw_copper_mines_df['GOLD_TONNAGE'] = raw_copper_mines_df['ORE_TONNAGE'] * raw_copper_mines_df['GOLD_DENSITY']\n",
    "raw_copper_mines_df['SILVER_TONNAGE'] = raw_copper_mines_df['ORE_TONNAGE'] * raw_copper_mines_df['SILVER_DENSITY']\n",
    "raw_copper_mines_df['PRECIOUS_TONNAGE'] = raw_copper_mines_df['ORE_TONNAGE'] * raw_copper_mines_df['PRECIOUS_ORE_DENSITY']\n",
    "raw_copper_mines_df['COPPER_TONNAGE'] = raw_copper_mines_df['ORE_TONNAGE'] * raw_copper_mines_df['COPPER_GRADE']\n",
    "raw_copper_mines_df['ECONOMIC_TONNAGE'] = (raw_copper_mines_df['COPPER_TONNAGE'] + raw_copper_mines_df['PRECIOUS_TONNAGE'])\n",
    "raw_copper_mines_df['GEOLOGIC_ORE_BODY_TYPE'] = raw_copper_mines_df['GEOLOGIC_ORE_BODY_TYPE'].apply(lambda x: \"SKARN-SHD\" if x in [\"SKARN\", \"SHD\"] else x)\n",
    "raw_copper_mines_df['INITIAL_COST_PER_TONNE'] = raw_copper_mines_df['INITIAL_COST'] / raw_copper_mines_df['ECONOMIC_TONNAGE']\n",
    "raw_copper_mines_df['PRICE_PER_TONNE_MAIN_ORE'] = raw_copper_mines_df['PRICE_PER_TONNE_MAIN_ORE'].fillna(-1)\n",
    "raw_copper_mines_df['MINE_TYPE'] = raw_copper_mines_df['MINE_TYPE'].apply(lambda x: \"Open Pit\" if x in [\"In-Situ Leach\", \"Tailings\"] else x)\n",
    "\n",
    "for col in TO_LOG10:\n",
    "    raw_copper_mines_df['LOG_10_' + col] = np.log10(raw_copper_mines_df[col])\n",
    "    raw_copper_mines_df['LOG_10_' + col].replace(-np.inf, LOG_INF_REPL, inplace=True)"
   ]
  },
  {
   "cell_type": "markdown",
   "metadata": {},
   "source": [
    "# Separação de treino e teste"
   ]
  },
  {
   "cell_type": "code",
   "execution_count": 10,
   "metadata": {},
   "outputs": [
    {
     "name": "stdout",
     "output_type": "stream",
     "text": [
      "(100, 27)\n",
      "(94, 27)\n"
     ]
    }
   ],
   "source": [
    "raw_copper_mines_df = raw_copper_mines_df.dropna(subset=['TIR'])\n",
    "X = raw_copper_mines_df[FEATURES]\n",
    "y = raw_copper_mines_df['TIR']\n",
    "\n",
    "X_train, X_test, y_train, y_test = train_test_split(X, y, test_size=94, random_state=42)\n",
    "\n",
    "X_train = X_train[y_train < UPPER_LIMIT_TIR]\n",
    "y_train = y_train[y_train < UPPER_LIMIT_TIR]\n",
    "\n",
    "train_df = pd.concat([X_train, y_train], axis=1)\n",
    "test_df = pd.concat([X_test, y_test], axis=1)\n",
    "\n",
    "y_train_cat = y_train < MIN_TIR\n",
    "y_test_cat = y_test < MIN_TIR\n",
    "\n",
    "y_train = pd.DataFrame(y_train)\n",
    "y_test = pd.DataFrame(y_test)\n",
    "y_train_cat = pd.DataFrame(y_train_cat)\n",
    "y_test_cat = pd.DataFrame(y_test_cat)\n",
    "\n",
    "print(X_train.shape)\n",
    "print(X_test.shape)"
   ]
  },
  {
   "cell_type": "markdown",
   "metadata": {},
   "source": [
    "# Saving"
   ]
  },
  {
   "cell_type": "code",
   "execution_count": 13,
   "metadata": {},
   "outputs": [],
   "source": [
    "raw_copper_mines_df.to_parquet(\"../../../data/processed/copper/copper_data.parquet\")\n",
    "train_df.to_parquet(\"../../../data/processed/copper/train_data.parquet\")\n",
    "test_df.to_parquet(\"../../../data/processed/copper/test_data.parquet\")\n",
    "X_train.to_parquet(\"../../../data/interim/copper/X_train.parquet\")\n",
    "X_test.to_parquet(\"../../../data/interim/copper/X_test.parquet\")\n",
    "y_train.to_parquet(\"../../../data/interim/copper/y_train.parquet\")\n",
    "y_test.to_parquet(\"../../../data/interim/copper/y_test.parquet\")\n",
    "y_train_cat.to_parquet(\"../../../data/interim/copper/y_train_cat.parquet\")\n",
    "y_test_cat.to_parquet(\"../../../data/interim/copper/y_test_cat.parquet\")"
   ]
  }
 ],
 "metadata": {
  "kernelspec": {
   "display_name": "mineral_prospect",
   "language": "python",
   "name": "python3"
  },
  "language_info": {
   "codemirror_mode": {
    "name": "ipython",
    "version": 3
   },
   "file_extension": ".py",
   "mimetype": "text/x-python",
   "name": "python",
   "nbconvert_exporter": "python",
   "pygments_lexer": "ipython3",
   "version": "3.12.5"
  }
 },
 "nbformat": 4,
 "nbformat_minor": 2
}
